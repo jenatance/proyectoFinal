{
 "cells": [
  {
   "cell_type": "markdown",
   "id": "01806e3f",
   "metadata": {},
   "source": [
    "# INSERTAR TABLAS COMENTARIOS"
   ]
  },
  {
   "cell_type": "code",
   "execution_count": 1,
   "id": "6e56917e",
   "metadata": {},
   "outputs": [],
   "source": [
    "import pandas as pd\n",
    "\n",
    "import mysql.connector as conn\n",
    "\n",
    "# %pip install mysql-connector-python"
   ]
  },
  {
   "cell_type": "code",
   "execution_count": 130,
   "id": "792e3bee",
   "metadata": {},
   "outputs": [],
   "source": [
    "ComentariosEventos = pd.read_csv('../data/ComentariosEventos.csv')\n",
    "ComentariosPropuestas = pd.read_csv('../data/ComentariosPropuestas.csv')"
   ]
  },
  {
   "cell_type": "code",
   "execution_count": 48,
   "id": "8e45448d",
   "metadata": {},
   "outputs": [
    {
     "data": {
      "text/html": [
       "<div>\n",
       "<style scoped>\n",
       "    .dataframe tbody tr th:only-of-type {\n",
       "        vertical-align: middle;\n",
       "    }\n",
       "\n",
       "    .dataframe tbody tr th {\n",
       "        vertical-align: top;\n",
       "    }\n",
       "\n",
       "    .dataframe thead th {\n",
       "        text-align: right;\n",
       "    }\n",
       "</style>\n",
       "<table border=\"1\" class=\"dataframe\">\n",
       "  <thead>\n",
       "    <tr style=\"text-align: right;\">\n",
       "      <th></th>\n",
       "      <th>idComentarioEvento</th>\n",
       "      <th>idEvento</th>\n",
       "      <th>idUsuario</th>\n",
       "      <th>comentario</th>\n",
       "      <th>fecha</th>\n",
       "      <th>numLikes</th>\n",
       "    </tr>\n",
       "  </thead>\n",
       "  <tbody>\n",
       "    <tr>\n",
       "      <th>0</th>\n",
       "      <td>0</td>\n",
       "      <td>1187</td>\n",
       "      <td>543</td>\n",
       "      <td>Expande este mensaje de referencia para saber ...</td>\n",
       "      <td>2018-01-04</td>\n",
       "      <td>12</td>\n",
       "    </tr>\n",
       "    <tr>\n",
       "      <th>1</th>\n",
       "      <td>1</td>\n",
       "      <td>797</td>\n",
       "      <td>7579</td>\n",
       "      <td>\\nlita_bcn dijo:\\nJo primas, pues ya lo siento...</td>\n",
       "      <td>2019-07-12</td>\n",
       "      <td>4</td>\n",
       "    </tr>\n",
       "    <tr>\n",
       "      <th>2</th>\n",
       "      <td>2</td>\n",
       "      <td>292</td>\n",
       "      <td>5100</td>\n",
       "      <td>Maria ya es feliz en la playa.ya no tiene esa ...</td>\n",
       "      <td>2019-07-12</td>\n",
       "      <td>17</td>\n",
       "    </tr>\n",
       "    <tr>\n",
       "      <th>3</th>\n",
       "      <td>3</td>\n",
       "      <td>1012</td>\n",
       "      <td>5910</td>\n",
       "      <td>\\nRosa.13 dijo:\\nEn la privada piden un 8? eso...</td>\n",
       "      <td>2019-07-12</td>\n",
       "      <td>8</td>\n",
       "    </tr>\n",
       "    <tr>\n",
       "      <th>4</th>\n",
       "      <td>4</td>\n",
       "      <td>633</td>\n",
       "      <td>540</td>\n",
       "      <td>\\nlita_bcn dijo:\\nJo primas, pues ya lo siento...</td>\n",
       "      <td>2019-07-12</td>\n",
       "      <td>0</td>\n",
       "    </tr>\n",
       "  </tbody>\n",
       "</table>\n",
       "</div>"
      ],
      "text/plain": [
       "   idComentarioEvento  idEvento  idUsuario  \\\n",
       "0                   0      1187        543   \n",
       "1                   1       797       7579   \n",
       "2                   2       292       5100   \n",
       "3                   3      1012       5910   \n",
       "4                   4       633        540   \n",
       "\n",
       "                                          comentario       fecha  numLikes  \n",
       "0  Expande este mensaje de referencia para saber ...  2018-01-04        12  \n",
       "1  \\nlita_bcn dijo:\\nJo primas, pues ya lo siento...  2019-07-12         4  \n",
       "2  Maria ya es feliz en la playa.ya no tiene esa ...  2019-07-12        17  \n",
       "3  \\nRosa.13 dijo:\\nEn la privada piden un 8? eso...  2019-07-12         8  \n",
       "4  \\nlita_bcn dijo:\\nJo primas, pues ya lo siento...  2019-07-12         0  "
      ]
     },
     "execution_count": 48,
     "metadata": {},
     "output_type": "execute_result"
    }
   ],
   "source": [
    "ComentariosEventos.head()"
   ]
  },
  {
   "cell_type": "code",
   "execution_count": 131,
   "id": "3cf602f0",
   "metadata": {},
   "outputs": [
    {
     "data": {
      "text/html": [
       "<div>\n",
       "<style scoped>\n",
       "    .dataframe tbody tr th:only-of-type {\n",
       "        vertical-align: middle;\n",
       "    }\n",
       "\n",
       "    .dataframe tbody tr th {\n",
       "        vertical-align: top;\n",
       "    }\n",
       "\n",
       "    .dataframe thead th {\n",
       "        text-align: right;\n",
       "    }\n",
       "</style>\n",
       "<table border=\"1\" class=\"dataframe\">\n",
       "  <thead>\n",
       "    <tr style=\"text-align: right;\">\n",
       "      <th></th>\n",
       "      <th>idComentarioPropuesta</th>\n",
       "      <th>idPropuesta</th>\n",
       "      <th>idUsuario</th>\n",
       "      <th>comentario</th>\n",
       "      <th>fecha</th>\n",
       "      <th>numLikes</th>\n",
       "    </tr>\n",
       "  </thead>\n",
       "  <tbody>\n",
       "    <tr>\n",
       "      <th>0</th>\n",
       "      <td>0</td>\n",
       "      <td>1056</td>\n",
       "      <td>3248</td>\n",
       "      <td>\\nVive la vida dijo:\\nPero porque mete barriga...</td>\n",
       "      <td>2022-02-17</td>\n",
       "      <td>15</td>\n",
       "    </tr>\n",
       "    <tr>\n",
       "      <th>1</th>\n",
       "      <td>1</td>\n",
       "      <td>430</td>\n",
       "      <td>3168</td>\n",
       "      <td>Yo tengo sentimientos encontrados con lo de ay...</td>\n",
       "      <td>2022-02-17</td>\n",
       "      <td>14</td>\n",
       "    </tr>\n",
       "    <tr>\n",
       "      <th>2</th>\n",
       "      <td>2</td>\n",
       "      <td>388</td>\n",
       "      <td>660</td>\n",
       "      <td>He ido a ver los vídeos y sinceramente creo qu...</td>\n",
       "      <td>2022-02-17</td>\n",
       "      <td>9</td>\n",
       "    </tr>\n",
       "    <tr>\n",
       "      <th>3</th>\n",
       "      <td>3</td>\n",
       "      <td>376</td>\n",
       "      <td>11989</td>\n",
       "      <td>Las redes te hacen polvo la cabeza, que busque...</td>\n",
       "      <td>2022-02-17</td>\n",
       "      <td>25</td>\n",
       "    </tr>\n",
       "    <tr>\n",
       "      <th>4</th>\n",
       "      <td>4</td>\n",
       "      <td>635</td>\n",
       "      <td>4815</td>\n",
       "      <td>Tal vez debería pensar porque las hay que reci...</td>\n",
       "      <td>2022-02-17</td>\n",
       "      <td>8</td>\n",
       "    </tr>\n",
       "  </tbody>\n",
       "</table>\n",
       "</div>"
      ],
      "text/plain": [
       "   idComentarioPropuesta  idPropuesta  idUsuario  \\\n",
       "0                      0         1056       3248   \n",
       "1                      1          430       3168   \n",
       "2                      2          388        660   \n",
       "3                      3          376      11989   \n",
       "4                      4          635       4815   \n",
       "\n",
       "                                          comentario       fecha  numLikes  \n",
       "0  \\nVive la vida dijo:\\nPero porque mete barriga...  2022-02-17        15  \n",
       "1  Yo tengo sentimientos encontrados con lo de ay...  2022-02-17        14  \n",
       "2  He ido a ver los vídeos y sinceramente creo qu...  2022-02-17         9  \n",
       "3  Las redes te hacen polvo la cabeza, que busque...  2022-02-17        25  \n",
       "4  Tal vez debería pensar porque las hay que reci...  2022-02-17         8  "
      ]
     },
     "execution_count": 131,
     "metadata": {},
     "output_type": "execute_result"
    }
   ],
   "source": [
    "ComentariosPropuestas.head()"
   ]
  },
  {
   "cell_type": "code",
   "execution_count": 70,
   "id": "5c086753",
   "metadata": {},
   "outputs": [],
   "source": [
    "db = conn.connect(host = 'localhost', user = 'root', passwd='', database = 'fackulty')\n",
    "\n",
    "cursor = db.cursor()"
   ]
  },
  {
   "cell_type": "code",
   "execution_count": 71,
   "id": "0820cbbe",
   "metadata": {},
   "outputs": [
    {
     "name": "stdout",
     "output_type": "stream",
     "text": [
      "('categorias',)\n",
      "('categoriaseventos',)\n",
      "('categoriaspropuestas',)\n",
      "('comentarioseventos',)\n",
      "('comentariospropuestas',)\n",
      "('eventos',)\n",
      "('participanteseventos',)\n",
      "('participantespropuestas',)\n",
      "('propuestas',)\n",
      "('universidades',)\n",
      "('usuarios',)\n"
     ]
    }
   ],
   "source": [
    "cursor.execute('show tables;') # comprobando conexión\n",
    "\n",
    "for x in cursor:\n",
    "    print(x)"
   ]
  },
  {
   "cell_type": "markdown",
   "id": "26362491",
   "metadata": {},
   "source": [
    "### COMENTARIOS EVENTOS"
   ]
  },
  {
   "cell_type": "code",
   "execution_count": 125,
   "id": "d086c285",
   "metadata": {},
   "outputs": [],
   "source": [
    "ComentariosEventos[['comentario']] = ComentariosEventos[['comentario']].fillna('Nada de nada')"
   ]
  },
  {
   "cell_type": "code",
   "execution_count": 126,
   "id": "38d06f85",
   "metadata": {},
   "outputs": [
    {
     "name": "stdout",
     "output_type": "stream",
     "text": [
      "<class 'pandas.core.frame.DataFrame'>\n",
      "RangeIndex: 2928 entries, 0 to 2927\n",
      "Data columns (total 6 columns):\n",
      " #   Column              Non-Null Count  Dtype \n",
      "---  ------              --------------  ----- \n",
      " 0   idComentarioEvento  2928 non-null   int64 \n",
      " 1   idEvento            2928 non-null   int64 \n",
      " 2   idUsuario           2928 non-null   int64 \n",
      " 3   comentario          2928 non-null   object\n",
      " 4   fecha               2928 non-null   object\n",
      " 5   numLikes            2928 non-null   int64 \n",
      "dtypes: int64(4), object(2)\n",
      "memory usage: 137.4+ KB\n"
     ]
    }
   ],
   "source": [
    "ComentariosEventos.info()"
   ]
  },
  {
   "cell_type": "code",
   "execution_count": 129,
   "id": "c645eca3",
   "metadata": {},
   "outputs": [],
   "source": [
    "contador = 0\n",
    "for i in range(len(ComentariosEventos)):\n",
    "    valores1 = ComentariosEventos.idEvento.iloc[contador]\n",
    "    valores2 = ComentariosEventos.idUsuario.iloc[contador]\n",
    "    valores3 = ComentariosEventos.comentario.iloc[contador]\n",
    "    valores4 = ComentariosEventos.fecha.iloc[contador]\n",
    "    valores5 = ComentariosEventos.numLikes.iloc[contador]\n",
    "\n",
    "    insert_query = f'SET foreign_key_checks = 0;'\n",
    "    cursor.execute(insert_query)\n",
    "    \n",
    "    insert_query=f'insert into comentarioseventos (idEvento,idUsuario,comentario,fecha,numLikes) values {valores1, valores2, valores3, valores4, valores5};'\n",
    "    cursor.execute(insert_query)\n",
    "\n",
    "    contador += 1\n",
    "\n",
    "    \n",
    "db.commit()  "
   ]
  },
  {
   "cell_type": "markdown",
   "id": "53eb1cec",
   "metadata": {},
   "source": [
    "### COMENTARIOS PROPUESTAS"
   ]
  },
  {
   "cell_type": "code",
   "execution_count": 135,
   "id": "81092036",
   "metadata": {},
   "outputs": [
    {
     "name": "stdout",
     "output_type": "stream",
     "text": [
      "<class 'pandas.core.frame.DataFrame'>\n",
      "RangeIndex: 9612 entries, 0 to 9611\n",
      "Data columns (total 6 columns):\n",
      " #   Column                 Non-Null Count  Dtype \n",
      "---  ------                 --------------  ----- \n",
      " 0   idComentarioPropuesta  9612 non-null   int64 \n",
      " 1   idPropuesta            9612 non-null   int64 \n",
      " 2   idUsuario              9612 non-null   int64 \n",
      " 3   comentario             9612 non-null   object\n",
      " 4   fecha                  9612 non-null   object\n",
      " 5   numLikes               9612 non-null   int64 \n",
      "dtypes: int64(4), object(2)\n",
      "memory usage: 450.7+ KB\n"
     ]
    }
   ],
   "source": [
    "ComentariosPropuestas.info()"
   ]
  },
  {
   "cell_type": "code",
   "execution_count": 134,
   "id": "cd6bada5",
   "metadata": {},
   "outputs": [],
   "source": [
    "ComentariosPropuestas[['comentario']] = ComentariosPropuestas[['comentario']].fillna('Nada de nada')"
   ]
  },
  {
   "cell_type": "code",
   "execution_count": 136,
   "id": "f7eee523",
   "metadata": {},
   "outputs": [
    {
     "data": {
      "text/plain": [
       "'idComentarioPropuesta,idPropuesta,idUsuario,comentario,fecha,numLikes'"
      ]
     },
     "execution_count": 136,
     "metadata": {},
     "output_type": "execute_result"
    }
   ],
   "source": [
    "nombre_tabla = 'comentariospropuestas'\n",
    "\n",
    "columnas = ','.join(ComentariosPropuestas.columns)\n",
    "\n",
    "columnas"
   ]
  },
  {
   "cell_type": "code",
   "execution_count": 138,
   "id": "4d243180",
   "metadata": {},
   "outputs": [],
   "source": [
    "valores1 = ComentariosPropuestas.idPropuesta.iloc[i]\n",
    "valores2 = ComentariosPropuestas.idUsuario.iloc[i]\n",
    "valores3 = ComentariosPropuestas.comentario.iloc[i]\n",
    "valores4 = ComentariosPropuestas.fecha.iloc[i]\n",
    "valores5 = ComentariosPropuestas.numLikes.iloc[i]"
   ]
  },
  {
   "cell_type": "code",
   "execution_count": 140,
   "id": "cd7d2896",
   "metadata": {},
   "outputs": [],
   "source": [
    "contador = 0\n",
    "for i in range(len(ComentariosPropuestas)):\n",
    "    valores1 = ComentariosPropuestas.idPropuesta.iloc[contador]\n",
    "    valores2 = ComentariosPropuestas.idUsuario.iloc[contador]\n",
    "    valores3 = ComentariosPropuestas.comentario.iloc[contador]\n",
    "    valores4 = ComentariosPropuestas.fecha.iloc[contador]\n",
    "    valores5 = ComentariosPropuestas.numLikes.iloc[contador]\n",
    "\n",
    "    insert_query = f'SET foreign_key_checks = 0;'\n",
    "    cursor.execute(insert_query)\n",
    "    \n",
    "    insert_query=f'insert into comentariospropuestas (idPropuesta,idUsuario,comentario,fecha,numLikes) values {valores1, valores2, valores3, valores4, valores5};'\n",
    "    cursor.execute(insert_query)\n",
    "\n",
    "    contador += 1\n",
    "\n",
    "    \n",
    "db.commit()  "
   ]
  },
  {
   "cell_type": "code",
   "execution_count": 141,
   "id": "ce9d4cda",
   "metadata": {},
   "outputs": [],
   "source": [
    "db.close()"
   ]
  }
 ],
 "metadata": {
  "kernelspec": {
   "display_name": "Python 3 (ipykernel)",
   "language": "python",
   "name": "python3"
  },
  "language_info": {
   "codemirror_mode": {
    "name": "ipython",
    "version": 3
   },
   "file_extension": ".py",
   "mimetype": "text/x-python",
   "name": "python",
   "nbconvert_exporter": "python",
   "pygments_lexer": "ipython3",
   "version": "3.9.7"
  }
 },
 "nbformat": 4,
 "nbformat_minor": 5
}
