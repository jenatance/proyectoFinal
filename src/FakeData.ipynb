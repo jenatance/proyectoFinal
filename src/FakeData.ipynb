{
 "cells": [
  {
   "cell_type": "markdown",
   "id": "41a0480c",
   "metadata": {},
   "source": [
    "# EXTRACCIÓN DE DATOS"
   ]
  },
  {
   "cell_type": "markdown",
   "id": "9f54d1e5",
   "metadata": {},
   "source": [
    "### USUARIOS"
   ]
  },
  {
   "cell_type": "code",
   "execution_count": 4,
   "id": "d8d65bfa",
   "metadata": {},
   "outputs": [],
   "source": [
    "# %pip install faker\n",
    "# %pip install random-username\n",
    "\n",
    "import datetime\n",
    "import pandas as pd\n",
    "\n",
    "from faker import Faker\n",
    "\n",
    "import random\n",
    "from random_username.generate import generate_username\n",
    "\n",
    "random.seed(42)\n",
    "Faker.seed(42)\n",
    "\n",
    "fake = Faker('es_ES')"
   ]
  },
  {
   "cell_type": "code",
   "execution_count": 7,
   "id": "d540c833",
   "metadata": {},
   "outputs": [],
   "source": [
    "faker = Faker()\n",
    "\n",
    "listFacultad = ['Agronomía','Arquitectura','Comunicación','Ciencias de la Educación','Ciencias Económicas',\n",
    "                'Ciencias Exactas','Ciencias Físicas y Matemáticas','Química','Ciencias Sociales','Derecho',\n",
    "                'Educación Física','Filosofía','Humanidades','Información','Ingeniería','Matemática','Medicina',\n",
    "                'Ciencias de la Salud','Odontología','Psicología','Veterinaria','Diseño']\n",
    "listClase = ['A','B','C','D']\n",
    "\n",
    "nombre = []\n",
    "usuario  = []\n",
    "idUniversidad = []\n",
    "facultad = []\n",
    "curso  =  []\n",
    "clase = []\n",
    "edad = []\n",
    "\n",
    "for i in range(12000):\n",
    "    nombre.append(fake.name())\n",
    "    usuario.append(generate_username())\n",
    "    idUniversidad.append(random.randint(0, 91))\n",
    "    facultad.append(random.choice(listFacultad))\n",
    "    curso.append(random.randint(1, 6))\n",
    "    clase.append(random.choice(listClase))\n",
    "    edad.append(random.randint(16, 50))"
   ]
  },
  {
   "cell_type": "code",
   "execution_count": 8,
   "id": "3ca81135",
   "metadata": {},
   "outputs": [],
   "source": [
    "Usuarios = pd.DataFrame()"
   ]
  },
  {
   "cell_type": "code",
   "execution_count": 9,
   "id": "1588c11c",
   "metadata": {},
   "outputs": [],
   "source": [
    "Usuarios['idUsuario'] = None\n",
    "Usuarios['nombre'] = nombre\n",
    "Usuarios['username'] = usuario\n",
    "Usuarios['idUniversidad'] = idUniversidad\n",
    "Usuarios['facultad'] = facultad\n",
    "Usuarios['curso'] = curso\n",
    "Usuarios['clase'] = clase\n",
    "Usuarios['edad'] = edad"
   ]
  },
  {
   "cell_type": "code",
   "execution_count": 12,
   "id": "96a4da2b",
   "metadata": {},
   "outputs": [],
   "source": [
    "Usuarios['idUsuario'] = Usuarios.index"
   ]
  },
  {
   "cell_type": "code",
   "execution_count": 13,
   "id": "2238d702",
   "metadata": {},
   "outputs": [
    {
     "name": "stdout",
     "output_type": "stream",
     "text": [
      "<class 'pandas.core.frame.DataFrame'>\n",
      "RangeIndex: 12000 entries, 0 to 11999\n",
      "Data columns (total 8 columns):\n",
      " #   Column         Non-Null Count  Dtype \n",
      "---  ------         --------------  ----- \n",
      " 0   idUsuario      12000 non-null  int64 \n",
      " 1   nombre         12000 non-null  object\n",
      " 2   username       12000 non-null  object\n",
      " 3   idUniversidad  12000 non-null  int64 \n",
      " 4   facultad       12000 non-null  object\n",
      " 5   curso          12000 non-null  int64 \n",
      " 6   clase          12000 non-null  object\n",
      " 7   edad           12000 non-null  int64 \n",
      "dtypes: int64(4), object(4)\n",
      "memory usage: 750.1+ KB\n"
     ]
    }
   ],
   "source": [
    "Usuarios.info()"
   ]
  },
  {
   "cell_type": "code",
   "execution_count": 16,
   "id": "6fdd94a7",
   "metadata": {},
   "outputs": [
    {
     "data": {
      "text/html": [
       "<div>\n",
       "<style scoped>\n",
       "    .dataframe tbody tr th:only-of-type {\n",
       "        vertical-align: middle;\n",
       "    }\n",
       "\n",
       "    .dataframe tbody tr th {\n",
       "        vertical-align: top;\n",
       "    }\n",
       "\n",
       "    .dataframe thead th {\n",
       "        text-align: right;\n",
       "    }\n",
       "</style>\n",
       "<table border=\"1\" class=\"dataframe\">\n",
       "  <thead>\n",
       "    <tr style=\"text-align: right;\">\n",
       "      <th></th>\n",
       "      <th>idUsuario</th>\n",
       "      <th>nombre</th>\n",
       "      <th>username</th>\n",
       "      <th>idUniversidad</th>\n",
       "      <th>facultad</th>\n",
       "      <th>curso</th>\n",
       "      <th>clase</th>\n",
       "      <th>edad</th>\n",
       "    </tr>\n",
       "  </thead>\n",
       "  <tbody>\n",
       "    <tr>\n",
       "      <th>0</th>\n",
       "      <td>0</td>\n",
       "      <td>Bernarda Jimenez-Manjón</td>\n",
       "      <td>[mereLemur3]</td>\n",
       "      <td>83</td>\n",
       "      <td>Arquitectura</td>\n",
       "      <td>5</td>\n",
       "      <td>D</td>\n",
       "      <td>24</td>\n",
       "    </tr>\n",
       "    <tr>\n",
       "      <th>1</th>\n",
       "      <td>1</td>\n",
       "      <td>Pilar Gallardo Flores</td>\n",
       "      <td>[pitifulAntelope2]</td>\n",
       "      <td>79</td>\n",
       "      <td>Comunicación</td>\n",
       "      <td>3</td>\n",
       "      <td>C</td>\n",
       "      <td>38</td>\n",
       "    </tr>\n",
       "    <tr>\n",
       "      <th>2</th>\n",
       "      <td>2</td>\n",
       "      <td>Cesar Salmerón Goñi</td>\n",
       "      <td>[cautiousGelding9]</td>\n",
       "      <td>6</td>\n",
       "      <td>Educación Física</td>\n",
       "      <td>2</td>\n",
       "      <td>D</td>\n",
       "      <td>34</td>\n",
       "    </tr>\n",
       "    <tr>\n",
       "      <th>3</th>\n",
       "      <td>3</td>\n",
       "      <td>Rosalina Nogueira-Corral</td>\n",
       "      <td>[culturedQuiche3]</td>\n",
       "      <td>51</td>\n",
       "      <td>Medicina</td>\n",
       "      <td>3</td>\n",
       "      <td>D</td>\n",
       "      <td>40</td>\n",
       "    </tr>\n",
       "    <tr>\n",
       "      <th>4</th>\n",
       "      <td>4</td>\n",
       "      <td>Pilar Mayol Artigas</td>\n",
       "      <td>[alertSeagull3]</td>\n",
       "      <td>76</td>\n",
       "      <td>Ciencias de la Salud</td>\n",
       "      <td>6</td>\n",
       "      <td>A</td>\n",
       "      <td>29</td>\n",
       "    </tr>\n",
       "  </tbody>\n",
       "</table>\n",
       "</div>"
      ],
      "text/plain": [
       "   idUsuario                    nombre            username  idUniversidad  \\\n",
       "0          0   Bernarda Jimenez-Manjón        [mereLemur3]             83   \n",
       "1          1     Pilar Gallardo Flores  [pitifulAntelope2]             79   \n",
       "2          2       Cesar Salmerón Goñi  [cautiousGelding9]              6   \n",
       "3          3  Rosalina Nogueira-Corral   [culturedQuiche3]             51   \n",
       "4          4       Pilar Mayol Artigas     [alertSeagull3]             76   \n",
       "\n",
       "               facultad  curso clase  edad  \n",
       "0          Arquitectura      5     D    24  \n",
       "1          Comunicación      3     C    38  \n",
       "2      Educación Física      2     D    34  \n",
       "3              Medicina      3     D    40  \n",
       "4  Ciencias de la Salud      6     A    29  "
      ]
     },
     "execution_count": 16,
     "metadata": {},
     "output_type": "execute_result"
    }
   ],
   "source": [
    "Usuarios.head()"
   ]
  },
  {
   "cell_type": "code",
   "execution_count": 17,
   "id": "2c3ab718",
   "metadata": {},
   "outputs": [],
   "source": [
    "Usuarios.to_csv('../data/Usuarios.csv', sep = ',', index = False)"
   ]
  },
  {
   "cell_type": "markdown",
   "id": "e73eee0b",
   "metadata": {},
   "source": [
    "### CATEGORÍAS PROPUESTAS"
   ]
  },
  {
   "cell_type": "code",
   "execution_count": 62,
   "id": "33872220",
   "metadata": {},
   "outputs": [],
   "source": [
    "idcategoria = []\n",
    "idpropuesta = []\n",
    "\n",
    "for i in range(8200):\n",
    "    idcategoria.append(random.randint(0, 19))\n",
    "    idpropuesta.append(random.randint(0, 1199))"
   ]
  },
  {
   "cell_type": "code",
   "execution_count": 63,
   "id": "e65a04e9",
   "metadata": {},
   "outputs": [],
   "source": [
    "CategoriasPropuestas = pd.DataFrame()"
   ]
  },
  {
   "cell_type": "code",
   "execution_count": 64,
   "id": "6293e1a7",
   "metadata": {},
   "outputs": [],
   "source": [
    "CategoriasPropuestas['idPropuesta'] = idpropuesta\n",
    "CategoriasPropuestas['idCategoria'] = idcategoria"
   ]
  },
  {
   "cell_type": "code",
   "execution_count": 65,
   "id": "67f6e4fc",
   "metadata": {},
   "outputs": [
    {
     "data": {
      "text/html": [
       "<div>\n",
       "<style scoped>\n",
       "    .dataframe tbody tr th:only-of-type {\n",
       "        vertical-align: middle;\n",
       "    }\n",
       "\n",
       "    .dataframe tbody tr th {\n",
       "        vertical-align: top;\n",
       "    }\n",
       "\n",
       "    .dataframe thead th {\n",
       "        text-align: right;\n",
       "    }\n",
       "</style>\n",
       "<table border=\"1\" class=\"dataframe\">\n",
       "  <thead>\n",
       "    <tr style=\"text-align: right;\">\n",
       "      <th></th>\n",
       "      <th>idPropuesta</th>\n",
       "      <th>idCategoria</th>\n",
       "    </tr>\n",
       "  </thead>\n",
       "  <tbody>\n",
       "    <tr>\n",
       "      <th>0</th>\n",
       "      <td>1088</td>\n",
       "      <td>17</td>\n",
       "    </tr>\n",
       "    <tr>\n",
       "      <th>1</th>\n",
       "      <td>1077</td>\n",
       "      <td>12</td>\n",
       "    </tr>\n",
       "    <tr>\n",
       "      <th>2</th>\n",
       "      <td>162</td>\n",
       "      <td>7</td>\n",
       "    </tr>\n",
       "    <tr>\n",
       "      <th>3</th>\n",
       "      <td>29</td>\n",
       "      <td>2</td>\n",
       "    </tr>\n",
       "    <tr>\n",
       "      <th>4</th>\n",
       "      <td>309</td>\n",
       "      <td>1</td>\n",
       "    </tr>\n",
       "  </tbody>\n",
       "</table>\n",
       "</div>"
      ],
      "text/plain": [
       "   idPropuesta  idCategoria\n",
       "0         1088           17\n",
       "1         1077           12\n",
       "2          162            7\n",
       "3           29            2\n",
       "4          309            1"
      ]
     },
     "execution_count": 65,
     "metadata": {},
     "output_type": "execute_result"
    }
   ],
   "source": [
    "CategoriasPropuestas.head()"
   ]
  },
  {
   "cell_type": "code",
   "execution_count": 66,
   "id": "b7e409dc",
   "metadata": {},
   "outputs": [
    {
     "name": "stdout",
     "output_type": "stream",
     "text": [
      "<class 'pandas.core.frame.DataFrame'>\n",
      "RangeIndex: 8200 entries, 0 to 8199\n",
      "Data columns (total 2 columns):\n",
      " #   Column       Non-Null Count  Dtype\n",
      "---  ------       --------------  -----\n",
      " 0   idPropuesta  8200 non-null   int64\n",
      " 1   idCategoria  8200 non-null   int64\n",
      "dtypes: int64(2)\n",
      "memory usage: 128.2 KB\n"
     ]
    }
   ],
   "source": [
    "CategoriasPropuestas.info()"
   ]
  },
  {
   "cell_type": "code",
   "execution_count": 312,
   "id": "b9579c6f",
   "metadata": {},
   "outputs": [],
   "source": [
    "CategoriasPropuestas = CategoriasPropuestas.drop_duplicates()"
   ]
  },
  {
   "cell_type": "code",
   "execution_count": 313,
   "id": "7535be0d",
   "metadata": {},
   "outputs": [
    {
     "data": {
      "text/html": [
       "<div>\n",
       "<style scoped>\n",
       "    .dataframe tbody tr th:only-of-type {\n",
       "        vertical-align: middle;\n",
       "    }\n",
       "\n",
       "    .dataframe tbody tr th {\n",
       "        vertical-align: top;\n",
       "    }\n",
       "\n",
       "    .dataframe thead th {\n",
       "        text-align: right;\n",
       "    }\n",
       "</style>\n",
       "<table border=\"1\" class=\"dataframe\">\n",
       "  <thead>\n",
       "    <tr style=\"text-align: right;\">\n",
       "      <th></th>\n",
       "      <th>idPropuesta</th>\n",
       "      <th>idCategoria</th>\n",
       "    </tr>\n",
       "  </thead>\n",
       "  <tbody>\n",
       "    <tr>\n",
       "      <th>0</th>\n",
       "      <td>1088</td>\n",
       "      <td>17</td>\n",
       "    </tr>\n",
       "    <tr>\n",
       "      <th>1</th>\n",
       "      <td>1077</td>\n",
       "      <td>12</td>\n",
       "    </tr>\n",
       "    <tr>\n",
       "      <th>2</th>\n",
       "      <td>162</td>\n",
       "      <td>7</td>\n",
       "    </tr>\n",
       "    <tr>\n",
       "      <th>3</th>\n",
       "      <td>29</td>\n",
       "      <td>2</td>\n",
       "    </tr>\n",
       "    <tr>\n",
       "      <th>4</th>\n",
       "      <td>309</td>\n",
       "      <td>1</td>\n",
       "    </tr>\n",
       "    <tr>\n",
       "      <th>...</th>\n",
       "      <td>...</td>\n",
       "      <td>...</td>\n",
       "    </tr>\n",
       "    <tr>\n",
       "      <th>8194</th>\n",
       "      <td>874</td>\n",
       "      <td>8</td>\n",
       "    </tr>\n",
       "    <tr>\n",
       "      <th>8196</th>\n",
       "      <td>439</td>\n",
       "      <td>9</td>\n",
       "    </tr>\n",
       "    <tr>\n",
       "      <th>8197</th>\n",
       "      <td>577</td>\n",
       "      <td>10</td>\n",
       "    </tr>\n",
       "    <tr>\n",
       "      <th>8198</th>\n",
       "      <td>455</td>\n",
       "      <td>2</td>\n",
       "    </tr>\n",
       "    <tr>\n",
       "      <th>8199</th>\n",
       "      <td>732</td>\n",
       "      <td>13</td>\n",
       "    </tr>\n",
       "  </tbody>\n",
       "</table>\n",
       "<p>6926 rows × 2 columns</p>\n",
       "</div>"
      ],
      "text/plain": [
       "      idPropuesta  idCategoria\n",
       "0            1088           17\n",
       "1            1077           12\n",
       "2             162            7\n",
       "3              29            2\n",
       "4             309            1\n",
       "...           ...          ...\n",
       "8194          874            8\n",
       "8196          439            9\n",
       "8197          577           10\n",
       "8198          455            2\n",
       "8199          732           13\n",
       "\n",
       "[6926 rows x 2 columns]"
      ]
     },
     "execution_count": 313,
     "metadata": {},
     "output_type": "execute_result"
    }
   ],
   "source": [
    "CategoriasPropuestas"
   ]
  },
  {
   "cell_type": "code",
   "execution_count": 314,
   "id": "8330da85",
   "metadata": {},
   "outputs": [
    {
     "name": "stdout",
     "output_type": "stream",
     "text": [
      "             idCategoria\n",
      "idPropuesta             \n",
      "0                      5\n",
      "1                      6\n",
      "2                      8\n",
      "3                      7\n",
      "4                      5\n",
      "...                  ...\n",
      "1195                   5\n",
      "1196                   9\n",
      "1197                   3\n",
      "1198                   6\n",
      "1199                   6\n",
      "\n",
      "[1200 rows x 1 columns]\n"
     ]
    }
   ],
   "source": [
    "print(CategoriasPropuestas.groupby('idPropuesta').nunique())"
   ]
  },
  {
   "cell_type": "code",
   "execution_count": 315,
   "id": "30cf2928",
   "metadata": {},
   "outputs": [],
   "source": [
    "CategoriasPropuestas.to_csv('../data/CategoriasPropuestas.csv', sep = ',', index = False)"
   ]
  },
  {
   "cell_type": "markdown",
   "id": "b95eded3",
   "metadata": {},
   "source": [
    "### CATEGORÍAS EVENTOS"
   ]
  },
  {
   "cell_type": "code",
   "execution_count": 298,
   "id": "6c82387e",
   "metadata": {},
   "outputs": [],
   "source": [
    "idcategoria = []\n",
    "idevento = []\n",
    "\n",
    "for i in range(3750):\n",
    "    idcategoria.append(random.randint(0, 19))\n",
    "    idevento.append(random.randint(0, 599))"
   ]
  },
  {
   "cell_type": "code",
   "execution_count": 299,
   "id": "4feee24a",
   "metadata": {},
   "outputs": [],
   "source": [
    "CategoriasEventos = pd.DataFrame()"
   ]
  },
  {
   "cell_type": "code",
   "execution_count": 300,
   "id": "d150b8b1",
   "metadata": {},
   "outputs": [],
   "source": [
    "CategoriasEventos['idEvento'] = idevento\n",
    "CategoriasEventos['idCategoria'] = idcategoria"
   ]
  },
  {
   "cell_type": "code",
   "execution_count": 301,
   "id": "3383b883",
   "metadata": {},
   "outputs": [
    {
     "data": {
      "text/html": [
       "<div>\n",
       "<style scoped>\n",
       "    .dataframe tbody tr th:only-of-type {\n",
       "        vertical-align: middle;\n",
       "    }\n",
       "\n",
       "    .dataframe tbody tr th {\n",
       "        vertical-align: top;\n",
       "    }\n",
       "\n",
       "    .dataframe thead th {\n",
       "        text-align: right;\n",
       "    }\n",
       "</style>\n",
       "<table border=\"1\" class=\"dataframe\">\n",
       "  <thead>\n",
       "    <tr style=\"text-align: right;\">\n",
       "      <th></th>\n",
       "      <th>idEvento</th>\n",
       "      <th>idCategoria</th>\n",
       "    </tr>\n",
       "  </thead>\n",
       "  <tbody>\n",
       "    <tr>\n",
       "      <th>0</th>\n",
       "      <td>562</td>\n",
       "      <td>12</td>\n",
       "    </tr>\n",
       "    <tr>\n",
       "      <th>1</th>\n",
       "      <td>219</td>\n",
       "      <td>19</td>\n",
       "    </tr>\n",
       "    <tr>\n",
       "      <th>2</th>\n",
       "      <td>357</td>\n",
       "      <td>18</td>\n",
       "    </tr>\n",
       "    <tr>\n",
       "      <th>3</th>\n",
       "      <td>235</td>\n",
       "      <td>11</td>\n",
       "    </tr>\n",
       "    <tr>\n",
       "      <th>4</th>\n",
       "      <td>349</td>\n",
       "      <td>14</td>\n",
       "    </tr>\n",
       "  </tbody>\n",
       "</table>\n",
       "</div>"
      ],
      "text/plain": [
       "   idEvento  idCategoria\n",
       "0       562           12\n",
       "1       219           19\n",
       "2       357           18\n",
       "3       235           11\n",
       "4       349           14"
      ]
     },
     "execution_count": 301,
     "metadata": {},
     "output_type": "execute_result"
    }
   ],
   "source": [
    "CategoriasEventos.head()"
   ]
  },
  {
   "cell_type": "code",
   "execution_count": 302,
   "id": "57d2b2c7",
   "metadata": {},
   "outputs": [
    {
     "name": "stdout",
     "output_type": "stream",
     "text": [
      "<class 'pandas.core.frame.DataFrame'>\n",
      "RangeIndex: 3750 entries, 0 to 3749\n",
      "Data columns (total 2 columns):\n",
      " #   Column       Non-Null Count  Dtype\n",
      "---  ------       --------------  -----\n",
      " 0   idEvento     3750 non-null   int64\n",
      " 1   idCategoria  3750 non-null   int64\n",
      "dtypes: int64(2)\n",
      "memory usage: 58.7 KB\n"
     ]
    }
   ],
   "source": [
    "CategoriasEventos.info()"
   ]
  },
  {
   "cell_type": "code",
   "execution_count": 308,
   "id": "63d6ead8",
   "metadata": {},
   "outputs": [],
   "source": [
    "CategoriasEventos = CategoriasEventos.drop_duplicates()"
   ]
  },
  {
   "cell_type": "code",
   "execution_count": 309,
   "id": "ad2e9be3",
   "metadata": {},
   "outputs": [
    {
     "data": {
      "text/html": [
       "<div>\n",
       "<style scoped>\n",
       "    .dataframe tbody tr th:only-of-type {\n",
       "        vertical-align: middle;\n",
       "    }\n",
       "\n",
       "    .dataframe tbody tr th {\n",
       "        vertical-align: top;\n",
       "    }\n",
       "\n",
       "    .dataframe thead th {\n",
       "        text-align: right;\n",
       "    }\n",
       "</style>\n",
       "<table border=\"1\" class=\"dataframe\">\n",
       "  <thead>\n",
       "    <tr style=\"text-align: right;\">\n",
       "      <th></th>\n",
       "      <th>idEvento</th>\n",
       "      <th>idCategoria</th>\n",
       "    </tr>\n",
       "  </thead>\n",
       "  <tbody>\n",
       "    <tr>\n",
       "      <th>0</th>\n",
       "      <td>562</td>\n",
       "      <td>12</td>\n",
       "    </tr>\n",
       "    <tr>\n",
       "      <th>1</th>\n",
       "      <td>219</td>\n",
       "      <td>19</td>\n",
       "    </tr>\n",
       "    <tr>\n",
       "      <th>2</th>\n",
       "      <td>357</td>\n",
       "      <td>18</td>\n",
       "    </tr>\n",
       "    <tr>\n",
       "      <th>3</th>\n",
       "      <td>235</td>\n",
       "      <td>11</td>\n",
       "    </tr>\n",
       "    <tr>\n",
       "      <th>4</th>\n",
       "      <td>349</td>\n",
       "      <td>14</td>\n",
       "    </tr>\n",
       "    <tr>\n",
       "      <th>...</th>\n",
       "      <td>...</td>\n",
       "      <td>...</td>\n",
       "    </tr>\n",
       "    <tr>\n",
       "      <th>3744</th>\n",
       "      <td>409</td>\n",
       "      <td>14</td>\n",
       "    </tr>\n",
       "    <tr>\n",
       "      <th>3746</th>\n",
       "      <td>322</td>\n",
       "      <td>3</td>\n",
       "    </tr>\n",
       "    <tr>\n",
       "      <th>3747</th>\n",
       "      <td>578</td>\n",
       "      <td>11</td>\n",
       "    </tr>\n",
       "    <tr>\n",
       "      <th>3748</th>\n",
       "      <td>470</td>\n",
       "      <td>15</td>\n",
       "    </tr>\n",
       "    <tr>\n",
       "      <th>3749</th>\n",
       "      <td>300</td>\n",
       "      <td>4</td>\n",
       "    </tr>\n",
       "  </tbody>\n",
       "</table>\n",
       "<p>3201 rows × 2 columns</p>\n",
       "</div>"
      ],
      "text/plain": [
       "      idEvento  idCategoria\n",
       "0          562           12\n",
       "1          219           19\n",
       "2          357           18\n",
       "3          235           11\n",
       "4          349           14\n",
       "...        ...          ...\n",
       "3744       409           14\n",
       "3746       322            3\n",
       "3747       578           11\n",
       "3748       470           15\n",
       "3749       300            4\n",
       "\n",
       "[3201 rows x 2 columns]"
      ]
     },
     "execution_count": 309,
     "metadata": {},
     "output_type": "execute_result"
    }
   ],
   "source": [
    "CategoriasEventos"
   ]
  },
  {
   "cell_type": "code",
   "execution_count": 310,
   "id": "9fbb1c48",
   "metadata": {},
   "outputs": [
    {
     "name": "stdout",
     "output_type": "stream",
     "text": [
      "          idCategoria\n",
      "idEvento             \n",
      "0                   5\n",
      "1                   2\n",
      "2                   3\n",
      "3                   3\n",
      "4                   4\n",
      "...               ...\n",
      "595                 5\n",
      "596                 3\n",
      "597                 5\n",
      "598                 5\n",
      "599                 6\n",
      "\n",
      "[600 rows x 1 columns]\n"
     ]
    }
   ],
   "source": [
    "print(CategoriasEventos.groupby('idEvento').nunique())"
   ]
  },
  {
   "cell_type": "code",
   "execution_count": 311,
   "id": "a47a5477",
   "metadata": {},
   "outputs": [],
   "source": [
    "CategoriasEventos.to_csv('../data/CategoriasEventos.csv', sep = ',', index = False)"
   ]
  },
  {
   "cell_type": "markdown",
   "id": "147c308e",
   "metadata": {},
   "source": [
    "### PARTICIPANTES PROPUESTAS"
   ]
  },
  {
   "cell_type": "code",
   "execution_count": 143,
   "id": "234dbe6a",
   "metadata": {},
   "outputs": [],
   "source": [
    "idusuario = []\n",
    "idpropuesta = []\n",
    "\n",
    "for i in range(25000):\n",
    "    idusuario.append(random.randint(0, 11999))\n",
    "    idpropuesta.append(random.randint(0, 1199))"
   ]
  },
  {
   "cell_type": "code",
   "execution_count": 144,
   "id": "632372ec",
   "metadata": {},
   "outputs": [],
   "source": [
    "ParticipantesPropuestas = pd.DataFrame()"
   ]
  },
  {
   "cell_type": "code",
   "execution_count": 145,
   "id": "cd46ebf4",
   "metadata": {},
   "outputs": [],
   "source": [
    "ParticipantesPropuestas['idUsuario'] = idusuario\n",
    "ParticipantesPropuestas['idPropuesta'] = idpropuesta"
   ]
  },
  {
   "cell_type": "code",
   "execution_count": 146,
   "id": "cffd78de",
   "metadata": {},
   "outputs": [
    {
     "data": {
      "text/html": [
       "<div>\n",
       "<style scoped>\n",
       "    .dataframe tbody tr th:only-of-type {\n",
       "        vertical-align: middle;\n",
       "    }\n",
       "\n",
       "    .dataframe tbody tr th {\n",
       "        vertical-align: top;\n",
       "    }\n",
       "\n",
       "    .dataframe thead th {\n",
       "        text-align: right;\n",
       "    }\n",
       "</style>\n",
       "<table border=\"1\" class=\"dataframe\">\n",
       "  <thead>\n",
       "    <tr style=\"text-align: right;\">\n",
       "      <th></th>\n",
       "      <th>idUsuario</th>\n",
       "      <th>idPropuesta</th>\n",
       "    </tr>\n",
       "  </thead>\n",
       "  <tbody>\n",
       "    <tr>\n",
       "      <th>0</th>\n",
       "      <td>2616</td>\n",
       "      <td>883</td>\n",
       "    </tr>\n",
       "    <tr>\n",
       "      <th>1</th>\n",
       "      <td>5796</td>\n",
       "      <td>637</td>\n",
       "    </tr>\n",
       "    <tr>\n",
       "      <th>2</th>\n",
       "      <td>7887</td>\n",
       "      <td>559</td>\n",
       "    </tr>\n",
       "    <tr>\n",
       "      <th>3</th>\n",
       "      <td>10059</td>\n",
       "      <td>59</td>\n",
       "    </tr>\n",
       "    <tr>\n",
       "      <th>4</th>\n",
       "      <td>8906</td>\n",
       "      <td>79</td>\n",
       "    </tr>\n",
       "  </tbody>\n",
       "</table>\n",
       "</div>"
      ],
      "text/plain": [
       "   idUsuario  idPropuesta\n",
       "0       2616          883\n",
       "1       5796          637\n",
       "2       7887          559\n",
       "3      10059           59\n",
       "4       8906           79"
      ]
     },
     "execution_count": 146,
     "metadata": {},
     "output_type": "execute_result"
    }
   ],
   "source": [
    "ParticipantesPropuestas.head()"
   ]
  },
  {
   "cell_type": "code",
   "execution_count": 147,
   "id": "386eecee",
   "metadata": {},
   "outputs": [
    {
     "name": "stdout",
     "output_type": "stream",
     "text": [
      "<class 'pandas.core.frame.DataFrame'>\n",
      "RangeIndex: 25000 entries, 0 to 24999\n",
      "Data columns (total 2 columns):\n",
      " #   Column       Non-Null Count  Dtype\n",
      "---  ------       --------------  -----\n",
      " 0   idUsuario    25000 non-null  int64\n",
      " 1   idPropuesta  25000 non-null  int64\n",
      "dtypes: int64(2)\n",
      "memory usage: 390.8 KB\n"
     ]
    }
   ],
   "source": [
    "ParticipantesPropuestas.info()"
   ]
  },
  {
   "cell_type": "code",
   "execution_count": 316,
   "id": "884f89d7",
   "metadata": {},
   "outputs": [],
   "source": [
    "ParticipantesPropuestas = ParticipantesPropuestas.drop_duplicates()"
   ]
  },
  {
   "cell_type": "code",
   "execution_count": 317,
   "id": "dffa6981",
   "metadata": {},
   "outputs": [
    {
     "data": {
      "text/html": [
       "<div>\n",
       "<style scoped>\n",
       "    .dataframe tbody tr th:only-of-type {\n",
       "        vertical-align: middle;\n",
       "    }\n",
       "\n",
       "    .dataframe tbody tr th {\n",
       "        vertical-align: top;\n",
       "    }\n",
       "\n",
       "    .dataframe thead th {\n",
       "        text-align: right;\n",
       "    }\n",
       "</style>\n",
       "<table border=\"1\" class=\"dataframe\">\n",
       "  <thead>\n",
       "    <tr style=\"text-align: right;\">\n",
       "      <th></th>\n",
       "      <th>idUsuario</th>\n",
       "      <th>idPropuesta</th>\n",
       "    </tr>\n",
       "  </thead>\n",
       "  <tbody>\n",
       "    <tr>\n",
       "      <th>0</th>\n",
       "      <td>2616</td>\n",
       "      <td>883</td>\n",
       "    </tr>\n",
       "    <tr>\n",
       "      <th>1</th>\n",
       "      <td>5796</td>\n",
       "      <td>637</td>\n",
       "    </tr>\n",
       "    <tr>\n",
       "      <th>2</th>\n",
       "      <td>7887</td>\n",
       "      <td>559</td>\n",
       "    </tr>\n",
       "    <tr>\n",
       "      <th>3</th>\n",
       "      <td>10059</td>\n",
       "      <td>59</td>\n",
       "    </tr>\n",
       "    <tr>\n",
       "      <th>4</th>\n",
       "      <td>8906</td>\n",
       "      <td>79</td>\n",
       "    </tr>\n",
       "    <tr>\n",
       "      <th>...</th>\n",
       "      <td>...</td>\n",
       "      <td>...</td>\n",
       "    </tr>\n",
       "    <tr>\n",
       "      <th>24995</th>\n",
       "      <td>771</td>\n",
       "      <td>676</td>\n",
       "    </tr>\n",
       "    <tr>\n",
       "      <th>24996</th>\n",
       "      <td>11972</td>\n",
       "      <td>84</td>\n",
       "    </tr>\n",
       "    <tr>\n",
       "      <th>24997</th>\n",
       "      <td>6738</td>\n",
       "      <td>865</td>\n",
       "    </tr>\n",
       "    <tr>\n",
       "      <th>24998</th>\n",
       "      <td>9028</td>\n",
       "      <td>1169</td>\n",
       "    </tr>\n",
       "    <tr>\n",
       "      <th>24999</th>\n",
       "      <td>8919</td>\n",
       "      <td>881</td>\n",
       "    </tr>\n",
       "  </tbody>\n",
       "</table>\n",
       "<p>24979 rows × 2 columns</p>\n",
       "</div>"
      ],
      "text/plain": [
       "       idUsuario  idPropuesta\n",
       "0           2616          883\n",
       "1           5796          637\n",
       "2           7887          559\n",
       "3          10059           59\n",
       "4           8906           79\n",
       "...          ...          ...\n",
       "24995        771          676\n",
       "24996      11972           84\n",
       "24997       6738          865\n",
       "24998       9028         1169\n",
       "24999       8919          881\n",
       "\n",
       "[24979 rows x 2 columns]"
      ]
     },
     "execution_count": 317,
     "metadata": {},
     "output_type": "execute_result"
    }
   ],
   "source": [
    "ParticipantesPropuestas"
   ]
  },
  {
   "cell_type": "code",
   "execution_count": 318,
   "id": "f2ba7da7",
   "metadata": {},
   "outputs": [
    {
     "name": "stdout",
     "output_type": "stream",
     "text": [
      "             idUsuario\n",
      "idPropuesta           \n",
      "0                   23\n",
      "1                   15\n",
      "2                   24\n",
      "3                   19\n",
      "4                   18\n",
      "...                ...\n",
      "1195                24\n",
      "1196                20\n",
      "1197                12\n",
      "1198                30\n",
      "1199                14\n",
      "\n",
      "[1200 rows x 1 columns]\n"
     ]
    }
   ],
   "source": [
    "print(ParticipantesPropuestas.groupby('idPropuesta').nunique())"
   ]
  },
  {
   "cell_type": "code",
   "execution_count": 319,
   "id": "c3733f2d",
   "metadata": {},
   "outputs": [],
   "source": [
    "ParticipantesPropuestas.to_csv('../data/ParticipantesPropuestas.csv', sep = ',', index = False)"
   ]
  },
  {
   "cell_type": "markdown",
   "id": "d41f86ef",
   "metadata": {},
   "source": [
    "### PARTICIPANTES EVENTOS"
   ]
  },
  {
   "cell_type": "code",
   "execution_count": 150,
   "id": "6ad4a153",
   "metadata": {},
   "outputs": [],
   "source": [
    "idusuario = []\n",
    "idevento = []\n",
    "\n",
    "for i in range(17000):\n",
    "    idusuario.append(random.randint(0, 11999))\n",
    "    idevento.append(random.randint(0, 599))"
   ]
  },
  {
   "cell_type": "code",
   "execution_count": 151,
   "id": "d82b7781",
   "metadata": {},
   "outputs": [],
   "source": [
    "ParticipantesEventos = pd.DataFrame()"
   ]
  },
  {
   "cell_type": "code",
   "execution_count": 152,
   "id": "c1fbe771",
   "metadata": {},
   "outputs": [],
   "source": [
    "ParticipantesEventos['idUsuario'] = idusuario\n",
    "ParticipantesEventos['idEvento'] = idevento"
   ]
  },
  {
   "cell_type": "code",
   "execution_count": 153,
   "id": "b90ebbee",
   "metadata": {},
   "outputs": [
    {
     "data": {
      "text/html": [
       "<div>\n",
       "<style scoped>\n",
       "    .dataframe tbody tr th:only-of-type {\n",
       "        vertical-align: middle;\n",
       "    }\n",
       "\n",
       "    .dataframe tbody tr th {\n",
       "        vertical-align: top;\n",
       "    }\n",
       "\n",
       "    .dataframe thead th {\n",
       "        text-align: right;\n",
       "    }\n",
       "</style>\n",
       "<table border=\"1\" class=\"dataframe\">\n",
       "  <thead>\n",
       "    <tr style=\"text-align: right;\">\n",
       "      <th></th>\n",
       "      <th>idUsuario</th>\n",
       "      <th>idEvento</th>\n",
       "    </tr>\n",
       "  </thead>\n",
       "  <tbody>\n",
       "    <tr>\n",
       "      <th>0</th>\n",
       "      <td>2856</td>\n",
       "      <td>98</td>\n",
       "    </tr>\n",
       "    <tr>\n",
       "      <th>1</th>\n",
       "      <td>5990</td>\n",
       "      <td>35</td>\n",
       "    </tr>\n",
       "    <tr>\n",
       "      <th>2</th>\n",
       "      <td>2517</td>\n",
       "      <td>111</td>\n",
       "    </tr>\n",
       "    <tr>\n",
       "      <th>3</th>\n",
       "      <td>9072</td>\n",
       "      <td>222</td>\n",
       "    </tr>\n",
       "    <tr>\n",
       "      <th>4</th>\n",
       "      <td>9327</td>\n",
       "      <td>374</td>\n",
       "    </tr>\n",
       "  </tbody>\n",
       "</table>\n",
       "</div>"
      ],
      "text/plain": [
       "   idUsuario  idEvento\n",
       "0       2856        98\n",
       "1       5990        35\n",
       "2       2517       111\n",
       "3       9072       222\n",
       "4       9327       374"
      ]
     },
     "execution_count": 153,
     "metadata": {},
     "output_type": "execute_result"
    }
   ],
   "source": [
    "ParticipantesEventos.head()"
   ]
  },
  {
   "cell_type": "code",
   "execution_count": 154,
   "id": "7eeb3c5e",
   "metadata": {},
   "outputs": [
    {
     "name": "stdout",
     "output_type": "stream",
     "text": [
      "<class 'pandas.core.frame.DataFrame'>\n",
      "RangeIndex: 17000 entries, 0 to 16999\n",
      "Data columns (total 2 columns):\n",
      " #   Column     Non-Null Count  Dtype\n",
      "---  ------     --------------  -----\n",
      " 0   idUsuario  17000 non-null  int64\n",
      " 1   idEvento   17000 non-null  int64\n",
      "dtypes: int64(2)\n",
      "memory usage: 265.8 KB\n"
     ]
    }
   ],
   "source": [
    "ParticipantesEventos.info()"
   ]
  },
  {
   "cell_type": "code",
   "execution_count": 320,
   "id": "e6af5f2d",
   "metadata": {},
   "outputs": [],
   "source": [
    "ParticipantesEventos = ParticipantesEventos.drop_duplicates()"
   ]
  },
  {
   "cell_type": "code",
   "execution_count": 321,
   "id": "37a089cf",
   "metadata": {},
   "outputs": [
    {
     "data": {
      "text/html": [
       "<div>\n",
       "<style scoped>\n",
       "    .dataframe tbody tr th:only-of-type {\n",
       "        vertical-align: middle;\n",
       "    }\n",
       "\n",
       "    .dataframe tbody tr th {\n",
       "        vertical-align: top;\n",
       "    }\n",
       "\n",
       "    .dataframe thead th {\n",
       "        text-align: right;\n",
       "    }\n",
       "</style>\n",
       "<table border=\"1\" class=\"dataframe\">\n",
       "  <thead>\n",
       "    <tr style=\"text-align: right;\">\n",
       "      <th></th>\n",
       "      <th>idUsuario</th>\n",
       "      <th>idEvento</th>\n",
       "    </tr>\n",
       "  </thead>\n",
       "  <tbody>\n",
       "    <tr>\n",
       "      <th>0</th>\n",
       "      <td>2856</td>\n",
       "      <td>98</td>\n",
       "    </tr>\n",
       "    <tr>\n",
       "      <th>1</th>\n",
       "      <td>5990</td>\n",
       "      <td>35</td>\n",
       "    </tr>\n",
       "    <tr>\n",
       "      <th>2</th>\n",
       "      <td>2517</td>\n",
       "      <td>111</td>\n",
       "    </tr>\n",
       "    <tr>\n",
       "      <th>3</th>\n",
       "      <td>9072</td>\n",
       "      <td>222</td>\n",
       "    </tr>\n",
       "    <tr>\n",
       "      <th>4</th>\n",
       "      <td>9327</td>\n",
       "      <td>374</td>\n",
       "    </tr>\n",
       "    <tr>\n",
       "      <th>...</th>\n",
       "      <td>...</td>\n",
       "      <td>...</td>\n",
       "    </tr>\n",
       "    <tr>\n",
       "      <th>16995</th>\n",
       "      <td>6205</td>\n",
       "      <td>302</td>\n",
       "    </tr>\n",
       "    <tr>\n",
       "      <th>16996</th>\n",
       "      <td>7297</td>\n",
       "      <td>341</td>\n",
       "    </tr>\n",
       "    <tr>\n",
       "      <th>16997</th>\n",
       "      <td>5586</td>\n",
       "      <td>290</td>\n",
       "    </tr>\n",
       "    <tr>\n",
       "      <th>16998</th>\n",
       "      <td>5533</td>\n",
       "      <td>99</td>\n",
       "    </tr>\n",
       "    <tr>\n",
       "      <th>16999</th>\n",
       "      <td>1703</td>\n",
       "      <td>278</td>\n",
       "    </tr>\n",
       "  </tbody>\n",
       "</table>\n",
       "<p>16980 rows × 2 columns</p>\n",
       "</div>"
      ],
      "text/plain": [
       "       idUsuario  idEvento\n",
       "0           2856        98\n",
       "1           5990        35\n",
       "2           2517       111\n",
       "3           9072       222\n",
       "4           9327       374\n",
       "...          ...       ...\n",
       "16995       6205       302\n",
       "16996       7297       341\n",
       "16997       5586       290\n",
       "16998       5533        99\n",
       "16999       1703       278\n",
       "\n",
       "[16980 rows x 2 columns]"
      ]
     },
     "execution_count": 321,
     "metadata": {},
     "output_type": "execute_result"
    }
   ],
   "source": [
    "ParticipantesEventos"
   ]
  },
  {
   "cell_type": "code",
   "execution_count": 322,
   "id": "ba36cdac",
   "metadata": {},
   "outputs": [
    {
     "name": "stdout",
     "output_type": "stream",
     "text": [
      "          idUsuario\n",
      "idEvento           \n",
      "0                32\n",
      "1                30\n",
      "2                29\n",
      "3                32\n",
      "4                36\n",
      "...             ...\n",
      "595              23\n",
      "596              39\n",
      "597              20\n",
      "598              24\n",
      "599              23\n",
      "\n",
      "[600 rows x 1 columns]\n"
     ]
    }
   ],
   "source": [
    "print(ParticipantesEventos.groupby('idEvento').nunique())"
   ]
  },
  {
   "cell_type": "code",
   "execution_count": 323,
   "id": "e98159f7",
   "metadata": {},
   "outputs": [],
   "source": [
    "ParticipantesEventos.to_csv('../data/ParticipantesEventos.csv', sep = ',', index = False)"
   ]
  },
  {
   "cell_type": "markdown",
   "id": "0986cf30",
   "metadata": {},
   "source": [
    "### EVENTOS"
   ]
  },
  {
   "cell_type": "code",
   "execution_count": 268,
   "id": "a48ff227",
   "metadata": {},
   "outputs": [],
   "source": [
    "universidades = pd.read_csv('../data/Universidades.csv')"
   ]
  },
  {
   "cell_type": "code",
   "execution_count": 269,
   "id": "0c5761e5",
   "metadata": {},
   "outputs": [
    {
     "data": {
      "text/plain": [
       "0    Universidad de Sevilla\n",
       "1    Universidad de Granada\n",
       "2    Universidad de Córdoba\n",
       "3     Universidad de Málaga\n",
       "4      Universidad de Cádiz\n",
       "Name: nombre, dtype: object"
      ]
     },
     "execution_count": 269,
     "metadata": {},
     "output_type": "execute_result"
    }
   ],
   "source": [
    "universidades = universidades['nombre']\n",
    "universidades.head()"
   ]
  },
  {
   "cell_type": "code",
   "execution_count": 270,
   "id": "3f93e5dd",
   "metadata": {},
   "outputs": [],
   "source": [
    "universidades = universidades.values.astype(str).tolist()"
   ]
  },
  {
   "cell_type": "code",
   "execution_count": 271,
   "id": "44083dbc",
   "metadata": {},
   "outputs": [
    {
     "data": {
      "text/plain": [
       "list"
      ]
     },
     "execution_count": 271,
     "metadata": {},
     "output_type": "execute_result"
    }
   ],
   "source": [
    "type(universidades)"
   ]
  },
  {
   "cell_type": "code",
   "execution_count": 324,
   "id": "1b8f028c",
   "metadata": {},
   "outputs": [],
   "source": [
    "listUsuarios1 = ['Fiesta sorpresa de ','Fiesta en casa de ','Poniencia de ', 'Cumpleaños de ', 'Jubilación de ', 'Despedida de ']\n",
    "listUsuarios2 = ['Talk and pizzas en ','Expo en ','Botellón de ', 'Firma de libros en ', 'Primer día clases ']\n",
    "listUsuarios3 = ['Exposición de la facultad ','Certamen de la facultad ', 'Graduación de ']\n",
    "listUsuarios4 = ['Quedada de ', 'Reunión director ', 'Sentada ', 'TedTalk ', 'Bienvenida nuevos alumnos ']\n",
    "\n",
    "contador = 0;\n",
    "\n",
    "idEvento = []\n",
    "nombreEvento  = []\n",
    "dateEvento = []\n",
    "idCreador  =  []\n",
    "\n",
    "for i in range(200):  \n",
    "    idEvento.append(contador)\n",
    "    nombreEvento.append(random.choice(listUsuarios1) + fake.name())\n",
    "    dateEvento.append(fake.date_between(start_date='-1y',end_date='+1y').strftime('%Y-%m-%d'))\n",
    "    idCreador.append(random.randint(0, 11999))\n",
    "    contador += 1\n",
    "    \n",
    "for i in range(150):\n",
    "    idEvento.append(contador)\n",
    "    nombreEvento.append(random.choice(listUsuarios2) + str(random.choice(universidades)))\n",
    "    dateEvento.append(fake.date_between(start_date='-1y',end_date='+1y').strftime('%Y-%m-%d'))\n",
    "    idCreador.append(random.randint(0, 11999))\n",
    "    contador += 1\n",
    "    \n",
    "for i in range(100):\n",
    "    idEvento.append(contador)\n",
    "    nombreEvento.append(random.choice(listUsuarios3) + random.choice(listFacultad))\n",
    "    dateEvento.append(fake.date_between(start_date='-1y',end_date='+1y').strftime('%Y-%m-%d'))\n",
    "    idCreador.append(random.randint(0, 11999))\n",
    "    contador += 1\n",
    "    \n",
    "for i in range(150):\n",
    "    idEvento.append(contador)\n",
    "    nombreEvento.append(random.choice(listUsuarios4) + random.choice(listFacultad) + ' ' + str(random.choice(universidades)))\n",
    "    dateEvento.append(fake.date_between(start_date='-1y',end_date='+1y').strftime('%Y-%m-%d'))\n",
    "    idCreador.append(random.randint(0, 11999))\n",
    "    contador += 1\n",
    "    "
   ]
  },
  {
   "cell_type": "code",
   "execution_count": 325,
   "id": "7c0d8664",
   "metadata": {},
   "outputs": [],
   "source": [
    "Eventos = pd.DataFrame()"
   ]
  },
  {
   "cell_type": "code",
   "execution_count": 326,
   "id": "5eb72352",
   "metadata": {},
   "outputs": [],
   "source": [
    "Eventos['idEvento'] = idEvento\n",
    "Eventos['nombre'] = nombreEvento\n",
    "Eventos['descripcion'] = None\n",
    "Eventos['fechaEvento'] = dateEvento\n",
    "Eventos['fechaCreacion'] = None\n",
    "Eventos['idCreador'] = idCreador"
   ]
  },
  {
   "cell_type": "code",
   "execution_count": 327,
   "id": "9839b722",
   "metadata": {},
   "outputs": [
    {
     "data": {
      "text/html": [
       "<div>\n",
       "<style scoped>\n",
       "    .dataframe tbody tr th:only-of-type {\n",
       "        vertical-align: middle;\n",
       "    }\n",
       "\n",
       "    .dataframe tbody tr th {\n",
       "        vertical-align: top;\n",
       "    }\n",
       "\n",
       "    .dataframe thead th {\n",
       "        text-align: right;\n",
       "    }\n",
       "</style>\n",
       "<table border=\"1\" class=\"dataframe\">\n",
       "  <thead>\n",
       "    <tr style=\"text-align: right;\">\n",
       "      <th></th>\n",
       "      <th>idEvento</th>\n",
       "      <th>nombre</th>\n",
       "      <th>descripcion</th>\n",
       "      <th>fechaEvento</th>\n",
       "      <th>fechaCreacion</th>\n",
       "      <th>idCreador</th>\n",
       "    </tr>\n",
       "  </thead>\n",
       "  <tbody>\n",
       "    <tr>\n",
       "      <th>595</th>\n",
       "      <td>595</td>\n",
       "      <td>Bienvenida nuevos alumnos Ciencias de la Salud...</td>\n",
       "      <td>None</td>\n",
       "      <td>2022-06-26</td>\n",
       "      <td>None</td>\n",
       "      <td>647</td>\n",
       "    </tr>\n",
       "    <tr>\n",
       "      <th>596</th>\n",
       "      <td>596</td>\n",
       "      <td>Reunión director Información Universidad Rey J...</td>\n",
       "      <td>None</td>\n",
       "      <td>2021-11-25</td>\n",
       "      <td>None</td>\n",
       "      <td>7759</td>\n",
       "    </tr>\n",
       "    <tr>\n",
       "      <th>597</th>\n",
       "      <td>597</td>\n",
       "      <td>Sentada Ingeniería Universidad de Murcia</td>\n",
       "      <td>None</td>\n",
       "      <td>2023-06-03</td>\n",
       "      <td>None</td>\n",
       "      <td>1326</td>\n",
       "    </tr>\n",
       "    <tr>\n",
       "      <th>598</th>\n",
       "      <td>598</td>\n",
       "      <td>Reunión director Derecho Universidad Jaime I</td>\n",
       "      <td>None</td>\n",
       "      <td>2021-10-05</td>\n",
       "      <td>None</td>\n",
       "      <td>8658</td>\n",
       "    </tr>\n",
       "    <tr>\n",
       "      <th>599</th>\n",
       "      <td>599</td>\n",
       "      <td>Bienvenida nuevos alumnos Medicina Universidad...</td>\n",
       "      <td>None</td>\n",
       "      <td>2021-08-04</td>\n",
       "      <td>None</td>\n",
       "      <td>1358</td>\n",
       "    </tr>\n",
       "  </tbody>\n",
       "</table>\n",
       "</div>"
      ],
      "text/plain": [
       "     idEvento                                             nombre descripcion  \\\n",
       "595       595  Bienvenida nuevos alumnos Ciencias de la Salud...        None   \n",
       "596       596  Reunión director Información Universidad Rey J...        None   \n",
       "597       597           Sentada Ingeniería Universidad de Murcia        None   \n",
       "598       598       Reunión director Derecho Universidad Jaime I        None   \n",
       "599       599  Bienvenida nuevos alumnos Medicina Universidad...        None   \n",
       "\n",
       "    fechaEvento fechaCreacion  idCreador  \n",
       "595  2022-06-26          None        647  \n",
       "596  2021-11-25          None       7759  \n",
       "597  2023-06-03          None       1326  \n",
       "598  2021-10-05          None       8658  \n",
       "599  2021-08-04          None       1358  "
      ]
     },
     "execution_count": 327,
     "metadata": {},
     "output_type": "execute_result"
    }
   ],
   "source": [
    "Eventos.tail()"
   ]
  },
  {
   "cell_type": "code",
   "execution_count": 328,
   "id": "5103b3d1",
   "metadata": {},
   "outputs": [],
   "source": [
    "Eventos.to_csv('../data/Eventos.csv', sep = ',', index = False)"
   ]
  },
  {
   "cell_type": "markdown",
   "id": "3ca3d06e",
   "metadata": {},
   "source": [
    "### PROPUESTAS"
   ]
  },
  {
   "cell_type": "code",
   "execution_count": 277,
   "id": "0b1b66b5",
   "metadata": {},
   "outputs": [],
   "source": [
    "listUsuarios1 = ['Echar a ', 'Denunciar a ', 'Hablar con ', 'Quitar el busto de ']\n",
    "listUsuarios2 = ['Hacer un huerto en ', 'Crear un programa de eficiencia energética en los edificios de la ',\n",
    "                'Crear un método de comunicación efectivo entre los órganos directivos y de gestión de los estudiantes y la ',\n",
    "                'Mejorar el pavimento de las pistas e instalaciones deportivas de la ', \n",
    "                'Mejorar el sistema de consulta de fondos de la biblioteca de la ', \n",
    "                'Quitar las nuevas vallas de los jardines entre facultades ',\n",
    "                'Quitar el límite horario en bibliotecas y hacerlas espacios de estudio 24h ',\n",
    "                'Promover cursos de lenguas extranjeras ',\n",
    "                'Promover curso de capacitación profesionales ',\n",
    "                'Promover programas de integración para futuros estudiantes con riesgo de fracaso escolar en institutos ',\n",
    "                'Promover el deporte en la vida universitaria ']\n",
    "listUsuarios3 = ['Crear recursos de comunicación para facilitar la convivencia en el campus de ',\n",
    "                'Mejorar acceso a las instalaciones para gente con discapacidad en la facultad de ',\n",
    "                'Mejorar Instalaciones deportivas facultad de ', 'Quitar las tarifas de pago en el parking de estudiantes ',\n",
    "                'Quitar las restricciones al acceso a instalaciones deportivas ']\n",
    "listUsuarios4 = ['Crear programa de formación europeo', \n",
    "                'Crear sistemas de riego de jardines acordes a los requerimientos de sostenibilidad de la UE',\n",
    "                'Crear programas de información de becas y programas postdoctorales para nuevos estudiantes',\n",
    "                'Mejorar acceso a pago de créditos ECTS', 'Mejorar el sistema de becas y métodos de pago',\n",
    "                'Quitar las capillas y lugares de culto en las instalaciones de educación pública universitaria',\n",
    "                'Promover dinámicas de cooperación entre universidades',\n",
    "                'Promover la cultura musical y la colaboración con centros superiores de enseñanza de música']\n",
    "\n",
    "contador = 0;\n",
    "\n",
    "idPropuesta = []\n",
    "nombrePropuesta  = []\n",
    "idCreador  =  []\n",
    "\n",
    "for i in range(350):  \n",
    "    idPropuesta.append(contador)\n",
    "    nombrePropuesta.append(random.choice(listUsuarios1) + fake.name())\n",
    "    idCreador.append(random.randint(0, 11999))\n",
    "    contador += 1\n",
    "    \n",
    "for i in range(400):\n",
    "    idPropuesta.append(contador)\n",
    "    nombrePropuesta.append(random.choice(listUsuarios2) + str(random.choice(universidades)))\n",
    "    idCreador.append(random.randint(0, 11999))\n",
    "    contador += 1\n",
    "    \n",
    "for i in range(300):\n",
    "    idPropuesta.append(contador)\n",
    "    nombrePropuesta.append(random.choice(listUsuarios3) + random.choice(listFacultad) + ' ' + str(random.choice(universidades)))\n",
    "    idCreador.append(random.randint(0, 11999))\n",
    "    contador += 1\n",
    "\n",
    "for i in range(150):\n",
    "    idPropuesta.append(contador)\n",
    "    nombrePropuesta.append(random.choice(listUsuarios4))\n",
    "    idCreador.append(random.randint(0, 11999))\n",
    "    contador += 1\n",
    "    "
   ]
  },
  {
   "cell_type": "code",
   "execution_count": 278,
   "id": "d41d09b5",
   "metadata": {},
   "outputs": [],
   "source": [
    "Propuestas = pd.DataFrame()"
   ]
  },
  {
   "cell_type": "code",
   "execution_count": 279,
   "id": "98e08399",
   "metadata": {},
   "outputs": [],
   "source": [
    "Propuestas['idPropuesta'] = idPropuesta\n",
    "Propuestas['nombre'] = nombrePropuesta\n",
    "Propuestas['descripcion'] = None\n",
    "Propuestas['fechaCreacion'] = None\n",
    "Propuestas['idCreador'] = idCreador"
   ]
  },
  {
   "cell_type": "code",
   "execution_count": 280,
   "id": "c1a022cf",
   "metadata": {},
   "outputs": [
    {
     "data": {
      "text/html": [
       "<div>\n",
       "<style scoped>\n",
       "    .dataframe tbody tr th:only-of-type {\n",
       "        vertical-align: middle;\n",
       "    }\n",
       "\n",
       "    .dataframe tbody tr th {\n",
       "        vertical-align: top;\n",
       "    }\n",
       "\n",
       "    .dataframe thead th {\n",
       "        text-align: right;\n",
       "    }\n",
       "</style>\n",
       "<table border=\"1\" class=\"dataframe\">\n",
       "  <thead>\n",
       "    <tr style=\"text-align: right;\">\n",
       "      <th></th>\n",
       "      <th>idPropuesta</th>\n",
       "      <th>nombre</th>\n",
       "      <th>descripcion</th>\n",
       "      <th>fechaCreacion</th>\n",
       "      <th>idCreador</th>\n",
       "    </tr>\n",
       "  </thead>\n",
       "  <tbody>\n",
       "    <tr>\n",
       "      <th>1195</th>\n",
       "      <td>1195</td>\n",
       "      <td>Crear programas de información de becas y prog...</td>\n",
       "      <td>None</td>\n",
       "      <td>None</td>\n",
       "      <td>6841</td>\n",
       "    </tr>\n",
       "    <tr>\n",
       "      <th>1196</th>\n",
       "      <td>1196</td>\n",
       "      <td>Crear programas de información de becas y prog...</td>\n",
       "      <td>None</td>\n",
       "      <td>None</td>\n",
       "      <td>6107</td>\n",
       "    </tr>\n",
       "    <tr>\n",
       "      <th>1197</th>\n",
       "      <td>1197</td>\n",
       "      <td>Promover dinámicas de cooperación entre univer...</td>\n",
       "      <td>None</td>\n",
       "      <td>None</td>\n",
       "      <td>833</td>\n",
       "    </tr>\n",
       "    <tr>\n",
       "      <th>1198</th>\n",
       "      <td>1198</td>\n",
       "      <td>Mejorar el sistema de becas y métodos de pago</td>\n",
       "      <td>None</td>\n",
       "      <td>None</td>\n",
       "      <td>9368</td>\n",
       "    </tr>\n",
       "    <tr>\n",
       "      <th>1199</th>\n",
       "      <td>1199</td>\n",
       "      <td>Quitar las capillas y lugares de culto en las ...</td>\n",
       "      <td>None</td>\n",
       "      <td>None</td>\n",
       "      <td>2518</td>\n",
       "    </tr>\n",
       "  </tbody>\n",
       "</table>\n",
       "</div>"
      ],
      "text/plain": [
       "      idPropuesta                                             nombre  \\\n",
       "1195         1195  Crear programas de información de becas y prog...   \n",
       "1196         1196  Crear programas de información de becas y prog...   \n",
       "1197         1197  Promover dinámicas de cooperación entre univer...   \n",
       "1198         1198      Mejorar el sistema de becas y métodos de pago   \n",
       "1199         1199  Quitar las capillas y lugares de culto en las ...   \n",
       "\n",
       "     descripcion fechaCreacion  idCreador  \n",
       "1195        None          None       6841  \n",
       "1196        None          None       6107  \n",
       "1197        None          None        833  \n",
       "1198        None          None       9368  \n",
       "1199        None          None       2518  "
      ]
     },
     "execution_count": 280,
     "metadata": {},
     "output_type": "execute_result"
    }
   ],
   "source": [
    "Propuestas.tail()"
   ]
  },
  {
   "cell_type": "code",
   "execution_count": 281,
   "id": "e1726d9a",
   "metadata": {},
   "outputs": [],
   "source": [
    "Propuestas.to_csv('../data/Propuestas.csv', sep = ',', index = False)"
   ]
  },
  {
   "cell_type": "markdown",
   "id": "8038e9ee",
   "metadata": {},
   "source": [
    "### CATEGORÍAS"
   ]
  },
  {
   "cell_type": "code",
   "execution_count": 229,
   "id": "d0e753cd",
   "metadata": {},
   "outputs": [],
   "source": [
    "nombreCateg = ['Lifestyle', 'Campus', 'Fiesta', 'Aprendizaje', 'Quejas', \n",
    "               'Charlando', 'Actividades', 'Dirección', 'Clases', 'Ayuda', \n",
    "               'Quedadas', 'Facultad', 'Cotilleos', 'Traslados', 'Documentos',\n",
    "               'Secretaría', 'Erasmus', 'Asignatura', 'Profesorado', 'Limpieza']"
   ]
  },
  {
   "cell_type": "code",
   "execution_count": 230,
   "id": "5d0e1fe0",
   "metadata": {},
   "outputs": [],
   "source": [
    "Categorias = pd.DataFrame()"
   ]
  },
  {
   "cell_type": "code",
   "execution_count": 231,
   "id": "77de1661",
   "metadata": {},
   "outputs": [],
   "source": [
    "Categorias['nombre'] = nombreCateg"
   ]
  },
  {
   "cell_type": "code",
   "execution_count": 232,
   "id": "436121a9",
   "metadata": {},
   "outputs": [],
   "source": [
    "Categorias['idCategoria'] = Categorias.index"
   ]
  },
  {
   "cell_type": "code",
   "execution_count": 233,
   "id": "96557c69",
   "metadata": {},
   "outputs": [],
   "source": [
    "Categorias = Categorias[['idCategoria', 'nombre']]"
   ]
  },
  {
   "cell_type": "code",
   "execution_count": 234,
   "id": "a37bb026",
   "metadata": {},
   "outputs": [
    {
     "data": {
      "text/html": [
       "<div>\n",
       "<style scoped>\n",
       "    .dataframe tbody tr th:only-of-type {\n",
       "        vertical-align: middle;\n",
       "    }\n",
       "\n",
       "    .dataframe tbody tr th {\n",
       "        vertical-align: top;\n",
       "    }\n",
       "\n",
       "    .dataframe thead th {\n",
       "        text-align: right;\n",
       "    }\n",
       "</style>\n",
       "<table border=\"1\" class=\"dataframe\">\n",
       "  <thead>\n",
       "    <tr style=\"text-align: right;\">\n",
       "      <th></th>\n",
       "      <th>idCategoria</th>\n",
       "      <th>nombre</th>\n",
       "    </tr>\n",
       "  </thead>\n",
       "  <tbody>\n",
       "    <tr>\n",
       "      <th>0</th>\n",
       "      <td>0</td>\n",
       "      <td>Lifestyle</td>\n",
       "    </tr>\n",
       "    <tr>\n",
       "      <th>1</th>\n",
       "      <td>1</td>\n",
       "      <td>Campus</td>\n",
       "    </tr>\n",
       "    <tr>\n",
       "      <th>2</th>\n",
       "      <td>2</td>\n",
       "      <td>Fiesta</td>\n",
       "    </tr>\n",
       "    <tr>\n",
       "      <th>3</th>\n",
       "      <td>3</td>\n",
       "      <td>Aprendizaje</td>\n",
       "    </tr>\n",
       "    <tr>\n",
       "      <th>4</th>\n",
       "      <td>4</td>\n",
       "      <td>Quejas</td>\n",
       "    </tr>\n",
       "    <tr>\n",
       "      <th>5</th>\n",
       "      <td>5</td>\n",
       "      <td>Charlando</td>\n",
       "    </tr>\n",
       "    <tr>\n",
       "      <th>6</th>\n",
       "      <td>6</td>\n",
       "      <td>Actividades</td>\n",
       "    </tr>\n",
       "    <tr>\n",
       "      <th>7</th>\n",
       "      <td>7</td>\n",
       "      <td>Dirección</td>\n",
       "    </tr>\n",
       "    <tr>\n",
       "      <th>8</th>\n",
       "      <td>8</td>\n",
       "      <td>Clases</td>\n",
       "    </tr>\n",
       "    <tr>\n",
       "      <th>9</th>\n",
       "      <td>9</td>\n",
       "      <td>Ayuda</td>\n",
       "    </tr>\n",
       "    <tr>\n",
       "      <th>10</th>\n",
       "      <td>10</td>\n",
       "      <td>Quedadas</td>\n",
       "    </tr>\n",
       "    <tr>\n",
       "      <th>11</th>\n",
       "      <td>11</td>\n",
       "      <td>Facultad</td>\n",
       "    </tr>\n",
       "    <tr>\n",
       "      <th>12</th>\n",
       "      <td>12</td>\n",
       "      <td>Cotilleos</td>\n",
       "    </tr>\n",
       "    <tr>\n",
       "      <th>13</th>\n",
       "      <td>13</td>\n",
       "      <td>Traslados</td>\n",
       "    </tr>\n",
       "    <tr>\n",
       "      <th>14</th>\n",
       "      <td>14</td>\n",
       "      <td>Documentos</td>\n",
       "    </tr>\n",
       "    <tr>\n",
       "      <th>15</th>\n",
       "      <td>15</td>\n",
       "      <td>Secretaría</td>\n",
       "    </tr>\n",
       "    <tr>\n",
       "      <th>16</th>\n",
       "      <td>16</td>\n",
       "      <td>Erasmus</td>\n",
       "    </tr>\n",
       "    <tr>\n",
       "      <th>17</th>\n",
       "      <td>17</td>\n",
       "      <td>Asignatura</td>\n",
       "    </tr>\n",
       "    <tr>\n",
       "      <th>18</th>\n",
       "      <td>18</td>\n",
       "      <td>Profesorado</td>\n",
       "    </tr>\n",
       "    <tr>\n",
       "      <th>19</th>\n",
       "      <td>19</td>\n",
       "      <td>Limpieza</td>\n",
       "    </tr>\n",
       "  </tbody>\n",
       "</table>\n",
       "</div>"
      ],
      "text/plain": [
       "    idCategoria       nombre\n",
       "0             0    Lifestyle\n",
       "1             1       Campus\n",
       "2             2       Fiesta\n",
       "3             3  Aprendizaje\n",
       "4             4       Quejas\n",
       "5             5    Charlando\n",
       "6             6  Actividades\n",
       "7             7    Dirección\n",
       "8             8       Clases\n",
       "9             9        Ayuda\n",
       "10           10     Quedadas\n",
       "11           11     Facultad\n",
       "12           12    Cotilleos\n",
       "13           13    Traslados\n",
       "14           14   Documentos\n",
       "15           15   Secretaría\n",
       "16           16      Erasmus\n",
       "17           17   Asignatura\n",
       "18           18  Profesorado\n",
       "19           19     Limpieza"
      ]
     },
     "execution_count": 234,
     "metadata": {},
     "output_type": "execute_result"
    }
   ],
   "source": [
    "Categorias.head(20)"
   ]
  },
  {
   "cell_type": "code",
   "execution_count": 235,
   "id": "50860e6b",
   "metadata": {},
   "outputs": [],
   "source": [
    "Categorias.to_csv('../data/Categorias.csv', sep = ',', index = False)"
   ]
  }
 ],
 "metadata": {
  "kernelspec": {
   "display_name": "Python 3 (ipykernel)",
   "language": "python",
   "name": "python3"
  },
  "language_info": {
   "codemirror_mode": {
    "name": "ipython",
    "version": 3
   },
   "file_extension": ".py",
   "mimetype": "text/x-python",
   "name": "python",
   "nbconvert_exporter": "python",
   "pygments_lexer": "ipython3",
   "version": "3.9.7"
  }
 },
 "nbformat": 4,
 "nbformat_minor": 5
}
