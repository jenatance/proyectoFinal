{
 "cells": [
  {
   "cell_type": "markdown",
   "id": "dbddebc6",
   "metadata": {},
   "source": [
    "# EXTRACCIÓN DE DATOS"
   ]
  },
  {
   "cell_type": "markdown",
   "id": "a9dea786",
   "metadata": {},
   "source": [
    "### USUARIOS"
   ]
  },
  {
   "cell_type": "code",
   "execution_count": 4,
   "id": "d8d65bfa",
   "metadata": {},
   "outputs": [],
   "source": [
    "# %pip install faker\n",
    "# %pip install random-username\n",
    "\n",
    "import datetime\n",
    "import pandas as pd\n",
    "\n",
    "from faker import Faker\n",
    "\n",
    "import random\n",
    "from random_username.generate import generate_username\n",
    "\n",
    "random.seed(42)\n",
    "Faker.seed(42)\n",
    "\n",
    "fake = Faker('es_ES')"
   ]
  },
  {
   "cell_type": "code",
   "execution_count": 7,
   "id": "d540c833",
   "metadata": {},
   "outputs": [],
   "source": [
    "faker = Faker()\n",
    "\n",
    "listFacultad = ['Agronomía','Arquitectura','Comunicación','Ciencias de la Educación','Ciencias Económicas',\n",
    "                'Ciencias Exactas','Ciencias Físicas y Matemáticas','Química','Ciencias Sociales','Derecho',\n",
    "                'Educación Física','Filosofía','Humanidades','Información','Ingeniería','Matemática','Medicina',\n",
    "                'Ciencias de la Salud','Odontología','Psicología','Veterinaria','Diseño']\n",
    "listClase = ['A','B','C','D']\n",
    "\n",
    "nombre = []\n",
    "usuario  = []\n",
    "idUniversidad = []\n",
    "facultad = []\n",
    "curso  =  []\n",
    "clase = []\n",
    "edad = []\n",
    "\n",
    "for i in range(12000):\n",
    "    nombre.append(fake.name())\n",
    "    usuario.append(generate_username())\n",
    "    idUniversidad.append(random.randint(0, 91))\n",
    "    facultad.append(random.choice(listFacultad))\n",
    "    curso.append(random.randint(1, 6))\n",
    "    clase.append(random.choice(listClase))\n",
    "    edad.append(random.randint(16, 50))"
   ]
  },
  {
   "cell_type": "code",
   "execution_count": 8,
   "id": "4a4d3351",
   "metadata": {},
   "outputs": [],
   "source": [
    "Usuarios = pd.DataFrame()"
   ]
  },
  {
   "cell_type": "code",
   "execution_count": 9,
   "id": "90c2195d",
   "metadata": {},
   "outputs": [],
   "source": [
    "Usuarios['idUsuario'] = None\n",
    "Usuarios['nombre'] = nombre\n",
    "Usuarios['username'] = usuario\n",
    "Usuarios['idUniversidad'] = idUniversidad\n",
    "Usuarios['facultad'] = facultad\n",
    "Usuarios['curso'] = curso\n",
    "Usuarios['clase'] = clase\n",
    "Usuarios['edad'] = edad"
   ]
  },
  {
   "cell_type": "code",
   "execution_count": 12,
   "id": "94550bee",
   "metadata": {},
   "outputs": [],
   "source": [
    "Usuarios['idUsuario'] = Usuarios.index"
   ]
  },
  {
   "cell_type": "code",
   "execution_count": 13,
   "id": "9b99148e",
   "metadata": {},
   "outputs": [
    {
     "name": "stdout",
     "output_type": "stream",
     "text": [
      "<class 'pandas.core.frame.DataFrame'>\n",
      "RangeIndex: 12000 entries, 0 to 11999\n",
      "Data columns (total 8 columns):\n",
      " #   Column         Non-Null Count  Dtype \n",
      "---  ------         --------------  ----- \n",
      " 0   idUsuario      12000 non-null  int64 \n",
      " 1   nombre         12000 non-null  object\n",
      " 2   username       12000 non-null  object\n",
      " 3   idUniversidad  12000 non-null  int64 \n",
      " 4   facultad       12000 non-null  object\n",
      " 5   curso          12000 non-null  int64 \n",
      " 6   clase          12000 non-null  object\n",
      " 7   edad           12000 non-null  int64 \n",
      "dtypes: int64(4), object(4)\n",
      "memory usage: 750.1+ KB\n"
     ]
    }
   ],
   "source": [
    "Usuarios.info()"
   ]
  },
  {
   "cell_type": "code",
   "execution_count": 16,
   "id": "cd01c08c",
   "metadata": {},
   "outputs": [
    {
     "data": {
      "text/html": [
       "<div>\n",
       "<style scoped>\n",
       "    .dataframe tbody tr th:only-of-type {\n",
       "        vertical-align: middle;\n",
       "    }\n",
       "\n",
       "    .dataframe tbody tr th {\n",
       "        vertical-align: top;\n",
       "    }\n",
       "\n",
       "    .dataframe thead th {\n",
       "        text-align: right;\n",
       "    }\n",
       "</style>\n",
       "<table border=\"1\" class=\"dataframe\">\n",
       "  <thead>\n",
       "    <tr style=\"text-align: right;\">\n",
       "      <th></th>\n",
       "      <th>idUsuario</th>\n",
       "      <th>nombre</th>\n",
       "      <th>username</th>\n",
       "      <th>idUniversidad</th>\n",
       "      <th>facultad</th>\n",
       "      <th>curso</th>\n",
       "      <th>clase</th>\n",
       "      <th>edad</th>\n",
       "    </tr>\n",
       "  </thead>\n",
       "  <tbody>\n",
       "    <tr>\n",
       "      <th>0</th>\n",
       "      <td>0</td>\n",
       "      <td>Bernarda Jimenez-Manjón</td>\n",
       "      <td>[mereLemur3]</td>\n",
       "      <td>83</td>\n",
       "      <td>Arquitectura</td>\n",
       "      <td>5</td>\n",
       "      <td>D</td>\n",
       "      <td>24</td>\n",
       "    </tr>\n",
       "    <tr>\n",
       "      <th>1</th>\n",
       "      <td>1</td>\n",
       "      <td>Pilar Gallardo Flores</td>\n",
       "      <td>[pitifulAntelope2]</td>\n",
       "      <td>79</td>\n",
       "      <td>Comunicación</td>\n",
       "      <td>3</td>\n",
       "      <td>C</td>\n",
       "      <td>38</td>\n",
       "    </tr>\n",
       "    <tr>\n",
       "      <th>2</th>\n",
       "      <td>2</td>\n",
       "      <td>Cesar Salmerón Goñi</td>\n",
       "      <td>[cautiousGelding9]</td>\n",
       "      <td>6</td>\n",
       "      <td>Educación Física</td>\n",
       "      <td>2</td>\n",
       "      <td>D</td>\n",
       "      <td>34</td>\n",
       "    </tr>\n",
       "    <tr>\n",
       "      <th>3</th>\n",
       "      <td>3</td>\n",
       "      <td>Rosalina Nogueira-Corral</td>\n",
       "      <td>[culturedQuiche3]</td>\n",
       "      <td>51</td>\n",
       "      <td>Medicina</td>\n",
       "      <td>3</td>\n",
       "      <td>D</td>\n",
       "      <td>40</td>\n",
       "    </tr>\n",
       "    <tr>\n",
       "      <th>4</th>\n",
       "      <td>4</td>\n",
       "      <td>Pilar Mayol Artigas</td>\n",
       "      <td>[alertSeagull3]</td>\n",
       "      <td>76</td>\n",
       "      <td>Ciencias de la Salud</td>\n",
       "      <td>6</td>\n",
       "      <td>A</td>\n",
       "      <td>29</td>\n",
       "    </tr>\n",
       "  </tbody>\n",
       "</table>\n",
       "</div>"
      ],
      "text/plain": [
       "   idUsuario                    nombre            username  idUniversidad  \\\n",
       "0          0   Bernarda Jimenez-Manjón        [mereLemur3]             83   \n",
       "1          1     Pilar Gallardo Flores  [pitifulAntelope2]             79   \n",
       "2          2       Cesar Salmerón Goñi  [cautiousGelding9]              6   \n",
       "3          3  Rosalina Nogueira-Corral   [culturedQuiche3]             51   \n",
       "4          4       Pilar Mayol Artigas     [alertSeagull3]             76   \n",
       "\n",
       "               facultad  curso clase  edad  \n",
       "0          Arquitectura      5     D    24  \n",
       "1          Comunicación      3     C    38  \n",
       "2      Educación Física      2     D    34  \n",
       "3              Medicina      3     D    40  \n",
       "4  Ciencias de la Salud      6     A    29  "
      ]
     },
     "execution_count": 16,
     "metadata": {},
     "output_type": "execute_result"
    }
   ],
   "source": [
    "Usuarios.head()"
   ]
  },
  {
   "cell_type": "code",
   "execution_count": 17,
   "id": "f484718f",
   "metadata": {},
   "outputs": [],
   "source": [
    "Usuarios.to_csv('../data/Usuarios.csv', sep = ',', index = False)"
   ]
  },
  {
   "cell_type": "markdown",
   "id": "95aaf87a",
   "metadata": {},
   "source": [
    "### CATEGORÍAS PROPUESTAS"
   ]
  },
  {
   "cell_type": "code",
   "execution_count": 62,
   "id": "77604c11",
   "metadata": {},
   "outputs": [],
   "source": [
    "idcategoria = []\n",
    "idpropuesta = []\n",
    "\n",
    "for i in range(8200):\n",
    "    idcategoria.append(random.randint(0, 19))\n",
    "    idpropuesta.append(random.randint(0, 1199))"
   ]
  },
  {
   "cell_type": "code",
   "execution_count": 63,
   "id": "31b3240b",
   "metadata": {},
   "outputs": [],
   "source": [
    "CategoriasPropuestas = pd.DataFrame()"
   ]
  },
  {
   "cell_type": "code",
   "execution_count": 64,
   "id": "b590d67f",
   "metadata": {},
   "outputs": [],
   "source": [
    "CategoriasPropuestas['idPropuesta'] = idpropuesta\n",
    "CategoriasPropuestas['idCategoria'] = idcategoria"
   ]
  },
  {
   "cell_type": "code",
   "execution_count": 65,
   "id": "145418a2",
   "metadata": {},
   "outputs": [
    {
     "data": {
      "text/html": [
       "<div>\n",
       "<style scoped>\n",
       "    .dataframe tbody tr th:only-of-type {\n",
       "        vertical-align: middle;\n",
       "    }\n",
       "\n",
       "    .dataframe tbody tr th {\n",
       "        vertical-align: top;\n",
       "    }\n",
       "\n",
       "    .dataframe thead th {\n",
       "        text-align: right;\n",
       "    }\n",
       "</style>\n",
       "<table border=\"1\" class=\"dataframe\">\n",
       "  <thead>\n",
       "    <tr style=\"text-align: right;\">\n",
       "      <th></th>\n",
       "      <th>idPropuesta</th>\n",
       "      <th>idCategoria</th>\n",
       "    </tr>\n",
       "  </thead>\n",
       "  <tbody>\n",
       "    <tr>\n",
       "      <th>0</th>\n",
       "      <td>1088</td>\n",
       "      <td>17</td>\n",
       "    </tr>\n",
       "    <tr>\n",
       "      <th>1</th>\n",
       "      <td>1077</td>\n",
       "      <td>12</td>\n",
       "    </tr>\n",
       "    <tr>\n",
       "      <th>2</th>\n",
       "      <td>162</td>\n",
       "      <td>7</td>\n",
       "    </tr>\n",
       "    <tr>\n",
       "      <th>3</th>\n",
       "      <td>29</td>\n",
       "      <td>2</td>\n",
       "    </tr>\n",
       "    <tr>\n",
       "      <th>4</th>\n",
       "      <td>309</td>\n",
       "      <td>1</td>\n",
       "    </tr>\n",
       "  </tbody>\n",
       "</table>\n",
       "</div>"
      ],
      "text/plain": [
       "   idPropuesta  idCategoria\n",
       "0         1088           17\n",
       "1         1077           12\n",
       "2          162            7\n",
       "3           29            2\n",
       "4          309            1"
      ]
     },
     "execution_count": 65,
     "metadata": {},
     "output_type": "execute_result"
    }
   ],
   "source": [
    "CategoriasPropuestas.head()"
   ]
  },
  {
   "cell_type": "code",
   "execution_count": 66,
   "id": "cb7885aa",
   "metadata": {},
   "outputs": [
    {
     "name": "stdout",
     "output_type": "stream",
     "text": [
      "<class 'pandas.core.frame.DataFrame'>\n",
      "RangeIndex: 8200 entries, 0 to 8199\n",
      "Data columns (total 2 columns):\n",
      " #   Column       Non-Null Count  Dtype\n",
      "---  ------       --------------  -----\n",
      " 0   idPropuesta  8200 non-null   int64\n",
      " 1   idCategoria  8200 non-null   int64\n",
      "dtypes: int64(2)\n",
      "memory usage: 128.2 KB\n"
     ]
    }
   ],
   "source": [
    "CategoriasPropuestas.info()"
   ]
  },
  {
   "cell_type": "code",
   "execution_count": 67,
   "id": "76af6927",
   "metadata": {},
   "outputs": [
    {
     "name": "stdout",
     "output_type": "stream",
     "text": [
      "             idCategoria\n",
      "idPropuesta             \n",
      "0                      5\n",
      "1                      6\n",
      "2                      8\n",
      "3                      7\n",
      "4                      5\n",
      "...                  ...\n",
      "1195                   5\n",
      "1196                   9\n",
      "1197                   3\n",
      "1198                   6\n",
      "1199                   6\n",
      "\n",
      "[1200 rows x 1 columns]\n"
     ]
    }
   ],
   "source": [
    "print(CategoriasPropuestas.groupby('idPropuesta').nunique())"
   ]
  },
  {
   "cell_type": "code",
   "execution_count": 69,
   "id": "0df006e8",
   "metadata": {},
   "outputs": [],
   "source": [
    "CategoriasPropuestas.to_csv('../data/CategoriasPropuestas.csv', sep = ',', index = False)"
   ]
  },
  {
   "cell_type": "markdown",
   "id": "0f32a406",
   "metadata": {},
   "source": [
    "### CATEGORÍAS EVENTOS"
   ]
  },
  {
   "cell_type": "code",
   "execution_count": 106,
   "id": "cac1f87a",
   "metadata": {},
   "outputs": [],
   "source": [
    "idcategoria = []\n",
    "idevento = []\n",
    "\n",
    "for i in range(3750):\n",
    "    idcategoria.append(random.randint(0, 19))\n",
    "    idevento.append(random.randint(0, 599))"
   ]
  },
  {
   "cell_type": "code",
   "execution_count": 107,
   "id": "120fdc22",
   "metadata": {},
   "outputs": [],
   "source": [
    "CategoriasEventos = pd.DataFrame()"
   ]
  },
  {
   "cell_type": "code",
   "execution_count": 108,
   "id": "f432c14d",
   "metadata": {},
   "outputs": [],
   "source": [
    "CategoriasEventos['idEvento'] = idevento\n",
    "CategoriasEventos['idCategoria'] = idcategoria"
   ]
  },
  {
   "cell_type": "code",
   "execution_count": 109,
   "id": "cf73680a",
   "metadata": {},
   "outputs": [
    {
     "data": {
      "text/html": [
       "<div>\n",
       "<style scoped>\n",
       "    .dataframe tbody tr th:only-of-type {\n",
       "        vertical-align: middle;\n",
       "    }\n",
       "\n",
       "    .dataframe tbody tr th {\n",
       "        vertical-align: top;\n",
       "    }\n",
       "\n",
       "    .dataframe thead th {\n",
       "        text-align: right;\n",
       "    }\n",
       "</style>\n",
       "<table border=\"1\" class=\"dataframe\">\n",
       "  <thead>\n",
       "    <tr style=\"text-align: right;\">\n",
       "      <th></th>\n",
       "      <th>idEvento</th>\n",
       "      <th>idCategoria</th>\n",
       "    </tr>\n",
       "  </thead>\n",
       "  <tbody>\n",
       "    <tr>\n",
       "      <th>0</th>\n",
       "      <td>360</td>\n",
       "      <td>14</td>\n",
       "    </tr>\n",
       "    <tr>\n",
       "      <th>1</th>\n",
       "      <td>418</td>\n",
       "      <td>1</td>\n",
       "    </tr>\n",
       "    <tr>\n",
       "      <th>2</th>\n",
       "      <td>175</td>\n",
       "      <td>3</td>\n",
       "    </tr>\n",
       "    <tr>\n",
       "      <th>3</th>\n",
       "      <td>126</td>\n",
       "      <td>2</td>\n",
       "    </tr>\n",
       "    <tr>\n",
       "      <th>4</th>\n",
       "      <td>265</td>\n",
       "      <td>1</td>\n",
       "    </tr>\n",
       "  </tbody>\n",
       "</table>\n",
       "</div>"
      ],
      "text/plain": [
       "   idEvento  idCategoria\n",
       "0       360           14\n",
       "1       418            1\n",
       "2       175            3\n",
       "3       126            2\n",
       "4       265            1"
      ]
     },
     "execution_count": 109,
     "metadata": {},
     "output_type": "execute_result"
    }
   ],
   "source": [
    "CategoriasEventos.head()"
   ]
  },
  {
   "cell_type": "code",
   "execution_count": 110,
   "id": "20dc2aba",
   "metadata": {},
   "outputs": [
    {
     "name": "stdout",
     "output_type": "stream",
     "text": [
      "<class 'pandas.core.frame.DataFrame'>\n",
      "RangeIndex: 3750 entries, 0 to 3749\n",
      "Data columns (total 2 columns):\n",
      " #   Column       Non-Null Count  Dtype\n",
      "---  ------       --------------  -----\n",
      " 0   idEvento     3750 non-null   int64\n",
      " 1   idCategoria  3750 non-null   int64\n",
      "dtypes: int64(2)\n",
      "memory usage: 58.7 KB\n"
     ]
    }
   ],
   "source": [
    "CategoriasEventos.info()"
   ]
  },
  {
   "cell_type": "code",
   "execution_count": 111,
   "id": "eb801366",
   "metadata": {},
   "outputs": [
    {
     "name": "stdout",
     "output_type": "stream",
     "text": [
      "          idCategoria\n",
      "idEvento             \n",
      "0                   9\n",
      "1                   8\n",
      "2                   9\n",
      "3                   6\n",
      "4                   4\n",
      "...               ...\n",
      "595                 6\n",
      "596                 5\n",
      "597                 6\n",
      "598                 8\n",
      "599                 4\n",
      "\n",
      "[600 rows x 1 columns]\n"
     ]
    }
   ],
   "source": [
    "print(CategoriasEventos.groupby('idEvento').nunique())"
   ]
  },
  {
   "cell_type": "code",
   "execution_count": 112,
   "id": "c8063883",
   "metadata": {},
   "outputs": [],
   "source": [
    "CategoriasEventos.to_csv('../data/CategoriasEventos.csv', sep = ',', index = False)"
   ]
  },
  {
   "cell_type": "markdown",
   "id": "99e5e644",
   "metadata": {},
   "source": [
    "### PARTICIPANTES PROPUESTAS"
   ]
  },
  {
   "cell_type": "code",
   "execution_count": 143,
   "id": "adc55d6f",
   "metadata": {},
   "outputs": [],
   "source": [
    "idusuario = []\n",
    "idpropuesta = []\n",
    "\n",
    "for i in range(25000):\n",
    "    idusuario.append(random.randint(0, 11999))\n",
    "    idpropuesta.append(random.randint(0, 1199))"
   ]
  },
  {
   "cell_type": "code",
   "execution_count": 144,
   "id": "13294b76",
   "metadata": {},
   "outputs": [],
   "source": [
    "ParticipantesPropuestas = pd.DataFrame()"
   ]
  },
  {
   "cell_type": "code",
   "execution_count": 145,
   "id": "298b4388",
   "metadata": {},
   "outputs": [],
   "source": [
    "ParticipantesPropuestas['idUsuario'] = idusuario\n",
    "ParticipantesPropuestas['idPropuesta'] = idpropuesta"
   ]
  },
  {
   "cell_type": "code",
   "execution_count": 146,
   "id": "fad09b34",
   "metadata": {},
   "outputs": [
    {
     "data": {
      "text/html": [
       "<div>\n",
       "<style scoped>\n",
       "    .dataframe tbody tr th:only-of-type {\n",
       "        vertical-align: middle;\n",
       "    }\n",
       "\n",
       "    .dataframe tbody tr th {\n",
       "        vertical-align: top;\n",
       "    }\n",
       "\n",
       "    .dataframe thead th {\n",
       "        text-align: right;\n",
       "    }\n",
       "</style>\n",
       "<table border=\"1\" class=\"dataframe\">\n",
       "  <thead>\n",
       "    <tr style=\"text-align: right;\">\n",
       "      <th></th>\n",
       "      <th>idUsuario</th>\n",
       "      <th>idPropuesta</th>\n",
       "    </tr>\n",
       "  </thead>\n",
       "  <tbody>\n",
       "    <tr>\n",
       "      <th>0</th>\n",
       "      <td>2616</td>\n",
       "      <td>883</td>\n",
       "    </tr>\n",
       "    <tr>\n",
       "      <th>1</th>\n",
       "      <td>5796</td>\n",
       "      <td>637</td>\n",
       "    </tr>\n",
       "    <tr>\n",
       "      <th>2</th>\n",
       "      <td>7887</td>\n",
       "      <td>559</td>\n",
       "    </tr>\n",
       "    <tr>\n",
       "      <th>3</th>\n",
       "      <td>10059</td>\n",
       "      <td>59</td>\n",
       "    </tr>\n",
       "    <tr>\n",
       "      <th>4</th>\n",
       "      <td>8906</td>\n",
       "      <td>79</td>\n",
       "    </tr>\n",
       "  </tbody>\n",
       "</table>\n",
       "</div>"
      ],
      "text/plain": [
       "   idUsuario  idPropuesta\n",
       "0       2616          883\n",
       "1       5796          637\n",
       "2       7887          559\n",
       "3      10059           59\n",
       "4       8906           79"
      ]
     },
     "execution_count": 146,
     "metadata": {},
     "output_type": "execute_result"
    }
   ],
   "source": [
    "ParticipantesPropuestas.head()"
   ]
  },
  {
   "cell_type": "code",
   "execution_count": 147,
   "id": "280f6723",
   "metadata": {},
   "outputs": [
    {
     "name": "stdout",
     "output_type": "stream",
     "text": [
      "<class 'pandas.core.frame.DataFrame'>\n",
      "RangeIndex: 25000 entries, 0 to 24999\n",
      "Data columns (total 2 columns):\n",
      " #   Column       Non-Null Count  Dtype\n",
      "---  ------       --------------  -----\n",
      " 0   idUsuario    25000 non-null  int64\n",
      " 1   idPropuesta  25000 non-null  int64\n",
      "dtypes: int64(2)\n",
      "memory usage: 390.8 KB\n"
     ]
    }
   ],
   "source": [
    "ParticipantesPropuestas.info()"
   ]
  },
  {
   "cell_type": "code",
   "execution_count": 148,
   "id": "ab7445c3",
   "metadata": {},
   "outputs": [
    {
     "name": "stdout",
     "output_type": "stream",
     "text": [
      "             idUsuario\n",
      "idPropuesta           \n",
      "0                   23\n",
      "1                   15\n",
      "2                   24\n",
      "3                   19\n",
      "4                   18\n",
      "...                ...\n",
      "1195                24\n",
      "1196                20\n",
      "1197                12\n",
      "1198                30\n",
      "1199                14\n",
      "\n",
      "[1200 rows x 1 columns]\n"
     ]
    }
   ],
   "source": [
    "print(ParticipantesPropuestas.groupby('idPropuesta').nunique())"
   ]
  },
  {
   "cell_type": "code",
   "execution_count": 149,
   "id": "e4b3067c",
   "metadata": {},
   "outputs": [],
   "source": [
    "ParticipantesPropuestas.to_csv('../data/ParticipantesPropuestas.csv', sep = ',', index = False)"
   ]
  },
  {
   "cell_type": "markdown",
   "id": "a7d7e9e4",
   "metadata": {},
   "source": [
    "### PARTICIPANTES EVENTOS"
   ]
  },
  {
   "cell_type": "code",
   "execution_count": 150,
   "id": "6b652785",
   "metadata": {},
   "outputs": [],
   "source": [
    "idusuario = []\n",
    "idevento = []\n",
    "\n",
    "for i in range(17000):\n",
    "    idusuario.append(random.randint(0, 11999))\n",
    "    idevento.append(random.randint(0, 599))"
   ]
  },
  {
   "cell_type": "code",
   "execution_count": 151,
   "id": "0279b210",
   "metadata": {},
   "outputs": [],
   "source": [
    "ParticipantesEventos = pd.DataFrame()"
   ]
  },
  {
   "cell_type": "code",
   "execution_count": 152,
   "id": "ca7bbdec",
   "metadata": {},
   "outputs": [],
   "source": [
    "ParticipantesEventos['idUsuario'] = idusuario\n",
    "ParticipantesEventos['idEvento'] = idevento"
   ]
  },
  {
   "cell_type": "code",
   "execution_count": 153,
   "id": "0e4bbe43",
   "metadata": {},
   "outputs": [
    {
     "data": {
      "text/html": [
       "<div>\n",
       "<style scoped>\n",
       "    .dataframe tbody tr th:only-of-type {\n",
       "        vertical-align: middle;\n",
       "    }\n",
       "\n",
       "    .dataframe tbody tr th {\n",
       "        vertical-align: top;\n",
       "    }\n",
       "\n",
       "    .dataframe thead th {\n",
       "        text-align: right;\n",
       "    }\n",
       "</style>\n",
       "<table border=\"1\" class=\"dataframe\">\n",
       "  <thead>\n",
       "    <tr style=\"text-align: right;\">\n",
       "      <th></th>\n",
       "      <th>idUsuario</th>\n",
       "      <th>idEvento</th>\n",
       "    </tr>\n",
       "  </thead>\n",
       "  <tbody>\n",
       "    <tr>\n",
       "      <th>0</th>\n",
       "      <td>2856</td>\n",
       "      <td>98</td>\n",
       "    </tr>\n",
       "    <tr>\n",
       "      <th>1</th>\n",
       "      <td>5990</td>\n",
       "      <td>35</td>\n",
       "    </tr>\n",
       "    <tr>\n",
       "      <th>2</th>\n",
       "      <td>2517</td>\n",
       "      <td>111</td>\n",
       "    </tr>\n",
       "    <tr>\n",
       "      <th>3</th>\n",
       "      <td>9072</td>\n",
       "      <td>222</td>\n",
       "    </tr>\n",
       "    <tr>\n",
       "      <th>4</th>\n",
       "      <td>9327</td>\n",
       "      <td>374</td>\n",
       "    </tr>\n",
       "  </tbody>\n",
       "</table>\n",
       "</div>"
      ],
      "text/plain": [
       "   idUsuario  idEvento\n",
       "0       2856        98\n",
       "1       5990        35\n",
       "2       2517       111\n",
       "3       9072       222\n",
       "4       9327       374"
      ]
     },
     "execution_count": 153,
     "metadata": {},
     "output_type": "execute_result"
    }
   ],
   "source": [
    "ParticipantesEventos.head()"
   ]
  },
  {
   "cell_type": "code",
   "execution_count": 154,
   "id": "671c99f3",
   "metadata": {},
   "outputs": [
    {
     "name": "stdout",
     "output_type": "stream",
     "text": [
      "<class 'pandas.core.frame.DataFrame'>\n",
      "RangeIndex: 17000 entries, 0 to 16999\n",
      "Data columns (total 2 columns):\n",
      " #   Column     Non-Null Count  Dtype\n",
      "---  ------     --------------  -----\n",
      " 0   idUsuario  17000 non-null  int64\n",
      " 1   idEvento   17000 non-null  int64\n",
      "dtypes: int64(2)\n",
      "memory usage: 265.8 KB\n"
     ]
    }
   ],
   "source": [
    "ParticipantesEventos.info()"
   ]
  },
  {
   "cell_type": "code",
   "execution_count": 155,
   "id": "8fc6a301",
   "metadata": {},
   "outputs": [
    {
     "name": "stdout",
     "output_type": "stream",
     "text": [
      "          idUsuario\n",
      "idEvento           \n",
      "0                32\n",
      "1                30\n",
      "2                29\n",
      "3                32\n",
      "4                36\n",
      "...             ...\n",
      "595              23\n",
      "596              39\n",
      "597              20\n",
      "598              24\n",
      "599              23\n",
      "\n",
      "[600 rows x 1 columns]\n"
     ]
    }
   ],
   "source": [
    "print(ParticipantesEventos.groupby('idEvento').nunique())"
   ]
  },
  {
   "cell_type": "code",
   "execution_count": 156,
   "id": "6f5349e4",
   "metadata": {},
   "outputs": [],
   "source": [
    "ParticipantesEventos.to_csv('../data/ParticipantesEventos.csv', sep = ',', index = False)"
   ]
  },
  {
   "cell_type": "markdown",
   "id": "d56a966a",
   "metadata": {},
   "source": [
    "### EVENTOS"
   ]
  },
  {
   "cell_type": "code",
   "execution_count": 162,
   "id": "9c2a14f9",
   "metadata": {},
   "outputs": [],
   "source": [
    "universidades = pd.read_csv('../data/Universidades.csv')"
   ]
  },
  {
   "cell_type": "code",
   "execution_count": 164,
   "id": "cfdcc67c",
   "metadata": {},
   "outputs": [
    {
     "data": {
      "text/plain": [
       "0    Universidad de Sevilla\n",
       "1    Universidad de Granada\n",
       "2    Universidad de Córdoba\n",
       "3     Universidad de Málaga\n",
       "4      Universidad de Cádiz\n",
       "Name: nombre, dtype: object"
      ]
     },
     "execution_count": 164,
     "metadata": {},
     "output_type": "execute_result"
    }
   ],
   "source": [
    "universidades = universidades['nombre']\n",
    "universidades.head()"
   ]
  },
  {
   "cell_type": "code",
   "execution_count": 168,
   "id": "dd29cbc0",
   "metadata": {},
   "outputs": [],
   "source": [
    "universidades = universidades.values.astype(str).tolist()"
   ]
  },
  {
   "cell_type": "code",
   "execution_count": 170,
   "id": "0144c59a",
   "metadata": {},
   "outputs": [
    {
     "data": {
      "text/plain": [
       "list"
      ]
     },
     "execution_count": 170,
     "metadata": {},
     "output_type": "execute_result"
    }
   ],
   "source": [
    "type(universidades)"
   ]
  },
  {
   "cell_type": "code",
   "execution_count": 214,
   "id": "1b8f028c",
   "metadata": {},
   "outputs": [],
   "source": [
    "listUsuarios1 = ['Fiesta sorpresa de ','Fiesta en casa de ','Poniencia de ', 'Cumpleaños de ', 'Jubilación de ', 'Despedida de ']\n",
    "listUsuarios2 = ['Talk and pizzas en ','Expo en ','Botellón de ', 'Firma de libros en ', 'Primer día clases ']\n",
    "listUsuarios3 = ['Exposición de la facultad ','Certamen de la facultad ', 'Graduación de ']\n",
    "listUsuarios4 = ['Quedada de ', 'Reunión director ', 'Sentada ', 'TedTalk ', 'Bienvenida nuevos alumnos ']\n",
    "\n",
    "contador = 0;\n",
    "\n",
    "idEvento = []\n",
    "nombreEvento  = []\n",
    "dateEvento = []\n",
    "idCreador  =  []\n",
    "\n",
    "for i in range(200):  \n",
    "    idEvento.append(contador)\n",
    "    nombreEvento.append(random.choice(listUsuarios1) + fake.name())\n",
    "    dateEvento.append(fake.date_between(start_date='-1y',end_date='+1y').strftime('%d-%m-%Y'))\n",
    "    idCreador.append(random.randint(0, 11999))\n",
    "    contador += 1\n",
    "    \n",
    "for i in range(150):\n",
    "    idEvento.append(contador)\n",
    "    nombreEvento.append(random.choice(listUsuarios2) + str(random.choice(universidades)))\n",
    "    dateEvento.append(fake.date_between(start_date='-1y',end_date='+1y').strftime('%d-%m-%Y'))\n",
    "    idCreador.append(random.randint(0, 11999))\n",
    "    contador += 1\n",
    "    \n",
    "for i in range(100):\n",
    "    idEvento.append(contador)\n",
    "    nombreEvento.append(random.choice(listUsuarios3) + random.choice(listFacultad))\n",
    "    dateEvento.append(fake.date_between(start_date='-1y',end_date='+1y').strftime('%d-%m-%Y'))\n",
    "    idCreador.append(random.randint(0, 11999))\n",
    "    contador += 1\n",
    "    \n",
    "for i in range(150):\n",
    "    idEvento.append(contador)\n",
    "    nombreEvento.append(random.choice(listUsuarios4) + random.choice(listFacultad) + ' ' + str(random.choice(universidades)))\n",
    "    dateEvento.append(fake.date_between(start_date='-1y',end_date='+1y').strftime('%d-%m-%Y'))\n",
    "    idCreador.append(random.randint(0, 11999))\n",
    "    contador += 1\n",
    "    "
   ]
  },
  {
   "cell_type": "code",
   "execution_count": 215,
   "id": "7c0d8664",
   "metadata": {},
   "outputs": [],
   "source": [
    "Eventos = pd.DataFrame()"
   ]
  },
  {
   "cell_type": "code",
   "execution_count": 216,
   "id": "5eb72352",
   "metadata": {},
   "outputs": [],
   "source": [
    "Eventos['idEvento'] = idEvento\n",
    "Eventos['nombre'] = nombreEvento\n",
    "Eventos['descripcion'] = None\n",
    "Eventos['fechaEvento'] = dateEvento\n",
    "Eventos['fechaCreacion'] = None\n",
    "Eventos['idCreador'] = idCreador"
   ]
  },
  {
   "cell_type": "code",
   "execution_count": 218,
   "id": "9839b722",
   "metadata": {},
   "outputs": [
    {
     "data": {
      "text/html": [
       "<div>\n",
       "<style scoped>\n",
       "    .dataframe tbody tr th:only-of-type {\n",
       "        vertical-align: middle;\n",
       "    }\n",
       "\n",
       "    .dataframe tbody tr th {\n",
       "        vertical-align: top;\n",
       "    }\n",
       "\n",
       "    .dataframe thead th {\n",
       "        text-align: right;\n",
       "    }\n",
       "</style>\n",
       "<table border=\"1\" class=\"dataframe\">\n",
       "  <thead>\n",
       "    <tr style=\"text-align: right;\">\n",
       "      <th></th>\n",
       "      <th>idEvento</th>\n",
       "      <th>nombre</th>\n",
       "      <th>descripcion</th>\n",
       "      <th>fechaEvento</th>\n",
       "      <th>fechaCreacion</th>\n",
       "      <th>idCreador</th>\n",
       "    </tr>\n",
       "  </thead>\n",
       "  <tbody>\n",
       "    <tr>\n",
       "      <th>595</th>\n",
       "      <td>595</td>\n",
       "      <td>TedTalk Ciencias de la Salud Universidad Autón...</td>\n",
       "      <td>None</td>\n",
       "      <td>20-08-2021</td>\n",
       "      <td>None</td>\n",
       "      <td>6752</td>\n",
       "    </tr>\n",
       "    <tr>\n",
       "      <th>596</th>\n",
       "      <td>596</td>\n",
       "      <td>TedTalk Educación Física Universidad de Granada</td>\n",
       "      <td>None</td>\n",
       "      <td>09-10-2021</td>\n",
       "      <td>None</td>\n",
       "      <td>4384</td>\n",
       "    </tr>\n",
       "    <tr>\n",
       "      <th>597</th>\n",
       "      <td>597</td>\n",
       "      <td>Bienvenida nuevos alumnos Ciencias Físicas y M...</td>\n",
       "      <td>None</td>\n",
       "      <td>03-02-2023</td>\n",
       "      <td>None</td>\n",
       "      <td>8179</td>\n",
       "    </tr>\n",
       "    <tr>\n",
       "      <th>598</th>\n",
       "      <td>598</td>\n",
       "      <td>Reunión director Arquitectura Universidad Inte...</td>\n",
       "      <td>None</td>\n",
       "      <td>24-01-2022</td>\n",
       "      <td>None</td>\n",
       "      <td>7191</td>\n",
       "    </tr>\n",
       "    <tr>\n",
       "      <th>599</th>\n",
       "      <td>599</td>\n",
       "      <td>TedTalk Matemática CUNEF Universidad</td>\n",
       "      <td>None</td>\n",
       "      <td>03-04-2023</td>\n",
       "      <td>None</td>\n",
       "      <td>6803</td>\n",
       "    </tr>\n",
       "  </tbody>\n",
       "</table>\n",
       "</div>"
      ],
      "text/plain": [
       "     idEvento                                             nombre descripcion  \\\n",
       "595       595  TedTalk Ciencias de la Salud Universidad Autón...        None   \n",
       "596       596    TedTalk Educación Física Universidad de Granada        None   \n",
       "597       597  Bienvenida nuevos alumnos Ciencias Físicas y M...        None   \n",
       "598       598  Reunión director Arquitectura Universidad Inte...        None   \n",
       "599       599               TedTalk Matemática CUNEF Universidad        None   \n",
       "\n",
       "    fechaEvento fechaCreacion  idCreador  \n",
       "595  20-08-2021          None       6752  \n",
       "596  09-10-2021          None       4384  \n",
       "597  03-02-2023          None       8179  \n",
       "598  24-01-2022          None       7191  \n",
       "599  03-04-2023          None       6803  "
      ]
     },
     "execution_count": 218,
     "metadata": {},
     "output_type": "execute_result"
    }
   ],
   "source": [
    "Eventos.tail()"
   ]
  },
  {
   "cell_type": "code",
   "execution_count": 219,
   "id": "5103b3d1",
   "metadata": {},
   "outputs": [],
   "source": [
    "Eventos.to_csv('../data/Eventos.csv', sep = ',', index = False)"
   ]
  },
  {
   "cell_type": "markdown",
   "id": "4428ff16",
   "metadata": {},
   "source": [
    "### PROPUESTAS"
   ]
  },
  {
   "cell_type": "code",
   "execution_count": null,
   "id": "e4ddb32a",
   "metadata": {},
   "outputs": [],
   "source": []
  }
 ],
 "metadata": {
  "kernelspec": {
   "display_name": "Python 3 (ipykernel)",
   "language": "python",
   "name": "python3"
  },
  "language_info": {
   "codemirror_mode": {
    "name": "ipython",
    "version": 3
   },
   "file_extension": ".py",
   "mimetype": "text/x-python",
   "name": "python",
   "nbconvert_exporter": "python",
   "pygments_lexer": "ipython3",
   "version": "3.9.7"
  }
 },
 "nbformat": 4,
 "nbformat_minor": 5
}
