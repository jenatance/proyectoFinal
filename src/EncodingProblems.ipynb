{
 "cells": [
  {
   "cell_type": "markdown",
   "id": "e95aefd9",
   "metadata": {},
   "source": [
    "# ENCODING PROBLEMS"
   ]
  },
  {
   "cell_type": "code",
   "execution_count": 2,
   "id": "fa36a7aa",
   "metadata": {},
   "outputs": [],
   "source": [
    "import pandas as pd"
   ]
  },
  {
   "cell_type": "code",
   "execution_count": 3,
   "id": "b43b8bb6",
   "metadata": {},
   "outputs": [],
   "source": [
    "universidades = pd.read_csv('../data/universidades.csv', encoding = \"UTF8\")"
   ]
  },
  {
   "cell_type": "code",
   "execution_count": 4,
   "id": "efac454f",
   "metadata": {},
   "outputs": [
    {
     "data": {
      "text/html": [
       "<div>\n",
       "<style scoped>\n",
       "    .dataframe tbody tr th:only-of-type {\n",
       "        vertical-align: middle;\n",
       "    }\n",
       "\n",
       "    .dataframe tbody tr th {\n",
       "        vertical-align: top;\n",
       "    }\n",
       "\n",
       "    .dataframe thead th {\n",
       "        text-align: right;\n",
       "    }\n",
       "</style>\n",
       "<table border=\"1\" class=\"dataframe\">\n",
       "  <thead>\n",
       "    <tr style=\"text-align: right;\">\n",
       "      <th></th>\n",
       "      <th>idUniversidad</th>\n",
       "      <th>nombre</th>\n",
       "      <th>sede</th>\n",
       "      <th>comunidadAutonoma</th>\n",
       "      <th>fundacion</th>\n",
       "      <th>tipo</th>\n",
       "    </tr>\n",
       "  </thead>\n",
       "  <tbody>\n",
       "    <tr>\n",
       "      <th>0</th>\n",
       "      <td>0</td>\n",
       "      <td>Universidad de Sevilla</td>\n",
       "      <td>Sevilla</td>\n",
       "      <td>Andalucía</td>\n",
       "      <td>1505</td>\n",
       "      <td>Pública</td>\n",
       "    </tr>\n",
       "    <tr>\n",
       "      <th>1</th>\n",
       "      <td>1</td>\n",
       "      <td>Universidad de Granada</td>\n",
       "      <td>Granada</td>\n",
       "      <td>Andalucía</td>\n",
       "      <td>1531</td>\n",
       "      <td>Pública</td>\n",
       "    </tr>\n",
       "    <tr>\n",
       "      <th>2</th>\n",
       "      <td>2</td>\n",
       "      <td>Universidad de Córdoba</td>\n",
       "      <td>Córdoba</td>\n",
       "      <td>Andalucía</td>\n",
       "      <td>1972</td>\n",
       "      <td>Pública</td>\n",
       "    </tr>\n",
       "    <tr>\n",
       "      <th>3</th>\n",
       "      <td>3</td>\n",
       "      <td>Universidad de Málaga</td>\n",
       "      <td>Málaga</td>\n",
       "      <td>Andalucía</td>\n",
       "      <td>1972</td>\n",
       "      <td>Pública</td>\n",
       "    </tr>\n",
       "    <tr>\n",
       "      <th>4</th>\n",
       "      <td>4</td>\n",
       "      <td>Universidad de Cádiz</td>\n",
       "      <td>Cádiz</td>\n",
       "      <td>Andalucía</td>\n",
       "      <td>1979</td>\n",
       "      <td>Pública</td>\n",
       "    </tr>\n",
       "  </tbody>\n",
       "</table>\n",
       "</div>"
      ],
      "text/plain": [
       "   idUniversidad                  nombre     sede comunidadAutonoma  \\\n",
       "0              0  Universidad de Sevilla  Sevilla         Andalucía   \n",
       "1              1  Universidad de Granada  Granada         Andalucía   \n",
       "2              2  Universidad de Córdoba  Córdoba         Andalucía   \n",
       "3              3   Universidad de Málaga   Málaga         Andalucía   \n",
       "4              4    Universidad de Cádiz    Cádiz         Andalucía   \n",
       "\n",
       "   fundacion     tipo  \n",
       "0       1505  Pública  \n",
       "1       1531  Pública  \n",
       "2       1972  Pública  \n",
       "3       1972  Pública  \n",
       "4       1979  Pública  "
      ]
     },
     "execution_count": 4,
     "metadata": {},
     "output_type": "execute_result"
    }
   ],
   "source": [
    "universidades.head()"
   ]
  },
  {
   "cell_type": "code",
   "execution_count": 5,
   "id": "dea20e6d",
   "metadata": {},
   "outputs": [],
   "source": [
    "universidades.to_csv('../data/encoding/universidadesCopy.csv', sep = ',', index = False, encoding = 'ISO-8859-1')"
   ]
  },
  {
   "cell_type": "code",
   "execution_count": null,
   "id": "36c3f86f",
   "metadata": {},
   "outputs": [],
   "source": []
  },
  {
   "cell_type": "code",
   "execution_count": 6,
   "id": "769cde20",
   "metadata": {},
   "outputs": [],
   "source": [
    "Categorias = pd.read_csv('../data/Categorias.csv', encoding = \"UTF8\")"
   ]
  },
  {
   "cell_type": "code",
   "execution_count": 7,
   "id": "10b89cd0",
   "metadata": {},
   "outputs": [
    {
     "data": {
      "text/html": [
       "<div>\n",
       "<style scoped>\n",
       "    .dataframe tbody tr th:only-of-type {\n",
       "        vertical-align: middle;\n",
       "    }\n",
       "\n",
       "    .dataframe tbody tr th {\n",
       "        vertical-align: top;\n",
       "    }\n",
       "\n",
       "    .dataframe thead th {\n",
       "        text-align: right;\n",
       "    }\n",
       "</style>\n",
       "<table border=\"1\" class=\"dataframe\">\n",
       "  <thead>\n",
       "    <tr style=\"text-align: right;\">\n",
       "      <th></th>\n",
       "      <th>idCategoria</th>\n",
       "      <th>nombre</th>\n",
       "    </tr>\n",
       "  </thead>\n",
       "  <tbody>\n",
       "    <tr>\n",
       "      <th>0</th>\n",
       "      <td>0</td>\n",
       "      <td>Lifestyle</td>\n",
       "    </tr>\n",
       "    <tr>\n",
       "      <th>1</th>\n",
       "      <td>1</td>\n",
       "      <td>Campus</td>\n",
       "    </tr>\n",
       "    <tr>\n",
       "      <th>2</th>\n",
       "      <td>2</td>\n",
       "      <td>Fiesta</td>\n",
       "    </tr>\n",
       "    <tr>\n",
       "      <th>3</th>\n",
       "      <td>3</td>\n",
       "      <td>Aprendizaje</td>\n",
       "    </tr>\n",
       "    <tr>\n",
       "      <th>4</th>\n",
       "      <td>4</td>\n",
       "      <td>Quejas</td>\n",
       "    </tr>\n",
       "  </tbody>\n",
       "</table>\n",
       "</div>"
      ],
      "text/plain": [
       "   idCategoria       nombre\n",
       "0            0    Lifestyle\n",
       "1            1       Campus\n",
       "2            2       Fiesta\n",
       "3            3  Aprendizaje\n",
       "4            4       Quejas"
      ]
     },
     "execution_count": 7,
     "metadata": {},
     "output_type": "execute_result"
    }
   ],
   "source": [
    "Categorias.head()"
   ]
  },
  {
   "cell_type": "code",
   "execution_count": 8,
   "id": "013d1e5a",
   "metadata": {},
   "outputs": [],
   "source": [
    "Categorias.to_csv('../data/encoding/CategoriasCopy.csv', sep = ',', index = False, encoding = 'ISO-8859-1')"
   ]
  },
  {
   "cell_type": "code",
   "execution_count": null,
   "id": "27bcc713",
   "metadata": {},
   "outputs": [],
   "source": []
  },
  {
   "cell_type": "code",
   "execution_count": 33,
   "id": "7751434a",
   "metadata": {},
   "outputs": [],
   "source": [
    "CategoriasEventos = pd.read_csv('../data/CategoriasEventos.csv', encoding = \"UTF8\")"
   ]
  },
  {
   "cell_type": "code",
   "execution_count": 34,
   "id": "f0bf5d5d",
   "metadata": {},
   "outputs": [
    {
     "data": {
      "text/html": [
       "<div>\n",
       "<style scoped>\n",
       "    .dataframe tbody tr th:only-of-type {\n",
       "        vertical-align: middle;\n",
       "    }\n",
       "\n",
       "    .dataframe tbody tr th {\n",
       "        vertical-align: top;\n",
       "    }\n",
       "\n",
       "    .dataframe thead th {\n",
       "        text-align: right;\n",
       "    }\n",
       "</style>\n",
       "<table border=\"1\" class=\"dataframe\">\n",
       "  <thead>\n",
       "    <tr style=\"text-align: right;\">\n",
       "      <th></th>\n",
       "      <th>idEvento</th>\n",
       "      <th>idCategoria</th>\n",
       "    </tr>\n",
       "  </thead>\n",
       "  <tbody>\n",
       "    <tr>\n",
       "      <th>0</th>\n",
       "      <td>360</td>\n",
       "      <td>14</td>\n",
       "    </tr>\n",
       "    <tr>\n",
       "      <th>1</th>\n",
       "      <td>418</td>\n",
       "      <td>1</td>\n",
       "    </tr>\n",
       "    <tr>\n",
       "      <th>2</th>\n",
       "      <td>175</td>\n",
       "      <td>3</td>\n",
       "    </tr>\n",
       "    <tr>\n",
       "      <th>3</th>\n",
       "      <td>126</td>\n",
       "      <td>2</td>\n",
       "    </tr>\n",
       "    <tr>\n",
       "      <th>4</th>\n",
       "      <td>265</td>\n",
       "      <td>1</td>\n",
       "    </tr>\n",
       "  </tbody>\n",
       "</table>\n",
       "</div>"
      ],
      "text/plain": [
       "   idEvento  idCategoria\n",
       "0       360           14\n",
       "1       418            1\n",
       "2       175            3\n",
       "3       126            2\n",
       "4       265            1"
      ]
     },
     "execution_count": 34,
     "metadata": {},
     "output_type": "execute_result"
    }
   ],
   "source": [
    "CategoriasEventos.head()"
   ]
  },
  {
   "cell_type": "code",
   "execution_count": 35,
   "id": "34d4f70f",
   "metadata": {},
   "outputs": [],
   "source": [
    "CategoriasEventos.to_csv('../data/encoding/CategoriasEventosCopy.csv', sep = ',', index = False, encoding = 'ISO-8859-1')"
   ]
  },
  {
   "cell_type": "code",
   "execution_count": null,
   "id": "731b93b2",
   "metadata": {},
   "outputs": [],
   "source": []
  },
  {
   "cell_type": "code",
   "execution_count": 36,
   "id": "e310e912",
   "metadata": {},
   "outputs": [],
   "source": [
    "CategoriasPropuestas = pd.read_csv('../data/CategoriasPropuestas.csv', encoding = \"UTF8\")"
   ]
  },
  {
   "cell_type": "code",
   "execution_count": 37,
   "id": "7c9d3c2c",
   "metadata": {},
   "outputs": [
    {
     "data": {
      "text/html": [
       "<div>\n",
       "<style scoped>\n",
       "    .dataframe tbody tr th:only-of-type {\n",
       "        vertical-align: middle;\n",
       "    }\n",
       "\n",
       "    .dataframe tbody tr th {\n",
       "        vertical-align: top;\n",
       "    }\n",
       "\n",
       "    .dataframe thead th {\n",
       "        text-align: right;\n",
       "    }\n",
       "</style>\n",
       "<table border=\"1\" class=\"dataframe\">\n",
       "  <thead>\n",
       "    <tr style=\"text-align: right;\">\n",
       "      <th></th>\n",
       "      <th>idPropuesta</th>\n",
       "      <th>idCategoria</th>\n",
       "    </tr>\n",
       "  </thead>\n",
       "  <tbody>\n",
       "    <tr>\n",
       "      <th>0</th>\n",
       "      <td>1088</td>\n",
       "      <td>17</td>\n",
       "    </tr>\n",
       "    <tr>\n",
       "      <th>1</th>\n",
       "      <td>1077</td>\n",
       "      <td>12</td>\n",
       "    </tr>\n",
       "    <tr>\n",
       "      <th>2</th>\n",
       "      <td>162</td>\n",
       "      <td>7</td>\n",
       "    </tr>\n",
       "    <tr>\n",
       "      <th>3</th>\n",
       "      <td>29</td>\n",
       "      <td>2</td>\n",
       "    </tr>\n",
       "    <tr>\n",
       "      <th>4</th>\n",
       "      <td>309</td>\n",
       "      <td>1</td>\n",
       "    </tr>\n",
       "  </tbody>\n",
       "</table>\n",
       "</div>"
      ],
      "text/plain": [
       "   idPropuesta  idCategoria\n",
       "0         1088           17\n",
       "1         1077           12\n",
       "2          162            7\n",
       "3           29            2\n",
       "4          309            1"
      ]
     },
     "execution_count": 37,
     "metadata": {},
     "output_type": "execute_result"
    }
   ],
   "source": [
    "CategoriasPropuestas.head()"
   ]
  },
  {
   "cell_type": "code",
   "execution_count": 38,
   "id": "f0eec179",
   "metadata": {},
   "outputs": [],
   "source": [
    "CategoriasPropuestas.to_csv('../data/encoding/CategoriasPropuestasCopy.csv', sep = ',', index = False, encoding = 'ISO-8859-1')"
   ]
  },
  {
   "cell_type": "code",
   "execution_count": null,
   "id": "ff31f329",
   "metadata": {},
   "outputs": [],
   "source": []
  },
  {
   "cell_type": "code",
   "execution_count": 21,
   "id": "bd157406",
   "metadata": {},
   "outputs": [],
   "source": [
    "Eventos = pd.read_csv('../data/Eventos.csv', encoding = \"UTF8\")"
   ]
  },
  {
   "cell_type": "code",
   "execution_count": 22,
   "id": "da00fce7",
   "metadata": {},
   "outputs": [
    {
     "data": {
      "text/html": [
       "<div>\n",
       "<style scoped>\n",
       "    .dataframe tbody tr th:only-of-type {\n",
       "        vertical-align: middle;\n",
       "    }\n",
       "\n",
       "    .dataframe tbody tr th {\n",
       "        vertical-align: top;\n",
       "    }\n",
       "\n",
       "    .dataframe thead th {\n",
       "        text-align: right;\n",
       "    }\n",
       "</style>\n",
       "<table border=\"1\" class=\"dataframe\">\n",
       "  <thead>\n",
       "    <tr style=\"text-align: right;\">\n",
       "      <th></th>\n",
       "      <th>idEvento</th>\n",
       "      <th>nombre</th>\n",
       "      <th>descripcion</th>\n",
       "      <th>fechaEvento</th>\n",
       "      <th>fechaCreacion</th>\n",
       "      <th>idCreador</th>\n",
       "    </tr>\n",
       "  </thead>\n",
       "  <tbody>\n",
       "    <tr>\n",
       "      <th>0</th>\n",
       "      <td>0</td>\n",
       "      <td>Cumpleaños de Anselmo Batlle Muñoz</td>\n",
       "      <td>NaN</td>\n",
       "      <td>05-05-2023</td>\n",
       "      <td>NaN</td>\n",
       "      <td>6267</td>\n",
       "    </tr>\n",
       "    <tr>\n",
       "      <th>1</th>\n",
       "      <td>1</td>\n",
       "      <td>Poniencia de Macario Leal-Solís</td>\n",
       "      <td>NaN</td>\n",
       "      <td>13-08-2021</td>\n",
       "      <td>NaN</td>\n",
       "      <td>11468</td>\n",
       "    </tr>\n",
       "    <tr>\n",
       "      <th>2</th>\n",
       "      <td>2</td>\n",
       "      <td>Cumpleaños de Juan Luis Carreño Pellicer</td>\n",
       "      <td>NaN</td>\n",
       "      <td>28-04-2022</td>\n",
       "      <td>NaN</td>\n",
       "      <td>36</td>\n",
       "    </tr>\n",
       "    <tr>\n",
       "      <th>3</th>\n",
       "      <td>3</td>\n",
       "      <td>Despedida de Candelas Flores-Pinilla</td>\n",
       "      <td>NaN</td>\n",
       "      <td>21-10-2022</td>\n",
       "      <td>NaN</td>\n",
       "      <td>1363</td>\n",
       "    </tr>\n",
       "    <tr>\n",
       "      <th>4</th>\n",
       "      <td>4</td>\n",
       "      <td>Jubilación de Quirino Llano-Navarro</td>\n",
       "      <td>NaN</td>\n",
       "      <td>09-11-2021</td>\n",
       "      <td>NaN</td>\n",
       "      <td>10460</td>\n",
       "    </tr>\n",
       "  </tbody>\n",
       "</table>\n",
       "</div>"
      ],
      "text/plain": [
       "   idEvento                                    nombre  descripcion  \\\n",
       "0         0        Cumpleaños de Anselmo Batlle Muñoz          NaN   \n",
       "1         1           Poniencia de Macario Leal-Solís          NaN   \n",
       "2         2  Cumpleaños de Juan Luis Carreño Pellicer          NaN   \n",
       "3         3      Despedida de Candelas Flores-Pinilla          NaN   \n",
       "4         4       Jubilación de Quirino Llano-Navarro          NaN   \n",
       "\n",
       "  fechaEvento  fechaCreacion  idCreador  \n",
       "0  05-05-2023            NaN       6267  \n",
       "1  13-08-2021            NaN      11468  \n",
       "2  28-04-2022            NaN         36  \n",
       "3  21-10-2022            NaN       1363  \n",
       "4  09-11-2021            NaN      10460  "
      ]
     },
     "execution_count": 22,
     "metadata": {},
     "output_type": "execute_result"
    }
   ],
   "source": [
    "Eventos.head()"
   ]
  },
  {
   "cell_type": "code",
   "execution_count": 23,
   "id": "e75f2d06",
   "metadata": {},
   "outputs": [],
   "source": [
    "Eventos.to_csv('../data/encoding/EventosCopy.csv', sep = ',', index = False, encoding = 'ISO-8859-1')"
   ]
  },
  {
   "cell_type": "code",
   "execution_count": null,
   "id": "2f5071fa",
   "metadata": {},
   "outputs": [],
   "source": []
  },
  {
   "cell_type": "code",
   "execution_count": 39,
   "id": "3d8a002a",
   "metadata": {},
   "outputs": [],
   "source": [
    "ParticipantesEventos = pd.read_csv('../data/ParticipantesEventos.csv', encoding = \"UTF8\")"
   ]
  },
  {
   "cell_type": "code",
   "execution_count": 40,
   "id": "dec88a29",
   "metadata": {},
   "outputs": [
    {
     "data": {
      "text/html": [
       "<div>\n",
       "<style scoped>\n",
       "    .dataframe tbody tr th:only-of-type {\n",
       "        vertical-align: middle;\n",
       "    }\n",
       "\n",
       "    .dataframe tbody tr th {\n",
       "        vertical-align: top;\n",
       "    }\n",
       "\n",
       "    .dataframe thead th {\n",
       "        text-align: right;\n",
       "    }\n",
       "</style>\n",
       "<table border=\"1\" class=\"dataframe\">\n",
       "  <thead>\n",
       "    <tr style=\"text-align: right;\">\n",
       "      <th></th>\n",
       "      <th>idUsuario</th>\n",
       "      <th>idEvento</th>\n",
       "    </tr>\n",
       "  </thead>\n",
       "  <tbody>\n",
       "    <tr>\n",
       "      <th>0</th>\n",
       "      <td>2856</td>\n",
       "      <td>98</td>\n",
       "    </tr>\n",
       "    <tr>\n",
       "      <th>1</th>\n",
       "      <td>5990</td>\n",
       "      <td>35</td>\n",
       "    </tr>\n",
       "    <tr>\n",
       "      <th>2</th>\n",
       "      <td>2517</td>\n",
       "      <td>111</td>\n",
       "    </tr>\n",
       "    <tr>\n",
       "      <th>3</th>\n",
       "      <td>9072</td>\n",
       "      <td>222</td>\n",
       "    </tr>\n",
       "    <tr>\n",
       "      <th>4</th>\n",
       "      <td>9327</td>\n",
       "      <td>374</td>\n",
       "    </tr>\n",
       "  </tbody>\n",
       "</table>\n",
       "</div>"
      ],
      "text/plain": [
       "   idUsuario  idEvento\n",
       "0       2856        98\n",
       "1       5990        35\n",
       "2       2517       111\n",
       "3       9072       222\n",
       "4       9327       374"
      ]
     },
     "execution_count": 40,
     "metadata": {},
     "output_type": "execute_result"
    }
   ],
   "source": [
    "ParticipantesEventos.head()"
   ]
  },
  {
   "cell_type": "code",
   "execution_count": 41,
   "id": "20e7f58e",
   "metadata": {},
   "outputs": [],
   "source": [
    "ParticipantesEventos.to_csv('../data/encoding/ParticipantesEventosCopy.csv', sep = ',', index = False, encoding = 'ISO-8859-1')"
   ]
  },
  {
   "cell_type": "code",
   "execution_count": null,
   "id": "b94f3fae",
   "metadata": {},
   "outputs": [],
   "source": []
  },
  {
   "cell_type": "code",
   "execution_count": 42,
   "id": "f1d0de17",
   "metadata": {},
   "outputs": [],
   "source": [
    "ParticipantesPropuestas = pd.read_csv('../data/ParticipantesPropuestas.csv', encoding = \"UTF8\")"
   ]
  },
  {
   "cell_type": "code",
   "execution_count": 43,
   "id": "0ac7f41d",
   "metadata": {},
   "outputs": [
    {
     "data": {
      "text/html": [
       "<div>\n",
       "<style scoped>\n",
       "    .dataframe tbody tr th:only-of-type {\n",
       "        vertical-align: middle;\n",
       "    }\n",
       "\n",
       "    .dataframe tbody tr th {\n",
       "        vertical-align: top;\n",
       "    }\n",
       "\n",
       "    .dataframe thead th {\n",
       "        text-align: right;\n",
       "    }\n",
       "</style>\n",
       "<table border=\"1\" class=\"dataframe\">\n",
       "  <thead>\n",
       "    <tr style=\"text-align: right;\">\n",
       "      <th></th>\n",
       "      <th>idUsuario</th>\n",
       "      <th>idPropuesta</th>\n",
       "    </tr>\n",
       "  </thead>\n",
       "  <tbody>\n",
       "    <tr>\n",
       "      <th>0</th>\n",
       "      <td>2616</td>\n",
       "      <td>883</td>\n",
       "    </tr>\n",
       "    <tr>\n",
       "      <th>1</th>\n",
       "      <td>5796</td>\n",
       "      <td>637</td>\n",
       "    </tr>\n",
       "    <tr>\n",
       "      <th>2</th>\n",
       "      <td>7887</td>\n",
       "      <td>559</td>\n",
       "    </tr>\n",
       "    <tr>\n",
       "      <th>3</th>\n",
       "      <td>10059</td>\n",
       "      <td>59</td>\n",
       "    </tr>\n",
       "    <tr>\n",
       "      <th>4</th>\n",
       "      <td>8906</td>\n",
       "      <td>79</td>\n",
       "    </tr>\n",
       "  </tbody>\n",
       "</table>\n",
       "</div>"
      ],
      "text/plain": [
       "   idUsuario  idPropuesta\n",
       "0       2616          883\n",
       "1       5796          637\n",
       "2       7887          559\n",
       "3      10059           59\n",
       "4       8906           79"
      ]
     },
     "execution_count": 43,
     "metadata": {},
     "output_type": "execute_result"
    }
   ],
   "source": [
    "ParticipantesPropuestas.head()"
   ]
  },
  {
   "cell_type": "code",
   "execution_count": 44,
   "id": "e2bb0db6",
   "metadata": {},
   "outputs": [],
   "source": [
    "ParticipantesPropuestas.to_csv('../data/encoding/ParticipantesPropuestasCopy.csv', sep = ',', index = False, encoding = 'ISO-8859-1')"
   ]
  },
  {
   "cell_type": "code",
   "execution_count": null,
   "id": "48ebb995",
   "metadata": {},
   "outputs": [],
   "source": []
  },
  {
   "cell_type": "code",
   "execution_count": 30,
   "id": "921c3539",
   "metadata": {},
   "outputs": [],
   "source": [
    "Usuarios = pd.read_csv('../data/Usuarios.csv', encoding = \"UTF8\")"
   ]
  },
  {
   "cell_type": "code",
   "execution_count": 31,
   "id": "9655f3a7",
   "metadata": {},
   "outputs": [
    {
     "data": {
      "text/html": [
       "<div>\n",
       "<style scoped>\n",
       "    .dataframe tbody tr th:only-of-type {\n",
       "        vertical-align: middle;\n",
       "    }\n",
       "\n",
       "    .dataframe tbody tr th {\n",
       "        vertical-align: top;\n",
       "    }\n",
       "\n",
       "    .dataframe thead th {\n",
       "        text-align: right;\n",
       "    }\n",
       "</style>\n",
       "<table border=\"1\" class=\"dataframe\">\n",
       "  <thead>\n",
       "    <tr style=\"text-align: right;\">\n",
       "      <th></th>\n",
       "      <th>idUsuario</th>\n",
       "      <th>nombre</th>\n",
       "      <th>username</th>\n",
       "      <th>idUniversidad</th>\n",
       "      <th>facultad</th>\n",
       "      <th>curso</th>\n",
       "      <th>clase</th>\n",
       "      <th>edad</th>\n",
       "    </tr>\n",
       "  </thead>\n",
       "  <tbody>\n",
       "    <tr>\n",
       "      <th>0</th>\n",
       "      <td>0</td>\n",
       "      <td>Bernarda Jimenez-Manjón</td>\n",
       "      <td>['mereLemur3']</td>\n",
       "      <td>83</td>\n",
       "      <td>Arquitectura</td>\n",
       "      <td>5</td>\n",
       "      <td>D</td>\n",
       "      <td>24</td>\n",
       "    </tr>\n",
       "    <tr>\n",
       "      <th>1</th>\n",
       "      <td>1</td>\n",
       "      <td>Pilar Gallardo Flores</td>\n",
       "      <td>['pitifulAntelope2']</td>\n",
       "      <td>79</td>\n",
       "      <td>Comunicación</td>\n",
       "      <td>3</td>\n",
       "      <td>C</td>\n",
       "      <td>38</td>\n",
       "    </tr>\n",
       "    <tr>\n",
       "      <th>2</th>\n",
       "      <td>2</td>\n",
       "      <td>Cesar Salmerón Goñi</td>\n",
       "      <td>['cautiousGelding9']</td>\n",
       "      <td>6</td>\n",
       "      <td>Educación Física</td>\n",
       "      <td>2</td>\n",
       "      <td>D</td>\n",
       "      <td>34</td>\n",
       "    </tr>\n",
       "    <tr>\n",
       "      <th>3</th>\n",
       "      <td>3</td>\n",
       "      <td>Rosalina Nogueira-Corral</td>\n",
       "      <td>['culturedQuiche3']</td>\n",
       "      <td>51</td>\n",
       "      <td>Medicina</td>\n",
       "      <td>3</td>\n",
       "      <td>D</td>\n",
       "      <td>40</td>\n",
       "    </tr>\n",
       "    <tr>\n",
       "      <th>4</th>\n",
       "      <td>4</td>\n",
       "      <td>Pilar Mayol Artigas</td>\n",
       "      <td>['alertSeagull3']</td>\n",
       "      <td>76</td>\n",
       "      <td>Ciencias de la Salud</td>\n",
       "      <td>6</td>\n",
       "      <td>A</td>\n",
       "      <td>29</td>\n",
       "    </tr>\n",
       "  </tbody>\n",
       "</table>\n",
       "</div>"
      ],
      "text/plain": [
       "   idUsuario                    nombre              username  idUniversidad  \\\n",
       "0          0   Bernarda Jimenez-Manjón        ['mereLemur3']             83   \n",
       "1          1     Pilar Gallardo Flores  ['pitifulAntelope2']             79   \n",
       "2          2       Cesar Salmerón Goñi  ['cautiousGelding9']              6   \n",
       "3          3  Rosalina Nogueira-Corral   ['culturedQuiche3']             51   \n",
       "4          4       Pilar Mayol Artigas     ['alertSeagull3']             76   \n",
       "\n",
       "               facultad  curso clase  edad  \n",
       "0          Arquitectura      5     D    24  \n",
       "1          Comunicación      3     C    38  \n",
       "2      Educación Física      2     D    34  \n",
       "3              Medicina      3     D    40  \n",
       "4  Ciencias de la Salud      6     A    29  "
      ]
     },
     "execution_count": 31,
     "metadata": {},
     "output_type": "execute_result"
    }
   ],
   "source": [
    "Usuarios.head()"
   ]
  },
  {
   "cell_type": "code",
   "execution_count": 32,
   "id": "b977d678",
   "metadata": {},
   "outputs": [],
   "source": [
    "Usuarios.to_csv('../data/encoding/UsuariosCopy.csv', sep = ',', index = False, encoding = 'ISO-8859-1')"
   ]
  },
  {
   "cell_type": "code",
   "execution_count": null,
   "id": "33977385",
   "metadata": {},
   "outputs": [],
   "source": []
  },
  {
   "cell_type": "code",
   "execution_count": 45,
   "id": "c7efcbc8",
   "metadata": {},
   "outputs": [],
   "source": [
    "Propuestas = pd.read_csv('../data/Propuestas.csv', encoding = \"UTF8\")"
   ]
  },
  {
   "cell_type": "code",
   "execution_count": 46,
   "id": "ee187f2a",
   "metadata": {},
   "outputs": [
    {
     "data": {
      "text/html": [
       "<div>\n",
       "<style scoped>\n",
       "    .dataframe tbody tr th:only-of-type {\n",
       "        vertical-align: middle;\n",
       "    }\n",
       "\n",
       "    .dataframe tbody tr th {\n",
       "        vertical-align: top;\n",
       "    }\n",
       "\n",
       "    .dataframe thead th {\n",
       "        text-align: right;\n",
       "    }\n",
       "</style>\n",
       "<table border=\"1\" class=\"dataframe\">\n",
       "  <thead>\n",
       "    <tr style=\"text-align: right;\">\n",
       "      <th></th>\n",
       "      <th>idPropuesta</th>\n",
       "      <th>nombre</th>\n",
       "      <th>descripcion</th>\n",
       "      <th>fechaCreacion</th>\n",
       "      <th>idCreador</th>\n",
       "    </tr>\n",
       "  </thead>\n",
       "  <tbody>\n",
       "    <tr>\n",
       "      <th>0</th>\n",
       "      <td>0</td>\n",
       "      <td>Denunciar a María Manuela Flores Capdevila</td>\n",
       "      <td>NaN</td>\n",
       "      <td>NaN</td>\n",
       "      <td>1343</td>\n",
       "    </tr>\n",
       "    <tr>\n",
       "      <th>1</th>\n",
       "      <td>1</td>\n",
       "      <td>Hablar con Jose Guillen-Vaquero</td>\n",
       "      <td>NaN</td>\n",
       "      <td>NaN</td>\n",
       "      <td>7521</td>\n",
       "    </tr>\n",
       "    <tr>\n",
       "      <th>2</th>\n",
       "      <td>2</td>\n",
       "      <td>Quitar el busto de Telmo Cabello Mir</td>\n",
       "      <td>NaN</td>\n",
       "      <td>NaN</td>\n",
       "      <td>7471</td>\n",
       "    </tr>\n",
       "    <tr>\n",
       "      <th>3</th>\n",
       "      <td>3</td>\n",
       "      <td>Quitar el busto de Renata Juan Infante</td>\n",
       "      <td>NaN</td>\n",
       "      <td>NaN</td>\n",
       "      <td>2214</td>\n",
       "    </tr>\n",
       "    <tr>\n",
       "      <th>4</th>\n",
       "      <td>4</td>\n",
       "      <td>Quitar el busto de Vinicio Cornejo Carreras</td>\n",
       "      <td>NaN</td>\n",
       "      <td>NaN</td>\n",
       "      <td>3778</td>\n",
       "    </tr>\n",
       "  </tbody>\n",
       "</table>\n",
       "</div>"
      ],
      "text/plain": [
       "   idPropuesta                                       nombre  descripcion  \\\n",
       "0            0   Denunciar a María Manuela Flores Capdevila          NaN   \n",
       "1            1              Hablar con Jose Guillen-Vaquero          NaN   \n",
       "2            2         Quitar el busto de Telmo Cabello Mir          NaN   \n",
       "3            3       Quitar el busto de Renata Juan Infante          NaN   \n",
       "4            4  Quitar el busto de Vinicio Cornejo Carreras          NaN   \n",
       "\n",
       "   fechaCreacion  idCreador  \n",
       "0            NaN       1343  \n",
       "1            NaN       7521  \n",
       "2            NaN       7471  \n",
       "3            NaN       2214  \n",
       "4            NaN       3778  "
      ]
     },
     "execution_count": 46,
     "metadata": {},
     "output_type": "execute_result"
    }
   ],
   "source": [
    "Propuestas.head()"
   ]
  },
  {
   "cell_type": "code",
   "execution_count": 47,
   "id": "15b9beb1",
   "metadata": {},
   "outputs": [],
   "source": [
    "Propuestas.to_csv('../data/encoding/PropuestasCopy.csv', sep = ',', index = False, encoding = 'ISO-8859-1')"
   ]
  }
 ],
 "metadata": {
  "kernelspec": {
   "display_name": "Python 3 (ipykernel)",
   "language": "python",
   "name": "python3"
  },
  "language_info": {
   "codemirror_mode": {
    "name": "ipython",
    "version": 3
   },
   "file_extension": ".py",
   "mimetype": "text/x-python",
   "name": "python",
   "nbconvert_exporter": "python",
   "pygments_lexer": "ipython3",
   "version": "3.9.7"
  }
 },
 "nbformat": 4,
 "nbformat_minor": 5
}
