{
 "cells": [
  {
   "cell_type": "markdown",
   "id": "a57caaab",
   "metadata": {},
   "source": [
    "# ENCODING PROBLEMS"
   ]
  },
  {
   "cell_type": "code",
   "execution_count": 2,
   "id": "5e0694cf",
   "metadata": {},
   "outputs": [],
   "source": [
    "import pandas as pd"
   ]
  },
  {
   "cell_type": "code",
   "execution_count": 3,
   "id": "8aae02a7",
   "metadata": {},
   "outputs": [],
   "source": [
    "universidades = pd.read_csv('../data/universidades.csv', encoding = \"UTF8\")"
   ]
  },
  {
   "cell_type": "code",
   "execution_count": 4,
   "id": "13834375",
   "metadata": {},
   "outputs": [
    {
     "data": {
      "text/html": [
       "<div>\n",
       "<style scoped>\n",
       "    .dataframe tbody tr th:only-of-type {\n",
       "        vertical-align: middle;\n",
       "    }\n",
       "\n",
       "    .dataframe tbody tr th {\n",
       "        vertical-align: top;\n",
       "    }\n",
       "\n",
       "    .dataframe thead th {\n",
       "        text-align: right;\n",
       "    }\n",
       "</style>\n",
       "<table border=\"1\" class=\"dataframe\">\n",
       "  <thead>\n",
       "    <tr style=\"text-align: right;\">\n",
       "      <th></th>\n",
       "      <th>idUniversidad</th>\n",
       "      <th>nombre</th>\n",
       "      <th>sede</th>\n",
       "      <th>comunidadAutonoma</th>\n",
       "      <th>fundacion</th>\n",
       "      <th>tipo</th>\n",
       "    </tr>\n",
       "  </thead>\n",
       "  <tbody>\n",
       "    <tr>\n",
       "      <th>0</th>\n",
       "      <td>0</td>\n",
       "      <td>Universidad de Sevilla</td>\n",
       "      <td>Sevilla</td>\n",
       "      <td>Andalucía</td>\n",
       "      <td>1505</td>\n",
       "      <td>Pública</td>\n",
       "    </tr>\n",
       "    <tr>\n",
       "      <th>1</th>\n",
       "      <td>1</td>\n",
       "      <td>Universidad de Granada</td>\n",
       "      <td>Granada</td>\n",
       "      <td>Andalucía</td>\n",
       "      <td>1531</td>\n",
       "      <td>Pública</td>\n",
       "    </tr>\n",
       "    <tr>\n",
       "      <th>2</th>\n",
       "      <td>2</td>\n",
       "      <td>Universidad de Córdoba</td>\n",
       "      <td>Córdoba</td>\n",
       "      <td>Andalucía</td>\n",
       "      <td>1972</td>\n",
       "      <td>Pública</td>\n",
       "    </tr>\n",
       "    <tr>\n",
       "      <th>3</th>\n",
       "      <td>3</td>\n",
       "      <td>Universidad de Málaga</td>\n",
       "      <td>Málaga</td>\n",
       "      <td>Andalucía</td>\n",
       "      <td>1972</td>\n",
       "      <td>Pública</td>\n",
       "    </tr>\n",
       "    <tr>\n",
       "      <th>4</th>\n",
       "      <td>4</td>\n",
       "      <td>Universidad de Cádiz</td>\n",
       "      <td>Cádiz</td>\n",
       "      <td>Andalucía</td>\n",
       "      <td>1979</td>\n",
       "      <td>Pública</td>\n",
       "    </tr>\n",
       "  </tbody>\n",
       "</table>\n",
       "</div>"
      ],
      "text/plain": [
       "   idUniversidad                  nombre     sede comunidadAutonoma  \\\n",
       "0              0  Universidad de Sevilla  Sevilla         Andalucía   \n",
       "1              1  Universidad de Granada  Granada         Andalucía   \n",
       "2              2  Universidad de Córdoba  Córdoba         Andalucía   \n",
       "3              3   Universidad de Málaga   Málaga         Andalucía   \n",
       "4              4    Universidad de Cádiz    Cádiz         Andalucía   \n",
       "\n",
       "   fundacion     tipo  \n",
       "0       1505  Pública  \n",
       "1       1531  Pública  \n",
       "2       1972  Pública  \n",
       "3       1972  Pública  \n",
       "4       1979  Pública  "
      ]
     },
     "execution_count": 4,
     "metadata": {},
     "output_type": "execute_result"
    }
   ],
   "source": [
    "universidades.head()"
   ]
  },
  {
   "cell_type": "code",
   "execution_count": 5,
   "id": "2a43aa1b",
   "metadata": {},
   "outputs": [],
   "source": [
    "universidades.to_csv('../data/encoding/universidadesCopy.csv', sep = ',', index = False, encoding = 'ISO-8859-1')"
   ]
  },
  {
   "cell_type": "code",
   "execution_count": null,
   "id": "4910d1b6",
   "metadata": {},
   "outputs": [],
   "source": []
  },
  {
   "cell_type": "code",
   "execution_count": 6,
   "id": "6d07658a",
   "metadata": {},
   "outputs": [],
   "source": [
    "Categorias = pd.read_csv('../data/Categorias.csv', encoding = \"UTF8\")"
   ]
  },
  {
   "cell_type": "code",
   "execution_count": 7,
   "id": "df1d623e",
   "metadata": {},
   "outputs": [
    {
     "data": {
      "text/html": [
       "<div>\n",
       "<style scoped>\n",
       "    .dataframe tbody tr th:only-of-type {\n",
       "        vertical-align: middle;\n",
       "    }\n",
       "\n",
       "    .dataframe tbody tr th {\n",
       "        vertical-align: top;\n",
       "    }\n",
       "\n",
       "    .dataframe thead th {\n",
       "        text-align: right;\n",
       "    }\n",
       "</style>\n",
       "<table border=\"1\" class=\"dataframe\">\n",
       "  <thead>\n",
       "    <tr style=\"text-align: right;\">\n",
       "      <th></th>\n",
       "      <th>idCategoria</th>\n",
       "      <th>nombre</th>\n",
       "    </tr>\n",
       "  </thead>\n",
       "  <tbody>\n",
       "    <tr>\n",
       "      <th>0</th>\n",
       "      <td>0</td>\n",
       "      <td>Lifestyle</td>\n",
       "    </tr>\n",
       "    <tr>\n",
       "      <th>1</th>\n",
       "      <td>1</td>\n",
       "      <td>Campus</td>\n",
       "    </tr>\n",
       "    <tr>\n",
       "      <th>2</th>\n",
       "      <td>2</td>\n",
       "      <td>Fiesta</td>\n",
       "    </tr>\n",
       "    <tr>\n",
       "      <th>3</th>\n",
       "      <td>3</td>\n",
       "      <td>Aprendizaje</td>\n",
       "    </tr>\n",
       "    <tr>\n",
       "      <th>4</th>\n",
       "      <td>4</td>\n",
       "      <td>Quejas</td>\n",
       "    </tr>\n",
       "  </tbody>\n",
       "</table>\n",
       "</div>"
      ],
      "text/plain": [
       "   idCategoria       nombre\n",
       "0            0    Lifestyle\n",
       "1            1       Campus\n",
       "2            2       Fiesta\n",
       "3            3  Aprendizaje\n",
       "4            4       Quejas"
      ]
     },
     "execution_count": 7,
     "metadata": {},
     "output_type": "execute_result"
    }
   ],
   "source": [
    "Categorias.head()"
   ]
  },
  {
   "cell_type": "code",
   "execution_count": 8,
   "id": "e97b2b92",
   "metadata": {},
   "outputs": [],
   "source": [
    "Categorias.to_csv('../data/encoding/CategoriasCopy.csv', sep = ',', index = False, encoding = 'ISO-8859-1')"
   ]
  },
  {
   "cell_type": "code",
   "execution_count": null,
   "id": "c833fcd9",
   "metadata": {},
   "outputs": [],
   "source": []
  },
  {
   "cell_type": "code",
   "execution_count": 48,
   "id": "b7f28a09",
   "metadata": {},
   "outputs": [],
   "source": [
    "CategoriasEventos = pd.read_csv('../data/CategoriasEventos.csv', encoding = \"UTF8\")"
   ]
  },
  {
   "cell_type": "code",
   "execution_count": 49,
   "id": "3f585d8d",
   "metadata": {},
   "outputs": [
    {
     "data": {
      "text/html": [
       "<div>\n",
       "<style scoped>\n",
       "    .dataframe tbody tr th:only-of-type {\n",
       "        vertical-align: middle;\n",
       "    }\n",
       "\n",
       "    .dataframe tbody tr th {\n",
       "        vertical-align: top;\n",
       "    }\n",
       "\n",
       "    .dataframe thead th {\n",
       "        text-align: right;\n",
       "    }\n",
       "</style>\n",
       "<table border=\"1\" class=\"dataframe\">\n",
       "  <thead>\n",
       "    <tr style=\"text-align: right;\">\n",
       "      <th></th>\n",
       "      <th>idEvento</th>\n",
       "      <th>idCategoria</th>\n",
       "    </tr>\n",
       "  </thead>\n",
       "  <tbody>\n",
       "    <tr>\n",
       "      <th>0</th>\n",
       "      <td>562</td>\n",
       "      <td>12</td>\n",
       "    </tr>\n",
       "    <tr>\n",
       "      <th>1</th>\n",
       "      <td>219</td>\n",
       "      <td>19</td>\n",
       "    </tr>\n",
       "    <tr>\n",
       "      <th>2</th>\n",
       "      <td>357</td>\n",
       "      <td>18</td>\n",
       "    </tr>\n",
       "    <tr>\n",
       "      <th>3</th>\n",
       "      <td>235</td>\n",
       "      <td>11</td>\n",
       "    </tr>\n",
       "    <tr>\n",
       "      <th>4</th>\n",
       "      <td>349</td>\n",
       "      <td>14</td>\n",
       "    </tr>\n",
       "  </tbody>\n",
       "</table>\n",
       "</div>"
      ],
      "text/plain": [
       "   idEvento  idCategoria\n",
       "0       562           12\n",
       "1       219           19\n",
       "2       357           18\n",
       "3       235           11\n",
       "4       349           14"
      ]
     },
     "execution_count": 49,
     "metadata": {},
     "output_type": "execute_result"
    }
   ],
   "source": [
    "CategoriasEventos.head()"
   ]
  },
  {
   "cell_type": "code",
   "execution_count": 50,
   "id": "62f28f2d",
   "metadata": {},
   "outputs": [],
   "source": [
    "CategoriasEventos.to_csv('../data/encoding/CategoriasEventosCopy.csv', sep = ',', index = False, encoding = 'ISO-8859-1')"
   ]
  },
  {
   "cell_type": "code",
   "execution_count": null,
   "id": "5845e772",
   "metadata": {},
   "outputs": [],
   "source": []
  },
  {
   "cell_type": "code",
   "execution_count": 51,
   "id": "0f006c90",
   "metadata": {},
   "outputs": [],
   "source": [
    "CategoriasPropuestas = pd.read_csv('../data/CategoriasPropuestas.csv', encoding = \"UTF8\")"
   ]
  },
  {
   "cell_type": "code",
   "execution_count": 52,
   "id": "e0f9c1f4",
   "metadata": {},
   "outputs": [
    {
     "data": {
      "text/html": [
       "<div>\n",
       "<style scoped>\n",
       "    .dataframe tbody tr th:only-of-type {\n",
       "        vertical-align: middle;\n",
       "    }\n",
       "\n",
       "    .dataframe tbody tr th {\n",
       "        vertical-align: top;\n",
       "    }\n",
       "\n",
       "    .dataframe thead th {\n",
       "        text-align: right;\n",
       "    }\n",
       "</style>\n",
       "<table border=\"1\" class=\"dataframe\">\n",
       "  <thead>\n",
       "    <tr style=\"text-align: right;\">\n",
       "      <th></th>\n",
       "      <th>idPropuesta</th>\n",
       "      <th>idCategoria</th>\n",
       "    </tr>\n",
       "  </thead>\n",
       "  <tbody>\n",
       "    <tr>\n",
       "      <th>0</th>\n",
       "      <td>1088</td>\n",
       "      <td>17</td>\n",
       "    </tr>\n",
       "    <tr>\n",
       "      <th>1</th>\n",
       "      <td>1077</td>\n",
       "      <td>12</td>\n",
       "    </tr>\n",
       "    <tr>\n",
       "      <th>2</th>\n",
       "      <td>162</td>\n",
       "      <td>7</td>\n",
       "    </tr>\n",
       "    <tr>\n",
       "      <th>3</th>\n",
       "      <td>29</td>\n",
       "      <td>2</td>\n",
       "    </tr>\n",
       "    <tr>\n",
       "      <th>4</th>\n",
       "      <td>309</td>\n",
       "      <td>1</td>\n",
       "    </tr>\n",
       "  </tbody>\n",
       "</table>\n",
       "</div>"
      ],
      "text/plain": [
       "   idPropuesta  idCategoria\n",
       "0         1088           17\n",
       "1         1077           12\n",
       "2          162            7\n",
       "3           29            2\n",
       "4          309            1"
      ]
     },
     "execution_count": 52,
     "metadata": {},
     "output_type": "execute_result"
    }
   ],
   "source": [
    "CategoriasPropuestas.head()"
   ]
  },
  {
   "cell_type": "code",
   "execution_count": 53,
   "id": "eea1262b",
   "metadata": {},
   "outputs": [],
   "source": [
    "CategoriasPropuestas.to_csv('../data/encoding/CategoriasPropuestasCopy.csv', sep = ',', index = False, encoding = 'ISO-8859-1')"
   ]
  },
  {
   "cell_type": "code",
   "execution_count": null,
   "id": "16b323a1",
   "metadata": {},
   "outputs": [],
   "source": []
  },
  {
   "cell_type": "code",
   "execution_count": 63,
   "id": "1b2a5685",
   "metadata": {},
   "outputs": [],
   "source": [
    "Eventos = pd.read_csv('../data/Eventos.csv', encoding = \"UTF8\")"
   ]
  },
  {
   "cell_type": "code",
   "execution_count": 64,
   "id": "d5e6ffe9",
   "metadata": {},
   "outputs": [
    {
     "data": {
      "text/html": [
       "<div>\n",
       "<style scoped>\n",
       "    .dataframe tbody tr th:only-of-type {\n",
       "        vertical-align: middle;\n",
       "    }\n",
       "\n",
       "    .dataframe tbody tr th {\n",
       "        vertical-align: top;\n",
       "    }\n",
       "\n",
       "    .dataframe thead th {\n",
       "        text-align: right;\n",
       "    }\n",
       "</style>\n",
       "<table border=\"1\" class=\"dataframe\">\n",
       "  <thead>\n",
       "    <tr style=\"text-align: right;\">\n",
       "      <th></th>\n",
       "      <th>idEvento</th>\n",
       "      <th>nombre</th>\n",
       "      <th>descripcion</th>\n",
       "      <th>fechaEvento</th>\n",
       "      <th>fechaCreacion</th>\n",
       "      <th>idCreador</th>\n",
       "    </tr>\n",
       "  </thead>\n",
       "  <tbody>\n",
       "    <tr>\n",
       "      <th>0</th>\n",
       "      <td>0</td>\n",
       "      <td>Fiesta sorpresa de María Cristina Perera Zurita</td>\n",
       "      <td>NaN</td>\n",
       "      <td>2022-12-10</td>\n",
       "      <td>NaN</td>\n",
       "      <td>1960</td>\n",
       "    </tr>\n",
       "    <tr>\n",
       "      <th>1</th>\n",
       "      <td>1</td>\n",
       "      <td>Jubilación de Ramiro Paz Viana</td>\n",
       "      <td>NaN</td>\n",
       "      <td>2023-02-10</td>\n",
       "      <td>NaN</td>\n",
       "      <td>8362</td>\n",
       "    </tr>\n",
       "    <tr>\n",
       "      <th>2</th>\n",
       "      <td>2</td>\n",
       "      <td>Fiesta sorpresa de Dorita Rocha Pareja</td>\n",
       "      <td>NaN</td>\n",
       "      <td>2022-06-18</td>\n",
       "      <td>NaN</td>\n",
       "      <td>3343</td>\n",
       "    </tr>\n",
       "    <tr>\n",
       "      <th>3</th>\n",
       "      <td>3</td>\n",
       "      <td>Poniencia de Loreto Bernardino Aliaga Llobet</td>\n",
       "      <td>NaN</td>\n",
       "      <td>2023-06-13</td>\n",
       "      <td>NaN</td>\n",
       "      <td>4589</td>\n",
       "    </tr>\n",
       "    <tr>\n",
       "      <th>4</th>\n",
       "      <td>4</td>\n",
       "      <td>Cumpleaños de Estefanía Gutierrez Delgado</td>\n",
       "      <td>NaN</td>\n",
       "      <td>2022-02-18</td>\n",
       "      <td>NaN</td>\n",
       "      <td>7118</td>\n",
       "    </tr>\n",
       "  </tbody>\n",
       "</table>\n",
       "</div>"
      ],
      "text/plain": [
       "   idEvento                                           nombre  descripcion  \\\n",
       "0         0  Fiesta sorpresa de María Cristina Perera Zurita          NaN   \n",
       "1         1                   Jubilación de Ramiro Paz Viana          NaN   \n",
       "2         2           Fiesta sorpresa de Dorita Rocha Pareja          NaN   \n",
       "3         3     Poniencia de Loreto Bernardino Aliaga Llobet          NaN   \n",
       "4         4        Cumpleaños de Estefanía Gutierrez Delgado          NaN   \n",
       "\n",
       "  fechaEvento  fechaCreacion  idCreador  \n",
       "0  2022-12-10            NaN       1960  \n",
       "1  2023-02-10            NaN       8362  \n",
       "2  2022-06-18            NaN       3343  \n",
       "3  2023-06-13            NaN       4589  \n",
       "4  2022-02-18            NaN       7118  "
      ]
     },
     "execution_count": 64,
     "metadata": {},
     "output_type": "execute_result"
    }
   ],
   "source": [
    "Eventos.head()"
   ]
  },
  {
   "cell_type": "code",
   "execution_count": 65,
   "id": "c0a847ee",
   "metadata": {},
   "outputs": [],
   "source": [
    "Eventos.to_csv('../data/encoding/EventosCopy.csv', sep = ',', index = False, encoding = 'ISO-8859-1')"
   ]
  },
  {
   "cell_type": "code",
   "execution_count": null,
   "id": "5537f528",
   "metadata": {},
   "outputs": [],
   "source": []
  },
  {
   "cell_type": "code",
   "execution_count": 57,
   "id": "f5d8fe9d",
   "metadata": {},
   "outputs": [],
   "source": [
    "ParticipantesEventos = pd.read_csv('../data/ParticipantesEventos.csv', encoding = \"UTF8\")"
   ]
  },
  {
   "cell_type": "code",
   "execution_count": 58,
   "id": "fe02107b",
   "metadata": {},
   "outputs": [
    {
     "data": {
      "text/html": [
       "<div>\n",
       "<style scoped>\n",
       "    .dataframe tbody tr th:only-of-type {\n",
       "        vertical-align: middle;\n",
       "    }\n",
       "\n",
       "    .dataframe tbody tr th {\n",
       "        vertical-align: top;\n",
       "    }\n",
       "\n",
       "    .dataframe thead th {\n",
       "        text-align: right;\n",
       "    }\n",
       "</style>\n",
       "<table border=\"1\" class=\"dataframe\">\n",
       "  <thead>\n",
       "    <tr style=\"text-align: right;\">\n",
       "      <th></th>\n",
       "      <th>idUsuario</th>\n",
       "      <th>idEvento</th>\n",
       "    </tr>\n",
       "  </thead>\n",
       "  <tbody>\n",
       "    <tr>\n",
       "      <th>0</th>\n",
       "      <td>2856</td>\n",
       "      <td>98</td>\n",
       "    </tr>\n",
       "    <tr>\n",
       "      <th>1</th>\n",
       "      <td>5990</td>\n",
       "      <td>35</td>\n",
       "    </tr>\n",
       "    <tr>\n",
       "      <th>2</th>\n",
       "      <td>2517</td>\n",
       "      <td>111</td>\n",
       "    </tr>\n",
       "    <tr>\n",
       "      <th>3</th>\n",
       "      <td>9072</td>\n",
       "      <td>222</td>\n",
       "    </tr>\n",
       "    <tr>\n",
       "      <th>4</th>\n",
       "      <td>9327</td>\n",
       "      <td>374</td>\n",
       "    </tr>\n",
       "  </tbody>\n",
       "</table>\n",
       "</div>"
      ],
      "text/plain": [
       "   idUsuario  idEvento\n",
       "0       2856        98\n",
       "1       5990        35\n",
       "2       2517       111\n",
       "3       9072       222\n",
       "4       9327       374"
      ]
     },
     "execution_count": 58,
     "metadata": {},
     "output_type": "execute_result"
    }
   ],
   "source": [
    "ParticipantesEventos.head()"
   ]
  },
  {
   "cell_type": "code",
   "execution_count": 59,
   "id": "3844d912",
   "metadata": {},
   "outputs": [],
   "source": [
    "ParticipantesEventos.to_csv('../data/encoding/ParticipantesEventosCopy.csv', sep = ',', index = False, encoding = 'ISO-8859-1')"
   ]
  },
  {
   "cell_type": "code",
   "execution_count": null,
   "id": "4e545091",
   "metadata": {},
   "outputs": [],
   "source": []
  },
  {
   "cell_type": "code",
   "execution_count": 60,
   "id": "10d1780e",
   "metadata": {},
   "outputs": [],
   "source": [
    "ParticipantesPropuestas = pd.read_csv('../data/ParticipantesPropuestas.csv', encoding = \"UTF8\")"
   ]
  },
  {
   "cell_type": "code",
   "execution_count": 61,
   "id": "aa98182b",
   "metadata": {},
   "outputs": [
    {
     "data": {
      "text/html": [
       "<div>\n",
       "<style scoped>\n",
       "    .dataframe tbody tr th:only-of-type {\n",
       "        vertical-align: middle;\n",
       "    }\n",
       "\n",
       "    .dataframe tbody tr th {\n",
       "        vertical-align: top;\n",
       "    }\n",
       "\n",
       "    .dataframe thead th {\n",
       "        text-align: right;\n",
       "    }\n",
       "</style>\n",
       "<table border=\"1\" class=\"dataframe\">\n",
       "  <thead>\n",
       "    <tr style=\"text-align: right;\">\n",
       "      <th></th>\n",
       "      <th>idUsuario</th>\n",
       "      <th>idPropuesta</th>\n",
       "    </tr>\n",
       "  </thead>\n",
       "  <tbody>\n",
       "    <tr>\n",
       "      <th>0</th>\n",
       "      <td>2616</td>\n",
       "      <td>883</td>\n",
       "    </tr>\n",
       "    <tr>\n",
       "      <th>1</th>\n",
       "      <td>5796</td>\n",
       "      <td>637</td>\n",
       "    </tr>\n",
       "    <tr>\n",
       "      <th>2</th>\n",
       "      <td>7887</td>\n",
       "      <td>559</td>\n",
       "    </tr>\n",
       "    <tr>\n",
       "      <th>3</th>\n",
       "      <td>10059</td>\n",
       "      <td>59</td>\n",
       "    </tr>\n",
       "    <tr>\n",
       "      <th>4</th>\n",
       "      <td>8906</td>\n",
       "      <td>79</td>\n",
       "    </tr>\n",
       "  </tbody>\n",
       "</table>\n",
       "</div>"
      ],
      "text/plain": [
       "   idUsuario  idPropuesta\n",
       "0       2616          883\n",
       "1       5796          637\n",
       "2       7887          559\n",
       "3      10059           59\n",
       "4       8906           79"
      ]
     },
     "execution_count": 61,
     "metadata": {},
     "output_type": "execute_result"
    }
   ],
   "source": [
    "ParticipantesPropuestas.head()"
   ]
  },
  {
   "cell_type": "code",
   "execution_count": 62,
   "id": "6e99afa0",
   "metadata": {},
   "outputs": [],
   "source": [
    "ParticipantesPropuestas.to_csv('../data/encoding/ParticipantesPropuestasCopy.csv', sep = ',', index = False, encoding = 'ISO-8859-1')"
   ]
  },
  {
   "cell_type": "code",
   "execution_count": null,
   "id": "d27a0bc5",
   "metadata": {},
   "outputs": [],
   "source": []
  },
  {
   "cell_type": "code",
   "execution_count": 66,
   "id": "3031e280",
   "metadata": {},
   "outputs": [],
   "source": [
    "Usuarios = pd.read_csv('../data/Usuarios2limpio.csv', encoding = \"UTF8\")"
   ]
  },
  {
   "cell_type": "code",
   "execution_count": 67,
   "id": "b51e4ab4",
   "metadata": {},
   "outputs": [
    {
     "data": {
      "text/html": [
       "<div>\n",
       "<style scoped>\n",
       "    .dataframe tbody tr th:only-of-type {\n",
       "        vertical-align: middle;\n",
       "    }\n",
       "\n",
       "    .dataframe tbody tr th {\n",
       "        vertical-align: top;\n",
       "    }\n",
       "\n",
       "    .dataframe thead th {\n",
       "        text-align: right;\n",
       "    }\n",
       "</style>\n",
       "<table border=\"1\" class=\"dataframe\">\n",
       "  <thead>\n",
       "    <tr style=\"text-align: right;\">\n",
       "      <th></th>\n",
       "      <th>idUsuario</th>\n",
       "      <th>nombre</th>\n",
       "      <th>username</th>\n",
       "      <th>idUniversidad</th>\n",
       "      <th>facultad</th>\n",
       "      <th>curso</th>\n",
       "      <th>clase</th>\n",
       "      <th>edad</th>\n",
       "    </tr>\n",
       "  </thead>\n",
       "  <tbody>\n",
       "    <tr>\n",
       "      <th>0</th>\n",
       "      <td>1</td>\n",
       "      <td>Bernarda Jimenez-Manjón</td>\n",
       "      <td>mereLemur3</td>\n",
       "      <td>83</td>\n",
       "      <td>Arquitectura</td>\n",
       "      <td>5</td>\n",
       "      <td>D</td>\n",
       "      <td>24</td>\n",
       "    </tr>\n",
       "    <tr>\n",
       "      <th>1</th>\n",
       "      <td>2</td>\n",
       "      <td>Pilar Gallardo Flores</td>\n",
       "      <td>pitifulAntelope2</td>\n",
       "      <td>79</td>\n",
       "      <td>Comunicación</td>\n",
       "      <td>3</td>\n",
       "      <td>C</td>\n",
       "      <td>38</td>\n",
       "    </tr>\n",
       "    <tr>\n",
       "      <th>2</th>\n",
       "      <td>3</td>\n",
       "      <td>Cesar Salmerón Goñi</td>\n",
       "      <td>cautiousGelding9</td>\n",
       "      <td>6</td>\n",
       "      <td>Educación Física</td>\n",
       "      <td>2</td>\n",
       "      <td>D</td>\n",
       "      <td>34</td>\n",
       "    </tr>\n",
       "    <tr>\n",
       "      <th>3</th>\n",
       "      <td>4</td>\n",
       "      <td>Rosalina Nogueira-Corral</td>\n",
       "      <td>culturedQuiche3</td>\n",
       "      <td>51</td>\n",
       "      <td>Medicina</td>\n",
       "      <td>3</td>\n",
       "      <td>D</td>\n",
       "      <td>40</td>\n",
       "    </tr>\n",
       "    <tr>\n",
       "      <th>4</th>\n",
       "      <td>5</td>\n",
       "      <td>Pilar Mayol Artigas</td>\n",
       "      <td>alertSeagull3</td>\n",
       "      <td>76</td>\n",
       "      <td>Ciencias de la Salud</td>\n",
       "      <td>6</td>\n",
       "      <td>A</td>\n",
       "      <td>29</td>\n",
       "    </tr>\n",
       "  </tbody>\n",
       "</table>\n",
       "</div>"
      ],
      "text/plain": [
       "   idUsuario                    nombre          username  idUniversidad  \\\n",
       "0          1   Bernarda Jimenez-Manjón        mereLemur3             83   \n",
       "1          2     Pilar Gallardo Flores  pitifulAntelope2             79   \n",
       "2          3       Cesar Salmerón Goñi  cautiousGelding9              6   \n",
       "3          4  Rosalina Nogueira-Corral   culturedQuiche3             51   \n",
       "4          5       Pilar Mayol Artigas     alertSeagull3             76   \n",
       "\n",
       "               facultad  curso clase  edad  \n",
       "0          Arquitectura      5     D    24  \n",
       "1          Comunicación      3     C    38  \n",
       "2      Educación Física      2     D    34  \n",
       "3              Medicina      3     D    40  \n",
       "4  Ciencias de la Salud      6     A    29  "
      ]
     },
     "execution_count": 67,
     "metadata": {},
     "output_type": "execute_result"
    }
   ],
   "source": [
    "Usuarios.head()"
   ]
  },
  {
   "cell_type": "code",
   "execution_count": 68,
   "id": "6addaf58",
   "metadata": {},
   "outputs": [],
   "source": [
    "Usuarios.to_csv('../data/encoding/UsuariosCopy2.csv', sep = ',', index = False, encoding = 'ISO-8859-1')"
   ]
  },
  {
   "cell_type": "code",
   "execution_count": null,
   "id": "613a0208",
   "metadata": {},
   "outputs": [],
   "source": []
  },
  {
   "cell_type": "code",
   "execution_count": 45,
   "id": "815a2179",
   "metadata": {},
   "outputs": [],
   "source": [
    "Propuestas = pd.read_csv('../data/Propuestas.csv', encoding = \"UTF8\")"
   ]
  },
  {
   "cell_type": "code",
   "execution_count": 46,
   "id": "9da23a57",
   "metadata": {},
   "outputs": [
    {
     "data": {
      "text/html": [
       "<div>\n",
       "<style scoped>\n",
       "    .dataframe tbody tr th:only-of-type {\n",
       "        vertical-align: middle;\n",
       "    }\n",
       "\n",
       "    .dataframe tbody tr th {\n",
       "        vertical-align: top;\n",
       "    }\n",
       "\n",
       "    .dataframe thead th {\n",
       "        text-align: right;\n",
       "    }\n",
       "</style>\n",
       "<table border=\"1\" class=\"dataframe\">\n",
       "  <thead>\n",
       "    <tr style=\"text-align: right;\">\n",
       "      <th></th>\n",
       "      <th>idPropuesta</th>\n",
       "      <th>nombre</th>\n",
       "      <th>descripcion</th>\n",
       "      <th>fechaCreacion</th>\n",
       "      <th>idCreador</th>\n",
       "    </tr>\n",
       "  </thead>\n",
       "  <tbody>\n",
       "    <tr>\n",
       "      <th>0</th>\n",
       "      <td>0</td>\n",
       "      <td>Denunciar a María Manuela Flores Capdevila</td>\n",
       "      <td>NaN</td>\n",
       "      <td>NaN</td>\n",
       "      <td>1343</td>\n",
       "    </tr>\n",
       "    <tr>\n",
       "      <th>1</th>\n",
       "      <td>1</td>\n",
       "      <td>Hablar con Jose Guillen-Vaquero</td>\n",
       "      <td>NaN</td>\n",
       "      <td>NaN</td>\n",
       "      <td>7521</td>\n",
       "    </tr>\n",
       "    <tr>\n",
       "      <th>2</th>\n",
       "      <td>2</td>\n",
       "      <td>Quitar el busto de Telmo Cabello Mir</td>\n",
       "      <td>NaN</td>\n",
       "      <td>NaN</td>\n",
       "      <td>7471</td>\n",
       "    </tr>\n",
       "    <tr>\n",
       "      <th>3</th>\n",
       "      <td>3</td>\n",
       "      <td>Quitar el busto de Renata Juan Infante</td>\n",
       "      <td>NaN</td>\n",
       "      <td>NaN</td>\n",
       "      <td>2214</td>\n",
       "    </tr>\n",
       "    <tr>\n",
       "      <th>4</th>\n",
       "      <td>4</td>\n",
       "      <td>Quitar el busto de Vinicio Cornejo Carreras</td>\n",
       "      <td>NaN</td>\n",
       "      <td>NaN</td>\n",
       "      <td>3778</td>\n",
       "    </tr>\n",
       "  </tbody>\n",
       "</table>\n",
       "</div>"
      ],
      "text/plain": [
       "   idPropuesta                                       nombre  descripcion  \\\n",
       "0            0   Denunciar a María Manuela Flores Capdevila          NaN   \n",
       "1            1              Hablar con Jose Guillen-Vaquero          NaN   \n",
       "2            2         Quitar el busto de Telmo Cabello Mir          NaN   \n",
       "3            3       Quitar el busto de Renata Juan Infante          NaN   \n",
       "4            4  Quitar el busto de Vinicio Cornejo Carreras          NaN   \n",
       "\n",
       "   fechaCreacion  idCreador  \n",
       "0            NaN       1343  \n",
       "1            NaN       7521  \n",
       "2            NaN       7471  \n",
       "3            NaN       2214  \n",
       "4            NaN       3778  "
      ]
     },
     "execution_count": 46,
     "metadata": {},
     "output_type": "execute_result"
    }
   ],
   "source": [
    "Propuestas.head()"
   ]
  },
  {
   "cell_type": "code",
   "execution_count": 47,
   "id": "1ec5892d",
   "metadata": {},
   "outputs": [],
   "source": [
    "Propuestas.to_csv('../data/encoding/PropuestasCopy.csv', sep = ',', index = False, encoding = 'ISO-8859-1')"
   ]
  }
 ],
 "metadata": {
  "kernelspec": {
   "display_name": "Python 3 (ipykernel)",
   "language": "python",
   "name": "python3"
  },
  "language_info": {
   "codemirror_mode": {
    "name": "ipython",
    "version": 3
   },
   "file_extension": ".py",
   "mimetype": "text/x-python",
   "name": "python",
   "nbconvert_exporter": "python",
   "pygments_lexer": "ipython3",
   "version": "3.9.7"
  }
 },
 "nbformat": 4,
 "nbformat_minor": 5
}
