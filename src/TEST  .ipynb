{
 "cells": [
  {
   "cell_type": "code",
   "execution_count": 1,
   "id": "2a28b8f1",
   "metadata": {},
   "outputs": [
    {
     "name": "stdout",
     "output_type": "stream",
     "text": [
      "Requirement already satisfied: requests in c:\\users\\carlos\\anaconda3\\lib\\site-packages (2.27.1)\n",
      "Requirement already satisfied: charset-normalizer~=2.0.0 in c:\\users\\carlos\\anaconda3\\lib\\site-packages (from requests) (2.0.4)\n",
      "Requirement already satisfied: certifi>=2017.4.17 in c:\\users\\carlos\\anaconda3\\lib\\site-packages (from requests) (2021.10.8)\n",
      "Requirement already satisfied: idna<4,>=2.5 in c:\\users\\carlos\\anaconda3\\lib\\site-packages (from requests) (3.3)\n",
      "Requirement already satisfied: urllib3<1.27,>=1.21.1 in c:\\users\\carlos\\anaconda3\\lib\\site-packages (from requests) (1.26.9)\n",
      "Requirement already satisfied: urllib3 in c:\\users\\carlos\\anaconda3\\lib\\site-packages (1.26.9)\n",
      "Requirement already satisfied: bs4 in c:\\users\\carlos\\anaconda3\\lib\\site-packages (0.0.1)\n",
      "Requirement already satisfied: beautifulsoup4 in c:\\users\\carlos\\anaconda3\\lib\\site-packages (from bs4) (4.11.1)\n",
      "Requirement already satisfied: soupsieve>1.2 in c:\\users\\carlos\\anaconda3\\lib\\site-packages (from beautifulsoup4->bs4) (2.3.1)\n"
     ]
    }
   ],
   "source": [
    "!pip install requests\n",
    "!pip install urllib3\n",
    "!pip install bs4\n",
    "\n",
    "import requests\n",
    "from urllib import request, response, error, parse\n",
    "from urllib.request import Request, urlopen\n",
    "from bs4 import BeautifulSoup\n",
    "import pandas as pd\n",
    "import numpy as np"
   ]
  },
  {
   "cell_type": "code",
   "execution_count": null,
   "id": "874e4ffc",
   "metadata": {},
   "outputs": [],
   "source": [
    "lst = []\n",
    "dateComentarios = []\n",
    "textoComentarios  = []\n",
    "\n",
    "page = 1\n",
    "titles = []\n",
    "while page != 1155:\n",
    "    URL = f\"https://www.cotilleando.com/threads/marta-lopez-alamo.128067/page-{page}\"\n",
    "    hdr = {'User-Agent': 'Mozilla/5.0 (Macintosh; Intel Mac OS X 10_13_6) AppleWebKit/537.36 (KHTML, like Gecko) Chrome/70.0.3538.77 Safari/537.36'}\n",
    "    req = Request(URL,headers=hdr)\n",
    "    html = request.urlopen(req)\n",
    "    soup = BeautifulSoup(html, \"html.parser\")\n",
    "    page = page + 1\n",
    "    \n",
    "    for divs in soup.find_all(\"div\",{\"class\" : [\"message-inner\"]}):\n",
    "        dateComentarios.append(divs.find(\"time\",{\"class\": \"u-dt\"}).getText())\n",
    "        textoComentarios.append(divs.find(\"div\",{\"class\": \"bbWrapper\"}).getText())\n",
    "    \n",
    "    time.sleep(2)\n"
   ]
  },
  {
   "cell_type": "code",
   "execution_count": null,
   "id": "c291a933",
   "metadata": {},
   "outputs": [],
   "source": [
    "dateComentarios"
   ]
  },
  {
   "cell_type": "code",
   "execution_count": null,
   "id": "814a77d3",
   "metadata": {},
   "outputs": [],
   "source": [
    "textoComentarios"
   ]
  },
  {
   "cell_type": "code",
   "execution_count": 45,
   "id": "ed45e90f",
   "metadata": {},
   "outputs": [],
   "source": [
    "\n"
   ]
  },
  {
   "cell_type": "code",
   "execution_count": null,
   "id": "52d18072",
   "metadata": {},
   "outputs": [],
   "source": [
    "# \n",
    "#lst.append([registro,champion, runas, kda, equipoAzulNicks, equipoAzulCampeones, equipoRojoNicks, equipoRojoCampeones])"
   ]
  },
  {
   "cell_type": "code",
   "execution_count": null,
   "id": "43a1f903",
   "metadata": {},
   "outputs": [],
   "source": []
  }
 ],
 "metadata": {
  "kernelspec": {
   "display_name": "Python 3 (ipykernel)",
   "language": "python",
   "name": "python3"
  },
  "language_info": {
   "codemirror_mode": {
    "name": "ipython",
    "version": 3
   },
   "file_extension": ".py",
   "mimetype": "text/x-python",
   "name": "python",
   "nbconvert_exporter": "python",
   "pygments_lexer": "ipython3",
   "version": "3.9.7"
  }
 },
 "nbformat": 4,
 "nbformat_minor": 5
}
