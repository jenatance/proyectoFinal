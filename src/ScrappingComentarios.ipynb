{
 "cells": [
  {
   "cell_type": "markdown",
   "id": "daab321d",
   "metadata": {},
   "source": [
    "# EXTRACCIÓN DE DATOS"
   ]
  },
  {
   "cell_type": "markdown",
   "id": "4ebd8444",
   "metadata": {},
   "source": [
    "### COMENTARIOS PROPUESTAS"
   ]
  },
  {
   "cell_type": "code",
   "execution_count": 27,
   "id": "2a28b8f1",
   "metadata": {},
   "outputs": [],
   "source": [
    "# %pip install requests\n",
    "# %pip install urllib3\n",
    "# %pip install bs4\n",
    "\n",
    "import requests\n",
    "\n",
    "from urllib import request, response, error, parse\n",
    "from urllib.request import Request, urlopen\n",
    "from bs4 import BeautifulSoup\n",
    "\n",
    "import pandas as pd\n",
    "import numpy as np\n",
    "\n",
    "from faker import Faker\n",
    "\n",
    "import random\n",
    "from random_username.generate import generate_username\n",
    "\n",
    "random.seed(42)\n",
    "Faker.seed(42)\n",
    "\n",
    "fake = Faker('es_ES')"
   ]
  },
  {
   "cell_type": "code",
   "execution_count": 20,
   "id": "fda04f70",
   "metadata": {},
   "outputs": [],
   "source": [
    "lst = []\n",
    "dateComentarios = []\n",
    "textoComentarios  = []"
   ]
  },
  {
   "cell_type": "code",
   "execution_count": 21,
   "id": "874e4ffc",
   "metadata": {},
   "outputs": [],
   "source": [
    "page = 1000\n",
    "titles = []\n",
    "\n",
    "for i in range(100):\n",
    "    URL = f\"https://www.cotilleando.com/threads/marta-lopez-alamo.128067/page-{page}\"\n",
    "    hdr = {'User-Agent': 'Mozilla/5.0 (Macintosh; Intel Mac OS X 10_13_6) AppleWebKit/537.36 (KHTML, like Gecko) Chrome/70.0.3538.77 Safari/537.36'}\n",
    "    req = Request(URL,headers=hdr)\n",
    "    html = request.urlopen(req)\n",
    "    soup = BeautifulSoup(html, \"html.parser\")\n",
    "    page += 1\n",
    "    \n",
    "    for divs in soup.find_all(\"div\",{\"class\" : [\"message-inner\"]}):\n",
    "        dateComentarios.append(divs.find(\"time\",{\"class\": \"u-dt\"}).getText())\n",
    "        textoComentarios.append(divs.find(\"div\",{\"class\": \"bbWrapper\"}).getText())"
   ]
  },
  {
   "cell_type": "code",
   "execution_count": null,
   "id": "ed45e90f",
   "metadata": {},
   "outputs": [],
   "source": [
    "ComentariosPropuestas = pd.DataFrame()"
   ]
  },
  {
   "cell_type": "code",
   "execution_count": 34,
   "id": "c330c3f4",
   "metadata": {},
   "outputs": [],
   "source": [
    "propuesta = []\n",
    "usuario = []\n",
    "likes = []\n",
    "\n",
    "for i in range(len(textoComentarios)):\n",
    "    usuario.append(random.randint(0, 11999))\n",
    "    propuesta.append(random.randint(0, 1199))\n",
    "    likes.append(random.randint(0, 27))"
   ]
  },
  {
   "cell_type": "code",
   "execution_count": 36,
   "id": "43a1f903",
   "metadata": {},
   "outputs": [],
   "source": [
    "ComentariosPropuestas['idPropuesta'] = propuesta\n",
    "ComentariosPropuestas['idUsuario'] = usuario\n",
    "ComentariosPropuestas['comentario'] = textoComentarios\n",
    "ComentariosPropuestas['fecha'] = dateComentarios\n",
    "ComentariosPropuestas['numLikes'] = likes"
   ]
  },
  {
   "cell_type": "code",
   "execution_count": 37,
   "id": "133d086c",
   "metadata": {},
   "outputs": [],
   "source": [
    "ComentariosPropuestas['idComentarioPropuesta'] = ComentariosPropuestas.index"
   ]
  },
  {
   "cell_type": "code",
   "execution_count": 39,
   "id": "1031ab2e",
   "metadata": {},
   "outputs": [],
   "source": [
    "ComentariosPropuestas = ComentariosPropuestas[['idComentarioPropuesta', 'idPropuesta', 'idUsuario', 'comentario', 'fecha', 'numLikes']]"
   ]
  },
  {
   "cell_type": "code",
   "execution_count": 90,
   "id": "7c15ac6b",
   "metadata": {},
   "outputs": [
    {
     "data": {
      "text/html": [
       "<div>\n",
       "<style scoped>\n",
       "    .dataframe tbody tr th:only-of-type {\n",
       "        vertical-align: middle;\n",
       "    }\n",
       "\n",
       "    .dataframe tbody tr th {\n",
       "        vertical-align: top;\n",
       "    }\n",
       "\n",
       "    .dataframe thead th {\n",
       "        text-align: right;\n",
       "    }\n",
       "</style>\n",
       "<table border=\"1\" class=\"dataframe\">\n",
       "  <thead>\n",
       "    <tr style=\"text-align: right;\">\n",
       "      <th></th>\n",
       "      <th>idComentarioPropuesta</th>\n",
       "      <th>idPropuesta</th>\n",
       "      <th>idUsuario</th>\n",
       "      <th>comentario</th>\n",
       "      <th>fecha</th>\n",
       "      <th>numLikes</th>\n",
       "    </tr>\n",
       "  </thead>\n",
       "  <tbody>\n",
       "    <tr>\n",
       "      <th>9607</th>\n",
       "      <td>9607</td>\n",
       "      <td>453</td>\n",
       "      <td>5792</td>\n",
       "      <td>\\nMamakila dijo:\\nYo tengo entendido que tuvie...</td>\n",
       "      <td>1-Ago-2019</td>\n",
       "      <td>10</td>\n",
       "    </tr>\n",
       "    <tr>\n",
       "      <th>9608</th>\n",
       "      <td>9608</td>\n",
       "      <td>927</td>\n",
       "      <td>7894</td>\n",
       "      <td>Os apostais algo a que lo de gabi es tambien g...</td>\n",
       "      <td>1-Ago-2019</td>\n",
       "      <td>15</td>\n",
       "    </tr>\n",
       "    <tr>\n",
       "      <th>9609</th>\n",
       "      <td>9609</td>\n",
       "      <td>1015</td>\n",
       "      <td>11705</td>\n",
       "      <td>\\nMamakila dijo:\\nYo tengo entendido que tuvie...</td>\n",
       "      <td>1-Ago-2019</td>\n",
       "      <td>16</td>\n",
       "    </tr>\n",
       "    <tr>\n",
       "      <th>9610</th>\n",
       "      <td>9610</td>\n",
       "      <td>1152</td>\n",
       "      <td>5934</td>\n",
       "      <td>Os apostais algo a que lo de gabi es tambien g...</td>\n",
       "      <td>1-Ago-2019</td>\n",
       "      <td>4</td>\n",
       "    </tr>\n",
       "    <tr>\n",
       "      <th>9611</th>\n",
       "      <td>9611</td>\n",
       "      <td>566</td>\n",
       "      <td>11272</td>\n",
       "      <td>Vaya tela!!! @Alitadebar sigue contando!!! Y g...</td>\n",
       "      <td>2-Ago-2019</td>\n",
       "      <td>10</td>\n",
       "    </tr>\n",
       "  </tbody>\n",
       "</table>\n",
       "</div>"
      ],
      "text/plain": [
       "      idComentarioPropuesta  idPropuesta  idUsuario  \\\n",
       "9607                   9607          453       5792   \n",
       "9608                   9608          927       7894   \n",
       "9609                   9609         1015      11705   \n",
       "9610                   9610         1152       5934   \n",
       "9611                   9611          566      11272   \n",
       "\n",
       "                                             comentario       fecha  numLikes  \n",
       "9607  \\nMamakila dijo:\\nYo tengo entendido que tuvie...  1-Ago-2019        10  \n",
       "9608  Os apostais algo a que lo de gabi es tambien g...  1-Ago-2019        15  \n",
       "9609  \\nMamakila dijo:\\nYo tengo entendido que tuvie...  1-Ago-2019        16  \n",
       "9610  Os apostais algo a que lo de gabi es tambien g...  1-Ago-2019         4  \n",
       "9611  Vaya tela!!! @Alitadebar sigue contando!!! Y g...  2-Ago-2019        10  "
      ]
     },
     "execution_count": 90,
     "metadata": {},
     "output_type": "execute_result"
    }
   ],
   "source": [
    "ComentariosPropuestas.tail()"
   ]
  },
  {
   "cell_type": "code",
   "execution_count": 89,
   "id": "2996b3a4",
   "metadata": {},
   "outputs": [],
   "source": [
    "for e in ComentariosPropuestas['fecha']:\n",
    "    ComentariosPropuestas.fecha = ComentariosPropuestas.fecha.str.replace(' ', '-')"
   ]
  },
  {
   "cell_type": "code",
   "execution_count": 99,
   "id": "9467a196",
   "metadata": {},
   "outputs": [],
   "source": [
    "for e in ComentariosPropuestas['fecha']:\n",
    "    ComentariosPropuestas.fecha = ComentariosPropuestas.fecha.str.replace('Feb', '02')\n",
    "    ComentariosPropuestas.fecha = ComentariosPropuestas.fecha.str.replace('Mar', '03')\n",
    "    ComentariosPropuestas.fecha = ComentariosPropuestas.fecha.str.replace('Abr', '04')\n",
    "    ComentariosPropuestas.fecha = ComentariosPropuestas.fecha.str.replace('May', '05')\n",
    "    ComentariosPropuestas.fecha = ComentariosPropuestas.fecha.str.replace('Ene', '01')\n",
    "    ComentariosPropuestas.fecha = ComentariosPropuestas.fecha.str.replace('Jul', '07')\n",
    "    ComentariosPropuestas.fecha = ComentariosPropuestas.fecha.str.replace('Ago', '08')"
   ]
  },
  {
   "cell_type": "code",
   "execution_count": 107,
   "id": "cc26634b",
   "metadata": {},
   "outputs": [
    {
     "data": {
      "text/html": [
       "<div>\n",
       "<style scoped>\n",
       "    .dataframe tbody tr th:only-of-type {\n",
       "        vertical-align: middle;\n",
       "    }\n",
       "\n",
       "    .dataframe tbody tr th {\n",
       "        vertical-align: top;\n",
       "    }\n",
       "\n",
       "    .dataframe thead th {\n",
       "        text-align: right;\n",
       "    }\n",
       "</style>\n",
       "<table border=\"1\" class=\"dataframe\">\n",
       "  <thead>\n",
       "    <tr style=\"text-align: right;\">\n",
       "      <th></th>\n",
       "      <th>idComentarioPropuesta</th>\n",
       "      <th>idPropuesta</th>\n",
       "      <th>idUsuario</th>\n",
       "      <th>comentario</th>\n",
       "      <th>fecha</th>\n",
       "      <th>numLikes</th>\n",
       "    </tr>\n",
       "  </thead>\n",
       "  <tbody>\n",
       "    <tr>\n",
       "      <th>0</th>\n",
       "      <td>0</td>\n",
       "      <td>1056</td>\n",
       "      <td>3248</td>\n",
       "      <td>\\nVive la vida dijo:\\nPero porque mete barriga...</td>\n",
       "      <td>2022-02-17</td>\n",
       "      <td>15</td>\n",
       "    </tr>\n",
       "    <tr>\n",
       "      <th>1</th>\n",
       "      <td>1</td>\n",
       "      <td>430</td>\n",
       "      <td>3168</td>\n",
       "      <td>Yo tengo sentimientos encontrados con lo de ay...</td>\n",
       "      <td>2022-02-17</td>\n",
       "      <td>14</td>\n",
       "    </tr>\n",
       "    <tr>\n",
       "      <th>2</th>\n",
       "      <td>2</td>\n",
       "      <td>388</td>\n",
       "      <td>660</td>\n",
       "      <td>He ido a ver los vídeos y sinceramente creo qu...</td>\n",
       "      <td>2022-02-17</td>\n",
       "      <td>9</td>\n",
       "    </tr>\n",
       "    <tr>\n",
       "      <th>3</th>\n",
       "      <td>3</td>\n",
       "      <td>376</td>\n",
       "      <td>11989</td>\n",
       "      <td>Las redes te hacen polvo la cabeza, que busque...</td>\n",
       "      <td>2022-02-17</td>\n",
       "      <td>25</td>\n",
       "    </tr>\n",
       "    <tr>\n",
       "      <th>4</th>\n",
       "      <td>4</td>\n",
       "      <td>635</td>\n",
       "      <td>4815</td>\n",
       "      <td>Tal vez debería pensar porque las hay que reci...</td>\n",
       "      <td>2022-02-17</td>\n",
       "      <td>8</td>\n",
       "    </tr>\n",
       "  </tbody>\n",
       "</table>\n",
       "</div>"
      ],
      "text/plain": [
       "   idComentarioPropuesta  idPropuesta  idUsuario  \\\n",
       "0                      0         1056       3248   \n",
       "1                      1          430       3168   \n",
       "2                      2          388        660   \n",
       "3                      3          376      11989   \n",
       "4                      4          635       4815   \n",
       "\n",
       "                                          comentario      fecha  numLikes  \n",
       "0  \\nVive la vida dijo:\\nPero porque mete barriga... 2022-02-17        15  \n",
       "1  Yo tengo sentimientos encontrados con lo de ay... 2022-02-17        14  \n",
       "2  He ido a ver los vídeos y sinceramente creo qu... 2022-02-17         9  \n",
       "3  Las redes te hacen polvo la cabeza, que busque... 2022-02-17        25  \n",
       "4  Tal vez debería pensar porque las hay que reci... 2022-02-17         8  "
      ]
     },
     "execution_count": 107,
     "metadata": {},
     "output_type": "execute_result"
    }
   ],
   "source": [
    "ComentariosPropuestas.head()"
   ]
  },
  {
   "cell_type": "code",
   "execution_count": 103,
   "id": "92c71bd9",
   "metadata": {},
   "outputs": [],
   "source": [
    "ComentariosPropuestas['fecha'] = pd.to_datetime(ComentariosPropuestas['fecha'], dayfirst = True)"
   ]
  },
  {
   "cell_type": "code",
   "execution_count": 105,
   "id": "66b4044f",
   "metadata": {},
   "outputs": [],
   "source": [
    "ComentariosPropuestas['fecha'] = pd.to_datetime(ComentariosPropuestas['fecha'], yearfirst = True)"
   ]
  },
  {
   "cell_type": "code",
   "execution_count": 106,
   "id": "c403018d",
   "metadata": {},
   "outputs": [
    {
     "name": "stdout",
     "output_type": "stream",
     "text": [
      "<class 'pandas.core.frame.DataFrame'>\n",
      "RangeIndex: 9612 entries, 0 to 9611\n",
      "Data columns (total 6 columns):\n",
      " #   Column                 Non-Null Count  Dtype         \n",
      "---  ------                 --------------  -----         \n",
      " 0   idComentarioPropuesta  9612 non-null   int64         \n",
      " 1   idPropuesta            9612 non-null   int64         \n",
      " 2   idUsuario              9612 non-null   int64         \n",
      " 3   comentario             9612 non-null   object        \n",
      " 4   fecha                  9612 non-null   datetime64[ns]\n",
      " 5   numLikes               9612 non-null   int64         \n",
      "dtypes: datetime64[ns](1), int64(4), object(1)\n",
      "memory usage: 450.7+ KB\n"
     ]
    }
   ],
   "source": [
    "ComentariosPropuestas.info()"
   ]
  },
  {
   "cell_type": "code",
   "execution_count": 108,
   "id": "3c28c10a",
   "metadata": {},
   "outputs": [],
   "source": [
    "ComentariosPropuestas.to_csv('../data/ComentariosPropuestas.csv', sep = ',', index = False)"
   ]
  },
  {
   "cell_type": "markdown",
   "id": "b8492c34",
   "metadata": {},
   "source": [
    "### COMENTARIOS EVENTOS"
   ]
  },
  {
   "cell_type": "code",
   "execution_count": 42,
   "id": "3346af57",
   "metadata": {},
   "outputs": [],
   "source": [
    "lst = []\n",
    "dateComentarios = []\n",
    "textoComentarios  = []"
   ]
  },
  {
   "cell_type": "code",
   "execution_count": 58,
   "id": "e4d1a6ee",
   "metadata": {},
   "outputs": [],
   "source": [
    "page = 10041\n",
    "titles = []\n",
    "\n",
    "for i in range(20):\n",
    "    URL = f\"https://www.cotilleando.com/threads/la-pombo-company.145437/page-{page}\"\n",
    "    hdr = {'User-Agent': 'Mozilla/5.0 (Macintosh; Intel Mac OS X 10_13_6) AppleWebKit/537.36 (KHTML, like Gecko) Chrome/70.0.3538.77 Safari/537.36'}\n",
    "    req = Request(URL,headers=hdr)\n",
    "    html = request.urlopen(req)\n",
    "    soup = BeautifulSoup(html, \"html.parser\")\n",
    "    page += 1\n",
    "    \n",
    "    for divs in soup.find_all(\"div\",{\"class\" : [\"message-inner\"]}):\n",
    "        dateComentarios.append(divs.find(\"time\",{\"class\": \"u-dt\"}).getText())\n",
    "        textoComentarios.append(divs.find(\"div\",{\"class\": \"bbWrapper\"}).getText())"
   ]
  },
  {
   "cell_type": "code",
   "execution_count": 60,
   "id": "3bdb88d1",
   "metadata": {},
   "outputs": [],
   "source": [
    "ComentariosEventos = pd.DataFrame()"
   ]
  },
  {
   "cell_type": "code",
   "execution_count": 61,
   "id": "2edc4df2",
   "metadata": {},
   "outputs": [],
   "source": [
    "evento = []\n",
    "usuario = []\n",
    "likes = []\n",
    "\n",
    "for i in range(len(textoComentarios)):\n",
    "    usuario.append(random.randint(0, 11999))\n",
    "    evento.append(random.randint(0, 1199))\n",
    "    likes.append(random.randint(0, 27))"
   ]
  },
  {
   "cell_type": "code",
   "execution_count": 62,
   "id": "f56855ad",
   "metadata": {},
   "outputs": [],
   "source": [
    "ComentariosEventos['idEvento'] = evento\n",
    "ComentariosEventos['idUsuario'] = usuario\n",
    "ComentariosEventos['comentario'] = textoComentarios\n",
    "ComentariosEventos['fecha'] = dateComentarios\n",
    "ComentariosEventos['numLikes'] = likes"
   ]
  },
  {
   "cell_type": "code",
   "execution_count": 63,
   "id": "ee0d23f8",
   "metadata": {},
   "outputs": [],
   "source": [
    "ComentariosEventos['idComentarioEvento'] = ComentariosEventos.index"
   ]
  },
  {
   "cell_type": "code",
   "execution_count": 64,
   "id": "e95eb4c1",
   "metadata": {},
   "outputs": [],
   "source": [
    "ComentariosEventos = ComentariosEventos[['idComentarioEvento', 'idEvento', 'idUsuario', 'comentario', 'fecha', 'numLikes']]"
   ]
  },
  {
   "cell_type": "code",
   "execution_count": 65,
   "id": "1e4cfa1f",
   "metadata": {},
   "outputs": [
    {
     "data": {
      "text/html": [
       "<div>\n",
       "<style scoped>\n",
       "    .dataframe tbody tr th:only-of-type {\n",
       "        vertical-align: middle;\n",
       "    }\n",
       "\n",
       "    .dataframe tbody tr th {\n",
       "        vertical-align: top;\n",
       "    }\n",
       "\n",
       "    .dataframe thead th {\n",
       "        text-align: right;\n",
       "    }\n",
       "</style>\n",
       "<table border=\"1\" class=\"dataframe\">\n",
       "  <thead>\n",
       "    <tr style=\"text-align: right;\">\n",
       "      <th></th>\n",
       "      <th>idComentarioEvento</th>\n",
       "      <th>idEvento</th>\n",
       "      <th>idUsuario</th>\n",
       "      <th>comentario</th>\n",
       "      <th>fecha</th>\n",
       "      <th>numLikes</th>\n",
       "    </tr>\n",
       "  </thead>\n",
       "  <tbody>\n",
       "    <tr>\n",
       "      <th>2923</th>\n",
       "      <td>2923</td>\n",
       "      <td>664</td>\n",
       "      <td>2720</td>\n",
       "      <td>\\nPombolisti dijo:\\nY voy a decir que Maria To...</td>\n",
       "      <td>24 Ene 2022</td>\n",
       "      <td>27</td>\n",
       "    </tr>\n",
       "    <tr>\n",
       "      <th>2924</th>\n",
       "      <td>2924</td>\n",
       "      <td>456</td>\n",
       "      <td>11207</td>\n",
       "      <td>\\nQueen29 dijo:\\nPrimas, en qué bolso invertir...</td>\n",
       "      <td>24 Ene 2022</td>\n",
       "      <td>1</td>\n",
       "    </tr>\n",
       "    <tr>\n",
       "      <th>2925</th>\n",
       "      <td>2925</td>\n",
       "      <td>817</td>\n",
       "      <td>4512</td>\n",
       "      <td>\\nKaanphie dijo:\\nRecomendación de endurecedor...</td>\n",
       "      <td>24 Ene 2022</td>\n",
       "      <td>15</td>\n",
       "    </tr>\n",
       "    <tr>\n",
       "      <th>2926</th>\n",
       "      <td>2926</td>\n",
       "      <td>34</td>\n",
       "      <td>5060</td>\n",
       "      <td>\\nWWaldorf dijo:\\nYo AMO el Noe de Vuitton! Ta...</td>\n",
       "      <td>24 Ene 2022</td>\n",
       "      <td>24</td>\n",
       "    </tr>\n",
       "    <tr>\n",
       "      <th>2927</th>\n",
       "      <td>2927</td>\n",
       "      <td>192</td>\n",
       "      <td>7424</td>\n",
       "      <td>\\nO el Hammock, o el puzzle que además está re...</td>\n",
       "      <td>24 Ene 2022</td>\n",
       "      <td>17</td>\n",
       "    </tr>\n",
       "  </tbody>\n",
       "</table>\n",
       "</div>"
      ],
      "text/plain": [
       "      idComentarioEvento  idEvento  idUsuario  \\\n",
       "2923                2923       664       2720   \n",
       "2924                2924       456      11207   \n",
       "2925                2925       817       4512   \n",
       "2926                2926        34       5060   \n",
       "2927                2927       192       7424   \n",
       "\n",
       "                                             comentario        fecha  numLikes  \n",
       "2923  \\nPombolisti dijo:\\nY voy a decir que Maria To...  24 Ene 2022        27  \n",
       "2924  \\nQueen29 dijo:\\nPrimas, en qué bolso invertir...  24 Ene 2022         1  \n",
       "2925  \\nKaanphie dijo:\\nRecomendación de endurecedor...  24 Ene 2022        15  \n",
       "2926  \\nWWaldorf dijo:\\nYo AMO el Noe de Vuitton! Ta...  24 Ene 2022        24  \n",
       "2927  \\nO el Hammock, o el puzzle que además está re...  24 Ene 2022        17  "
      ]
     },
     "execution_count": 65,
     "metadata": {},
     "output_type": "execute_result"
    }
   ],
   "source": [
    "ComentariosEventos.tail()"
   ]
  },
  {
   "cell_type": "code",
   "execution_count": 75,
   "id": "756691ad",
   "metadata": {},
   "outputs": [],
   "source": [
    "for e in ComentariosEventos['fecha']:\n",
    "    ComentariosEventos.fecha = ComentariosEventos.fecha.str.replace(' ', '-')"
   ]
  },
  {
   "cell_type": "code",
   "execution_count": 80,
   "id": "2c1feaff",
   "metadata": {},
   "outputs": [],
   "source": [
    "for e in ComentariosEventos['fecha']:\n",
    "    ComentariosEventos.fecha = ComentariosEventos.fecha.str.replace('Ene', '01')\n",
    "    ComentariosEventos.fecha = ComentariosEventos.fecha.str.replace('Jul', '07')\n",
    "    ComentariosEventos.fecha = ComentariosEventos.fecha.str.replace('Ago', '08')"
   ]
  },
  {
   "cell_type": "code",
   "execution_count": 83,
   "id": "f5b1b0b6",
   "metadata": {},
   "outputs": [],
   "source": [
    "ComentariosEventos['fecha'] = pd.to_datetime(ComentariosEventos['fecha'], dayfirst = True)"
   ]
  },
  {
   "cell_type": "code",
   "execution_count": 85,
   "id": "d8a7ea52",
   "metadata": {},
   "outputs": [],
   "source": [
    "ComentariosEventos['fecha'] = pd.to_datetime(ComentariosEventos['fecha'], yearfirst = True)"
   ]
  },
  {
   "cell_type": "code",
   "execution_count": 86,
   "id": "9a90d74c",
   "metadata": {},
   "outputs": [
    {
     "data": {
      "text/html": [
       "<div>\n",
       "<style scoped>\n",
       "    .dataframe tbody tr th:only-of-type {\n",
       "        vertical-align: middle;\n",
       "    }\n",
       "\n",
       "    .dataframe tbody tr th {\n",
       "        vertical-align: top;\n",
       "    }\n",
       "\n",
       "    .dataframe thead th {\n",
       "        text-align: right;\n",
       "    }\n",
       "</style>\n",
       "<table border=\"1\" class=\"dataframe\">\n",
       "  <thead>\n",
       "    <tr style=\"text-align: right;\">\n",
       "      <th></th>\n",
       "      <th>idComentarioEvento</th>\n",
       "      <th>idEvento</th>\n",
       "      <th>idUsuario</th>\n",
       "      <th>comentario</th>\n",
       "      <th>fecha</th>\n",
       "      <th>numLikes</th>\n",
       "    </tr>\n",
       "  </thead>\n",
       "  <tbody>\n",
       "    <tr>\n",
       "      <th>0</th>\n",
       "      <td>0</td>\n",
       "      <td>1187</td>\n",
       "      <td>543</td>\n",
       "      <td>Expande este mensaje de referencia para saber ...</td>\n",
       "      <td>2018-01-04</td>\n",
       "      <td>12</td>\n",
       "    </tr>\n",
       "    <tr>\n",
       "      <th>1</th>\n",
       "      <td>1</td>\n",
       "      <td>797</td>\n",
       "      <td>7579</td>\n",
       "      <td>\\nlita_bcn dijo:\\nJo primas, pues ya lo siento...</td>\n",
       "      <td>2019-07-12</td>\n",
       "      <td>4</td>\n",
       "    </tr>\n",
       "    <tr>\n",
       "      <th>2</th>\n",
       "      <td>2</td>\n",
       "      <td>292</td>\n",
       "      <td>5100</td>\n",
       "      <td>Maria ya es feliz en la playa.ya no tiene esa ...</td>\n",
       "      <td>2019-07-12</td>\n",
       "      <td>17</td>\n",
       "    </tr>\n",
       "    <tr>\n",
       "      <th>3</th>\n",
       "      <td>3</td>\n",
       "      <td>1012</td>\n",
       "      <td>5910</td>\n",
       "      <td>\\nRosa.13 dijo:\\nEn la privada piden un 8? eso...</td>\n",
       "      <td>2019-07-12</td>\n",
       "      <td>8</td>\n",
       "    </tr>\n",
       "    <tr>\n",
       "      <th>4</th>\n",
       "      <td>4</td>\n",
       "      <td>633</td>\n",
       "      <td>540</td>\n",
       "      <td>\\nlita_bcn dijo:\\nJo primas, pues ya lo siento...</td>\n",
       "      <td>2019-07-12</td>\n",
       "      <td>0</td>\n",
       "    </tr>\n",
       "  </tbody>\n",
       "</table>\n",
       "</div>"
      ],
      "text/plain": [
       "   idComentarioEvento  idEvento  idUsuario  \\\n",
       "0                   0      1187        543   \n",
       "1                   1       797       7579   \n",
       "2                   2       292       5100   \n",
       "3                   3      1012       5910   \n",
       "4                   4       633        540   \n",
       "\n",
       "                                          comentario      fecha  numLikes  \n",
       "0  Expande este mensaje de referencia para saber ... 2018-01-04        12  \n",
       "1  \\nlita_bcn dijo:\\nJo primas, pues ya lo siento... 2019-07-12         4  \n",
       "2  Maria ya es feliz en la playa.ya no tiene esa ... 2019-07-12        17  \n",
       "3  \\nRosa.13 dijo:\\nEn la privada piden un 8? eso... 2019-07-12         8  \n",
       "4  \\nlita_bcn dijo:\\nJo primas, pues ya lo siento... 2019-07-12         0  "
      ]
     },
     "execution_count": 86,
     "metadata": {},
     "output_type": "execute_result"
    }
   ],
   "source": [
    "ComentariosEventos.head()"
   ]
  },
  {
   "cell_type": "code",
   "execution_count": 84,
   "id": "ed319f79",
   "metadata": {},
   "outputs": [
    {
     "name": "stdout",
     "output_type": "stream",
     "text": [
      "<class 'pandas.core.frame.DataFrame'>\n",
      "RangeIndex: 2928 entries, 0 to 2927\n",
      "Data columns (total 6 columns):\n",
      " #   Column              Non-Null Count  Dtype         \n",
      "---  ------              --------------  -----         \n",
      " 0   idComentarioEvento  2928 non-null   int64         \n",
      " 1   idEvento            2928 non-null   int64         \n",
      " 2   idUsuario           2928 non-null   int64         \n",
      " 3   comentario          2928 non-null   object        \n",
      " 4   fecha               2928 non-null   datetime64[ns]\n",
      " 5   numLikes            2928 non-null   int64         \n",
      "dtypes: datetime64[ns](1), int64(4), object(1)\n",
      "memory usage: 137.4+ KB\n"
     ]
    }
   ],
   "source": [
    "ComentariosEventos.info()"
   ]
  },
  {
   "cell_type": "code",
   "execution_count": 87,
   "id": "41903838",
   "metadata": {},
   "outputs": [],
   "source": [
    "ComentariosEventos.to_csv('../data/ComentariosEventos.csv', sep = ',', index = False)"
   ]
  },
  {
   "cell_type": "code",
   "execution_count": null,
   "id": "2071237c",
   "metadata": {},
   "outputs": [],
   "source": []
  }
 ],
 "metadata": {
  "kernelspec": {
   "display_name": "Python 3 (ipykernel)",
   "language": "python",
   "name": "python3"
  },
  "language_info": {
   "codemirror_mode": {
    "name": "ipython",
    "version": 3
   },
   "file_extension": ".py",
   "mimetype": "text/x-python",
   "name": "python",
   "nbconvert_exporter": "python",
   "pygments_lexer": "ipython3",
   "version": "3.9.7"
  }
 },
 "nbformat": 4,
 "nbformat_minor": 5
}
