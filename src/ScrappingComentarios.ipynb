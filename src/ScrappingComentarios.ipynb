{
 "cells": [
  {
   "cell_type": "markdown",
   "id": "06a475bd",
   "metadata": {},
   "source": [
    "# EXTRACCIÓN DE DATOS"
   ]
  },
  {
   "cell_type": "markdown",
   "id": "c32b5219",
   "metadata": {},
   "source": [
    "### COMENTARIOS PROPUESTAS"
   ]
  },
  {
   "cell_type": "code",
   "execution_count": 27,
   "id": "2a28b8f1",
   "metadata": {},
   "outputs": [],
   "source": [
    "# %pip install requests\n",
    "# %pip install urllib3\n",
    "# %pip install bs4\n",
    "\n",
    "import requests\n",
    "\n",
    "from urllib import request, response, error, parse\n",
    "from urllib.request import Request, urlopen\n",
    "from bs4 import BeautifulSoup\n",
    "\n",
    "import pandas as pd\n",
    "import numpy as np\n",
    "\n",
    "from faker import Faker\n",
    "\n",
    "import random\n",
    "from random_username.generate import generate_username\n",
    "\n",
    "random.seed(42)\n",
    "Faker.seed(42)\n",
    "\n",
    "fake = Faker('es_ES')"
   ]
  },
  {
   "cell_type": "code",
   "execution_count": 20,
   "id": "44591676",
   "metadata": {},
   "outputs": [],
   "source": [
    "lst = []\n",
    "dateComentarios = []\n",
    "textoComentarios  = []"
   ]
  },
  {
   "cell_type": "code",
   "execution_count": 21,
   "id": "874e4ffc",
   "metadata": {},
   "outputs": [],
   "source": [
    "page = 1000\n",
    "titles = []\n",
    "\n",
    "for i in range(100):\n",
    "    URL = f\"https://www.cotilleando.com/threads/marta-lopez-alamo.128067/page-{page}\"\n",
    "    hdr = {'User-Agent': 'Mozilla/5.0 (Macintosh; Intel Mac OS X 10_13_6) AppleWebKit/537.36 (KHTML, like Gecko) Chrome/70.0.3538.77 Safari/537.36'}\n",
    "    req = Request(URL,headers=hdr)\n",
    "    html = request.urlopen(req)\n",
    "    soup = BeautifulSoup(html, \"html.parser\")\n",
    "    page += 1\n",
    "    \n",
    "    for divs in soup.find_all(\"div\",{\"class\" : [\"message-inner\"]}):\n",
    "        dateComentarios.append(divs.find(\"time\",{\"class\": \"u-dt\"}).getText())\n",
    "        textoComentarios.append(divs.find(\"div\",{\"class\": \"bbWrapper\"}).getText())"
   ]
  },
  {
   "cell_type": "code",
   "execution_count": null,
   "id": "ed45e90f",
   "metadata": {},
   "outputs": [],
   "source": [
    "ComentariosPropuestas = pd.DataFrame()"
   ]
  },
  {
   "cell_type": "code",
   "execution_count": 34,
   "id": "e3ead3b3",
   "metadata": {},
   "outputs": [],
   "source": [
    "propuesta = []\n",
    "usuario = []\n",
    "likes = []\n",
    "\n",
    "for i in range(len(textoComentarios)):\n",
    "    usuario.append(random.randint(0, 11999))\n",
    "    propuesta.append(random.randint(0, 1199))\n",
    "    likes.append(random.randint(0, 27))"
   ]
  },
  {
   "cell_type": "code",
   "execution_count": 36,
   "id": "43a1f903",
   "metadata": {},
   "outputs": [],
   "source": [
    "ComentariosPropuestas['idPropuesta'] = propuesta\n",
    "ComentariosPropuestas['idUsuario'] = usuario\n",
    "ComentariosPropuestas['comentario'] = textoComentarios\n",
    "ComentariosPropuestas['fecha'] = dateComentarios\n",
    "ComentariosPropuestas['numLikes'] = likes"
   ]
  },
  {
   "cell_type": "code",
   "execution_count": 37,
   "id": "f49f7fd7",
   "metadata": {},
   "outputs": [],
   "source": [
    "ComentariosPropuestas['idComentarioPropuesta'] = ComentariosPropuestas.index"
   ]
  },
  {
   "cell_type": "code",
   "execution_count": 39,
   "id": "33cabdeb",
   "metadata": {},
   "outputs": [],
   "source": [
    "ComentariosPropuestas = ComentariosPropuestas[['idComentarioPropuesta', 'idPropuesta', 'idUsuario', 'comentario', 'fecha', 'numLikes']]"
   ]
  },
  {
   "cell_type": "code",
   "execution_count": 40,
   "id": "10528e14",
   "metadata": {},
   "outputs": [
    {
     "data": {
      "text/html": [
       "<div>\n",
       "<style scoped>\n",
       "    .dataframe tbody tr th:only-of-type {\n",
       "        vertical-align: middle;\n",
       "    }\n",
       "\n",
       "    .dataframe tbody tr th {\n",
       "        vertical-align: top;\n",
       "    }\n",
       "\n",
       "    .dataframe thead th {\n",
       "        text-align: right;\n",
       "    }\n",
       "</style>\n",
       "<table border=\"1\" class=\"dataframe\">\n",
       "  <thead>\n",
       "    <tr style=\"text-align: right;\">\n",
       "      <th></th>\n",
       "      <th>idComentarioPropuesta</th>\n",
       "      <th>idPropuesta</th>\n",
       "      <th>idUsuario</th>\n",
       "      <th>comentario</th>\n",
       "      <th>fecha</th>\n",
       "      <th>numLikes</th>\n",
       "    </tr>\n",
       "  </thead>\n",
       "  <tbody>\n",
       "    <tr>\n",
       "      <th>9607</th>\n",
       "      <td>9607</td>\n",
       "      <td>453</td>\n",
       "      <td>5792</td>\n",
       "      <td>\\nMamakila dijo:\\nYo tengo entendido que tuvie...</td>\n",
       "      <td>1 Ago 2019</td>\n",
       "      <td>10</td>\n",
       "    </tr>\n",
       "    <tr>\n",
       "      <th>9608</th>\n",
       "      <td>9608</td>\n",
       "      <td>927</td>\n",
       "      <td>7894</td>\n",
       "      <td>Os apostais algo a que lo de gabi es tambien g...</td>\n",
       "      <td>1 Ago 2019</td>\n",
       "      <td>15</td>\n",
       "    </tr>\n",
       "    <tr>\n",
       "      <th>9609</th>\n",
       "      <td>9609</td>\n",
       "      <td>1015</td>\n",
       "      <td>11705</td>\n",
       "      <td>\\nMamakila dijo:\\nYo tengo entendido que tuvie...</td>\n",
       "      <td>1 Ago 2019</td>\n",
       "      <td>16</td>\n",
       "    </tr>\n",
       "    <tr>\n",
       "      <th>9610</th>\n",
       "      <td>9610</td>\n",
       "      <td>1152</td>\n",
       "      <td>5934</td>\n",
       "      <td>Os apostais algo a que lo de gabi es tambien g...</td>\n",
       "      <td>1 Ago 2019</td>\n",
       "      <td>4</td>\n",
       "    </tr>\n",
       "    <tr>\n",
       "      <th>9611</th>\n",
       "      <td>9611</td>\n",
       "      <td>566</td>\n",
       "      <td>11272</td>\n",
       "      <td>Vaya tela!!! @Alitadebar sigue contando!!! Y g...</td>\n",
       "      <td>2 Ago 2019</td>\n",
       "      <td>10</td>\n",
       "    </tr>\n",
       "  </tbody>\n",
       "</table>\n",
       "</div>"
      ],
      "text/plain": [
       "      idComentarioPropuesta  idPropuesta  idUsuario  \\\n",
       "9607                   9607          453       5792   \n",
       "9608                   9608          927       7894   \n",
       "9609                   9609         1015      11705   \n",
       "9610                   9610         1152       5934   \n",
       "9611                   9611          566      11272   \n",
       "\n",
       "                                             comentario       fecha  numLikes  \n",
       "9607  \\nMamakila dijo:\\nYo tengo entendido que tuvie...  1 Ago 2019        10  \n",
       "9608  Os apostais algo a que lo de gabi es tambien g...  1 Ago 2019        15  \n",
       "9609  \\nMamakila dijo:\\nYo tengo entendido que tuvie...  1 Ago 2019        16  \n",
       "9610  Os apostais algo a que lo de gabi es tambien g...  1 Ago 2019         4  \n",
       "9611  Vaya tela!!! @Alitadebar sigue contando!!! Y g...  2 Ago 2019        10  "
      ]
     },
     "execution_count": 40,
     "metadata": {},
     "output_type": "execute_result"
    }
   ],
   "source": [
    "ComentariosPropuestas.tail()"
   ]
  },
  {
   "cell_type": "code",
   "execution_count": 41,
   "id": "8943ace1",
   "metadata": {},
   "outputs": [],
   "source": [
    "ComentariosPropuestas.to_csv('../data/ComentariosPropuestas.csv', sep = ',', index = False)"
   ]
  },
  {
   "cell_type": "markdown",
   "id": "de3d91da",
   "metadata": {},
   "source": [
    "### COMENTARIOS EVENTOS"
   ]
  },
  {
   "cell_type": "code",
   "execution_count": 42,
   "id": "04fc8a4f",
   "metadata": {},
   "outputs": [],
   "source": [
    "lst = []\n",
    "dateComentarios = []\n",
    "textoComentarios  = []"
   ]
  },
  {
   "cell_type": "code",
   "execution_count": 58,
   "id": "1ae14147",
   "metadata": {},
   "outputs": [],
   "source": [
    "page = 10041\n",
    "titles = []\n",
    "\n",
    "for i in range(20):\n",
    "    URL = f\"https://www.cotilleando.com/threads/la-pombo-company.145437/page-{page}\"\n",
    "    hdr = {'User-Agent': 'Mozilla/5.0 (Macintosh; Intel Mac OS X 10_13_6) AppleWebKit/537.36 (KHTML, like Gecko) Chrome/70.0.3538.77 Safari/537.36'}\n",
    "    req = Request(URL,headers=hdr)\n",
    "    html = request.urlopen(req)\n",
    "    soup = BeautifulSoup(html, \"html.parser\")\n",
    "    page += 1\n",
    "    \n",
    "    for divs in soup.find_all(\"div\",{\"class\" : [\"message-inner\"]}):\n",
    "        dateComentarios.append(divs.find(\"time\",{\"class\": \"u-dt\"}).getText())\n",
    "        textoComentarios.append(divs.find(\"div\",{\"class\": \"bbWrapper\"}).getText())"
   ]
  },
  {
   "cell_type": "code",
   "execution_count": 60,
   "id": "6aa3c7f4",
   "metadata": {},
   "outputs": [],
   "source": [
    "ComentariosEventos = pd.DataFrame()"
   ]
  },
  {
   "cell_type": "code",
   "execution_count": 61,
   "id": "dbd20100",
   "metadata": {},
   "outputs": [],
   "source": [
    "evento = []\n",
    "usuario = []\n",
    "likes = []\n",
    "\n",
    "for i in range(len(textoComentarios)):\n",
    "    usuario.append(random.randint(0, 11999))\n",
    "    evento.append(random.randint(0, 1199))\n",
    "    likes.append(random.randint(0, 27))"
   ]
  },
  {
   "cell_type": "code",
   "execution_count": 62,
   "id": "d3c84a56",
   "metadata": {},
   "outputs": [],
   "source": [
    "ComentariosEventos['idEvento'] = evento\n",
    "ComentariosEventos['idUsuario'] = usuario\n",
    "ComentariosEventos['comentario'] = textoComentarios\n",
    "ComentariosEventos['fecha'] = dateComentarios\n",
    "ComentariosEventos['numLikes'] = likes"
   ]
  },
  {
   "cell_type": "code",
   "execution_count": 63,
   "id": "75f98b77",
   "metadata": {},
   "outputs": [],
   "source": [
    "ComentariosEventos['idComentarioEvento'] = ComentariosEventos.index"
   ]
  },
  {
   "cell_type": "code",
   "execution_count": 64,
   "id": "4cd5e000",
   "metadata": {},
   "outputs": [],
   "source": [
    "ComentariosEventos = ComentariosEventos[['idComentarioEvento', 'idEvento', 'idUsuario', 'comentario', 'fecha', 'numLikes']]"
   ]
  },
  {
   "cell_type": "code",
   "execution_count": 65,
   "id": "b3e26d52",
   "metadata": {},
   "outputs": [
    {
     "data": {
      "text/html": [
       "<div>\n",
       "<style scoped>\n",
       "    .dataframe tbody tr th:only-of-type {\n",
       "        vertical-align: middle;\n",
       "    }\n",
       "\n",
       "    .dataframe tbody tr th {\n",
       "        vertical-align: top;\n",
       "    }\n",
       "\n",
       "    .dataframe thead th {\n",
       "        text-align: right;\n",
       "    }\n",
       "</style>\n",
       "<table border=\"1\" class=\"dataframe\">\n",
       "  <thead>\n",
       "    <tr style=\"text-align: right;\">\n",
       "      <th></th>\n",
       "      <th>idComentarioEvento</th>\n",
       "      <th>idEvento</th>\n",
       "      <th>idUsuario</th>\n",
       "      <th>comentario</th>\n",
       "      <th>fecha</th>\n",
       "      <th>numLikes</th>\n",
       "    </tr>\n",
       "  </thead>\n",
       "  <tbody>\n",
       "    <tr>\n",
       "      <th>2923</th>\n",
       "      <td>2923</td>\n",
       "      <td>664</td>\n",
       "      <td>2720</td>\n",
       "      <td>\\nPombolisti dijo:\\nY voy a decir que Maria To...</td>\n",
       "      <td>24 Ene 2022</td>\n",
       "      <td>27</td>\n",
       "    </tr>\n",
       "    <tr>\n",
       "      <th>2924</th>\n",
       "      <td>2924</td>\n",
       "      <td>456</td>\n",
       "      <td>11207</td>\n",
       "      <td>\\nQueen29 dijo:\\nPrimas, en qué bolso invertir...</td>\n",
       "      <td>24 Ene 2022</td>\n",
       "      <td>1</td>\n",
       "    </tr>\n",
       "    <tr>\n",
       "      <th>2925</th>\n",
       "      <td>2925</td>\n",
       "      <td>817</td>\n",
       "      <td>4512</td>\n",
       "      <td>\\nKaanphie dijo:\\nRecomendación de endurecedor...</td>\n",
       "      <td>24 Ene 2022</td>\n",
       "      <td>15</td>\n",
       "    </tr>\n",
       "    <tr>\n",
       "      <th>2926</th>\n",
       "      <td>2926</td>\n",
       "      <td>34</td>\n",
       "      <td>5060</td>\n",
       "      <td>\\nWWaldorf dijo:\\nYo AMO el Noe de Vuitton! Ta...</td>\n",
       "      <td>24 Ene 2022</td>\n",
       "      <td>24</td>\n",
       "    </tr>\n",
       "    <tr>\n",
       "      <th>2927</th>\n",
       "      <td>2927</td>\n",
       "      <td>192</td>\n",
       "      <td>7424</td>\n",
       "      <td>\\nO el Hammock, o el puzzle que además está re...</td>\n",
       "      <td>24 Ene 2022</td>\n",
       "      <td>17</td>\n",
       "    </tr>\n",
       "  </tbody>\n",
       "</table>\n",
       "</div>"
      ],
      "text/plain": [
       "      idComentarioEvento  idEvento  idUsuario  \\\n",
       "2923                2923       664       2720   \n",
       "2924                2924       456      11207   \n",
       "2925                2925       817       4512   \n",
       "2926                2926        34       5060   \n",
       "2927                2927       192       7424   \n",
       "\n",
       "                                             comentario        fecha  numLikes  \n",
       "2923  \\nPombolisti dijo:\\nY voy a decir que Maria To...  24 Ene 2022        27  \n",
       "2924  \\nQueen29 dijo:\\nPrimas, en qué bolso invertir...  24 Ene 2022         1  \n",
       "2925  \\nKaanphie dijo:\\nRecomendación de endurecedor...  24 Ene 2022        15  \n",
       "2926  \\nWWaldorf dijo:\\nYo AMO el Noe de Vuitton! Ta...  24 Ene 2022        24  \n",
       "2927  \\nO el Hammock, o el puzzle que además está re...  24 Ene 2022        17  "
      ]
     },
     "execution_count": 65,
     "metadata": {},
     "output_type": "execute_result"
    }
   ],
   "source": [
    "ComentariosEventos.tail()"
   ]
  },
  {
   "cell_type": "code",
   "execution_count": 66,
   "id": "396bd2db",
   "metadata": {},
   "outputs": [],
   "source": [
    "ComentariosEventos.to_csv('../data/ComentariosEventos.csv', sep = ',', index = False)"
   ]
  }
 ],
 "metadata": {
  "kernelspec": {
   "display_name": "Python 3 (ipykernel)",
   "language": "python",
   "name": "python3"
  },
  "language_info": {
   "codemirror_mode": {
    "name": "ipython",
    "version": 3
   },
   "file_extension": ".py",
   "mimetype": "text/x-python",
   "name": "python",
   "nbconvert_exporter": "python",
   "pygments_lexer": "ipython3",
   "version": "3.9.7"
  }
 },
 "nbformat": 4,
 "nbformat_minor": 5
}
