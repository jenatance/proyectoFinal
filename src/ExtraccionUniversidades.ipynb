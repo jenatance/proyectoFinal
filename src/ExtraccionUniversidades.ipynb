{
 "cells": [
  {
   "cell_type": "code",
   "execution_count": 5,
   "id": "c59b7f39",
   "metadata": {},
   "outputs": [
    {
     "name": "stdout",
     "output_type": "stream",
     "text": [
      "Requirement already satisfied: requests in c:\\users\\carlos\\anaconda3\\lib\\site-packages (2.27.1)\n",
      "Requirement already satisfied: certifi>=2017.4.17 in c:\\users\\carlos\\anaconda3\\lib\\site-packages (from requests) (2021.10.8)\n",
      "Requirement already satisfied: idna<4,>=2.5 in c:\\users\\carlos\\anaconda3\\lib\\site-packages (from requests) (3.3)\n",
      "Requirement already satisfied: urllib3<1.27,>=1.21.1 in c:\\users\\carlos\\anaconda3\\lib\\site-packages (from requests) (1.26.9)\n",
      "Requirement already satisfied: charset-normalizer~=2.0.0 in c:\\users\\carlos\\anaconda3\\lib\\site-packages (from requests) (2.0.4)\n"
     ]
    }
   ],
   "source": [
    "!pip install requests\n",
    "import pandas as pd\n",
    "import requests\n",
    "from bs4 import BeautifulSoup"
   ]
  },
  {
   "cell_type": "code",
   "execution_count": 6,
   "id": "660e7a96",
   "metadata": {},
   "outputs": [
    {
     "name": "stdout",
     "output_type": "stream",
     "text": [
      "200\n"
     ]
    }
   ],
   "source": [
    "# get the response in the form of html\n",
    "wikiurl=\"https://es.wikipedia.org/wiki/Anexo:Universidades_de_Espa%C3%B1a\"\n",
    "table_class=\"wikitable sortable jquery-tablesorter\"\n",
    "response=requests.get(wikiurl)\n",
    "print(response.status_code)"
   ]
  },
  {
   "cell_type": "code",
   "execution_count": 7,
   "id": "343386c5",
   "metadata": {},
   "outputs": [],
   "source": [
    "# parse data from the html into a beautifulsoup object\n",
    "soup = BeautifulSoup(response.text, 'html.parser')\n",
    "indiatable=soup.find('table',{'class':\"wikitable\"})"
   ]
  },
  {
   "cell_type": "code",
   "execution_count": 8,
   "id": "defc0e0e",
   "metadata": {
    "scrolled": true
   },
   "outputs": [
    {
     "name": "stdout",
     "output_type": "stream",
     "text": [
      "              Universidad Sede principal Comunidad autónoma  Fundación  \\\n",
      "0  Universidad de Sevilla        Sevilla          Andalucía       1505   \n",
      "1  Universidad de Granada        Granada          Andalucía       1531   \n",
      "2  Universidad de Córdoba        Córdoba          Andalucía       1972   \n",
      "3   Universidad de Málaga         Málaga          Andalucía       1972   \n",
      "4    Universidad de Cádiz          Cádiz          Andalucía       1979   \n",
      "\n",
      "      Tipo  \n",
      "0  Pública  \n",
      "1  Pública  \n",
      "2  Pública  \n",
      "3  Pública  \n",
      "4  Pública  \n"
     ]
    }
   ],
   "source": [
    "df=pd.read_html(str(indiatable))\n",
    "# convert list to dataframe\n",
    "df=pd.DataFrame(df[0])\n",
    "print(df.head())"
   ]
  },
  {
   "cell_type": "code",
   "execution_count": 11,
   "id": "9ab13d1a",
   "metadata": {},
   "outputs": [
    {
     "data": {
      "text/html": [
       "<div>\n",
       "<style scoped>\n",
       "    .dataframe tbody tr th:only-of-type {\n",
       "        vertical-align: middle;\n",
       "    }\n",
       "\n",
       "    .dataframe tbody tr th {\n",
       "        vertical-align: top;\n",
       "    }\n",
       "\n",
       "    .dataframe thead th {\n",
       "        text-align: right;\n",
       "    }\n",
       "</style>\n",
       "<table border=\"1\" class=\"dataframe\">\n",
       "  <thead>\n",
       "    <tr style=\"text-align: right;\">\n",
       "      <th></th>\n",
       "      <th>Universidad</th>\n",
       "      <th>Sede principal</th>\n",
       "      <th>Comunidad autónoma</th>\n",
       "      <th>Fundación</th>\n",
       "      <th>Tipo</th>\n",
       "    </tr>\n",
       "  </thead>\n",
       "  <tbody>\n",
       "    <tr>\n",
       "      <th>0</th>\n",
       "      <td>Universidad de Sevilla</td>\n",
       "      <td>Sevilla</td>\n",
       "      <td>Andalucía</td>\n",
       "      <td>1505</td>\n",
       "      <td>Pública</td>\n",
       "    </tr>\n",
       "    <tr>\n",
       "      <th>1</th>\n",
       "      <td>Universidad de Granada</td>\n",
       "      <td>Granada</td>\n",
       "      <td>Andalucía</td>\n",
       "      <td>1531</td>\n",
       "      <td>Pública</td>\n",
       "    </tr>\n",
       "    <tr>\n",
       "      <th>2</th>\n",
       "      <td>Universidad de Córdoba</td>\n",
       "      <td>Córdoba</td>\n",
       "      <td>Andalucía</td>\n",
       "      <td>1972</td>\n",
       "      <td>Pública</td>\n",
       "    </tr>\n",
       "    <tr>\n",
       "      <th>3</th>\n",
       "      <td>Universidad de Málaga</td>\n",
       "      <td>Málaga</td>\n",
       "      <td>Andalucía</td>\n",
       "      <td>1972</td>\n",
       "      <td>Pública</td>\n",
       "    </tr>\n",
       "    <tr>\n",
       "      <th>4</th>\n",
       "      <td>Universidad de Cádiz</td>\n",
       "      <td>Cádiz</td>\n",
       "      <td>Andalucía</td>\n",
       "      <td>1979</td>\n",
       "      <td>Pública</td>\n",
       "    </tr>\n",
       "  </tbody>\n",
       "</table>\n",
       "</div>"
      ],
      "text/plain": [
       "              Universidad Sede principal Comunidad autónoma  Fundación  \\\n",
       "0  Universidad de Sevilla        Sevilla          Andalucía       1505   \n",
       "1  Universidad de Granada        Granada          Andalucía       1531   \n",
       "2  Universidad de Córdoba        Córdoba          Andalucía       1972   \n",
       "3   Universidad de Málaga         Málaga          Andalucía       1972   \n",
       "4    Universidad de Cádiz          Cádiz          Andalucía       1979   \n",
       "\n",
       "      Tipo  \n",
       "0  Pública  \n",
       "1  Pública  \n",
       "2  Pública  \n",
       "3  Pública  \n",
       "4  Pública  "
      ]
     },
     "execution_count": 11,
     "metadata": {},
     "output_type": "execute_result"
    }
   ],
   "source": [
    "df.head()"
   ]
  },
  {
   "cell_type": "code",
   "execution_count": 10,
   "id": "093ac92d",
   "metadata": {},
   "outputs": [],
   "source": [
    "df.to_csv('Universidades.csv')\n"
   ]
  }
 ],
 "metadata": {
  "kernelspec": {
   "display_name": "Python 3 (ipykernel)",
   "language": "python",
   "name": "python3"
  },
  "language_info": {
   "codemirror_mode": {
    "name": "ipython",
    "version": 3
   },
   "file_extension": ".py",
   "mimetype": "text/x-python",
   "name": "python",
   "nbconvert_exporter": "python",
   "pygments_lexer": "ipython3",
   "version": "3.9.7"
  }
 },
 "nbformat": 4,
 "nbformat_minor": 5
}
