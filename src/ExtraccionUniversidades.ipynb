{
 "cells": [
  {
   "cell_type": "markdown",
   "id": "9a014868",
   "metadata": {},
   "source": [
    "# EXTRACCIÓN DE DATOS"
   ]
  },
  {
   "cell_type": "markdown",
   "id": "9c427dcf",
   "metadata": {},
   "source": [
    "### UNIVERSIDADES"
   ]
  },
  {
   "cell_type": "code",
   "execution_count": 1,
   "id": "c59b7f39",
   "metadata": {},
   "outputs": [],
   "source": [
    "# %pip install requests\n",
    "\n",
    "import pandas as pd\n",
    "import requests\n",
    "from bs4 import BeautifulSoup"
   ]
  },
  {
   "cell_type": "code",
   "execution_count": 2,
   "id": "660e7a96",
   "metadata": {},
   "outputs": [
    {
     "data": {
      "text/plain": [
       "200"
      ]
     },
     "execution_count": 2,
     "metadata": {},
     "output_type": "execute_result"
    }
   ],
   "source": [
    "wikiurl = \"https://es.wikipedia.org/wiki/Anexo:Universidades_de_Espa%C3%B1a\"\n",
    "table_class = \"wikitable sortable jquery-tablesorter\"\n",
    "response = requests.get(wikiurl)\n",
    "response.status_code"
   ]
  },
  {
   "cell_type": "code",
   "execution_count": 3,
   "id": "343386c5",
   "metadata": {},
   "outputs": [],
   "source": [
    "soup = BeautifulSoup(response.text, 'html.parser')\n",
    "table = soup.find('table',{'class':\"wikitable\"})"
   ]
  },
  {
   "cell_type": "code",
   "execution_count": 4,
   "id": "defc0e0e",
   "metadata": {
    "scrolled": true
   },
   "outputs": [],
   "source": [
    "universidades = pd.read_html(str(table))\n",
    "universidades = pd.DataFrame(universidades[0])"
   ]
  },
  {
   "cell_type": "code",
   "execution_count": 5,
   "id": "9f0ebc9a",
   "metadata": {},
   "outputs": [],
   "source": [
    "universidades['idUniversidad'] = universidades.index"
   ]
  },
  {
   "cell_type": "code",
   "execution_count": 6,
   "id": "ea09b47f",
   "metadata": {},
   "outputs": [
    {
     "name": "stdout",
     "output_type": "stream",
     "text": [
      "<class 'pandas.core.frame.DataFrame'>\n",
      "RangeIndex: 92 entries, 0 to 91\n",
      "Data columns (total 6 columns):\n",
      " #   Column              Non-Null Count  Dtype \n",
      "---  ------              --------------  ----- \n",
      " 0   Universidad         92 non-null     object\n",
      " 1   Sede principal      92 non-null     object\n",
      " 2   Comunidad autónoma  92 non-null     object\n",
      " 3   Fundación           92 non-null     int64 \n",
      " 4   Tipo                92 non-null     object\n",
      " 5   idUniversidad       92 non-null     int64 \n",
      "dtypes: int64(2), object(4)\n",
      "memory usage: 4.4+ KB\n"
     ]
    }
   ],
   "source": [
    "universidades.info()"
   ]
  },
  {
   "cell_type": "code",
   "execution_count": 7,
   "id": "d3a8041b",
   "metadata": {},
   "outputs": [],
   "source": [
    "universidades['nombre'] = universidades['Universidad']\n",
    "universidades['sede'] = universidades['Sede principal']\n",
    "universidades['comunidadAutonoma'] = universidades['Comunidad autónoma']\n",
    "universidades['fundacion'] = universidades['Fundación']\n",
    "universidades['tipo'] = universidades['Tipo']"
   ]
  },
  {
   "cell_type": "code",
   "execution_count": 8,
   "id": "0fbe33a0",
   "metadata": {},
   "outputs": [],
   "source": [
    "universidades = universidades.drop(['Universidad'], axis = 1)\n",
    "universidades = universidades.drop(['Sede principal'], axis = 1)\n",
    "universidades = universidades.drop(['Comunidad autónoma'], axis = 1)\n",
    "universidades = universidades.drop(['Fundación'], axis = 1)\n",
    "universidades = universidades.drop(['Tipo'], axis = 1)"
   ]
  },
  {
   "cell_type": "code",
   "execution_count": 9,
   "id": "532d5f9c",
   "metadata": {},
   "outputs": [
    {
     "data": {
      "text/plain": [
       "array(['Pública', 'Privada, Católica', 'Privada, no presencial',\n",
       "       'Privada', 'Privada, Católica[2]\\u200b', 'Pública, no presencial',\n",
       "       'Privada, eclesiástica'], dtype=object)"
      ]
     },
     "execution_count": 9,
     "metadata": {},
     "output_type": "execute_result"
    }
   ],
   "source": [
    "universidades['tipo'].unique()"
   ]
  },
  {
   "cell_type": "code",
   "execution_count": 10,
   "id": "6a376e78",
   "metadata": {},
   "outputs": [],
   "source": [
    "for e in universidades['tipo']:\n",
    "    if 'Pública' in e:\n",
    "        universidades.tipo = universidades.tipo.replace(e, 'Pública')\n",
    "    elif 'Privada' in e:\n",
    "        universidades.tipo = universidades.tipo.replace(e, 'Privada')"
   ]
  },
  {
   "cell_type": "code",
   "execution_count": 11,
   "id": "df5d11af",
   "metadata": {},
   "outputs": [
    {
     "data": {
      "text/plain": [
       "array(['Pública', 'Privada'], dtype=object)"
      ]
     },
     "execution_count": 11,
     "metadata": {},
     "output_type": "execute_result"
    }
   ],
   "source": [
    "universidades['tipo'].unique()"
   ]
  },
  {
   "cell_type": "code",
   "execution_count": 12,
   "id": "df0c8ebd",
   "metadata": {},
   "outputs": [
    {
     "data": {
      "text/html": [
       "<div>\n",
       "<style scoped>\n",
       "    .dataframe tbody tr th:only-of-type {\n",
       "        vertical-align: middle;\n",
       "    }\n",
       "\n",
       "    .dataframe tbody tr th {\n",
       "        vertical-align: top;\n",
       "    }\n",
       "\n",
       "    .dataframe thead th {\n",
       "        text-align: right;\n",
       "    }\n",
       "</style>\n",
       "<table border=\"1\" class=\"dataframe\">\n",
       "  <thead>\n",
       "    <tr style=\"text-align: right;\">\n",
       "      <th></th>\n",
       "      <th>idUniversidad</th>\n",
       "      <th>nombre</th>\n",
       "      <th>sede</th>\n",
       "      <th>comunidadAutonoma</th>\n",
       "      <th>fundacion</th>\n",
       "      <th>tipo</th>\n",
       "    </tr>\n",
       "  </thead>\n",
       "  <tbody>\n",
       "    <tr>\n",
       "      <th>82</th>\n",
       "      <td>82</td>\n",
       "      <td>Universidad de Diseño, Innovación y Tecnología</td>\n",
       "      <td>Madrid</td>\n",
       "      <td>Comunidad de Madrid</td>\n",
       "      <td>2022</td>\n",
       "      <td>Privada</td>\n",
       "    </tr>\n",
       "    <tr>\n",
       "      <th>83</th>\n",
       "      <td>83</td>\n",
       "      <td>Universidad de Murcia</td>\n",
       "      <td>Murcia</td>\n",
       "      <td>Región de Murcia</td>\n",
       "      <td>1914</td>\n",
       "      <td>Pública</td>\n",
       "    </tr>\n",
       "    <tr>\n",
       "      <th>84</th>\n",
       "      <td>84</td>\n",
       "      <td>Universidad Católica San Antonio</td>\n",
       "      <td>Guadalupe - Murcia</td>\n",
       "      <td>Región de Murcia</td>\n",
       "      <td>1996</td>\n",
       "      <td>Privada</td>\n",
       "    </tr>\n",
       "    <tr>\n",
       "      <th>85</th>\n",
       "      <td>85</td>\n",
       "      <td>Universidad Politécnica de Cartagena</td>\n",
       "      <td>Cartagena</td>\n",
       "      <td>Región de Murcia</td>\n",
       "      <td>1998</td>\n",
       "      <td>Pública</td>\n",
       "    </tr>\n",
       "    <tr>\n",
       "      <th>86</th>\n",
       "      <td>86</td>\n",
       "      <td>Universidad de Navarra</td>\n",
       "      <td>Pamplona</td>\n",
       "      <td>Navarra</td>\n",
       "      <td>1952</td>\n",
       "      <td>Privada</td>\n",
       "    </tr>\n",
       "    <tr>\n",
       "      <th>87</th>\n",
       "      <td>87</td>\n",
       "      <td>Universidad Pública de Navarra</td>\n",
       "      <td>Pamplona</td>\n",
       "      <td>Navarra</td>\n",
       "      <td>1987</td>\n",
       "      <td>Pública</td>\n",
       "    </tr>\n",
       "    <tr>\n",
       "      <th>88</th>\n",
       "      <td>88</td>\n",
       "      <td>Universidad de Deusto</td>\n",
       "      <td>Bilbao</td>\n",
       "      <td>País Vasco</td>\n",
       "      <td>1886</td>\n",
       "      <td>Privada</td>\n",
       "    </tr>\n",
       "    <tr>\n",
       "      <th>89</th>\n",
       "      <td>89</td>\n",
       "      <td>Universidad del País Vasco</td>\n",
       "      <td>Lejona</td>\n",
       "      <td>País Vasco</td>\n",
       "      <td>1980</td>\n",
       "      <td>Pública</td>\n",
       "    </tr>\n",
       "    <tr>\n",
       "      <th>90</th>\n",
       "      <td>90</td>\n",
       "      <td>Universidad de Mondragón</td>\n",
       "      <td>Mondragón</td>\n",
       "      <td>País Vasco</td>\n",
       "      <td>1997</td>\n",
       "      <td>Privada</td>\n",
       "    </tr>\n",
       "    <tr>\n",
       "      <th>91</th>\n",
       "      <td>91</td>\n",
       "      <td>European University Vitoria-Gasteiz</td>\n",
       "      <td>Vitoria</td>\n",
       "      <td>País Vasco</td>\n",
       "      <td>2023</td>\n",
       "      <td>Privada</td>\n",
       "    </tr>\n",
       "  </tbody>\n",
       "</table>\n",
       "</div>"
      ],
      "text/plain": [
       "    idUniversidad                                          nombre  \\\n",
       "82             82  Universidad de Diseño, Innovación y Tecnología   \n",
       "83             83                           Universidad de Murcia   \n",
       "84             84                Universidad Católica San Antonio   \n",
       "85             85            Universidad Politécnica de Cartagena   \n",
       "86             86                          Universidad de Navarra   \n",
       "87             87                  Universidad Pública de Navarra   \n",
       "88             88                           Universidad de Deusto   \n",
       "89             89                      Universidad del País Vasco   \n",
       "90             90                        Universidad de Mondragón   \n",
       "91             91             European University Vitoria-Gasteiz   \n",
       "\n",
       "                  sede    comunidadAutonoma  fundacion     tipo  \n",
       "82              Madrid  Comunidad de Madrid       2022  Privada  \n",
       "83              Murcia     Región de Murcia       1914  Pública  \n",
       "84  Guadalupe - Murcia     Región de Murcia       1996  Privada  \n",
       "85           Cartagena     Región de Murcia       1998  Pública  \n",
       "86            Pamplona              Navarra       1952  Privada  \n",
       "87            Pamplona              Navarra       1987  Pública  \n",
       "88              Bilbao           País Vasco       1886  Privada  \n",
       "89              Lejona           País Vasco       1980  Pública  \n",
       "90           Mondragón           País Vasco       1997  Privada  \n",
       "91             Vitoria           País Vasco       2023  Privada  "
      ]
     },
     "execution_count": 12,
     "metadata": {},
     "output_type": "execute_result"
    }
   ],
   "source": [
    "universidades.tail(10)"
   ]
  },
  {
   "cell_type": "code",
   "execution_count": 14,
   "id": "093ac92d",
   "metadata": {},
   "outputs": [],
   "source": [
    "universidades.to_csv('../data/Universidades.csv', sep = ',', index = False)"
   ]
  }
 ],
 "metadata": {
  "kernelspec": {
   "display_name": "Python 3 (ipykernel)",
   "language": "python",
   "name": "python3"
  },
  "language_info": {
   "codemirror_mode": {
    "name": "ipython",
    "version": 3
   },
   "file_extension": ".py",
   "mimetype": "text/x-python",
   "name": "python",
   "nbconvert_exporter": "python",
   "pygments_lexer": "ipython3",
   "version": "3.9.7"
  }
 },
 "nbformat": 4,
 "nbformat_minor": 5
}
